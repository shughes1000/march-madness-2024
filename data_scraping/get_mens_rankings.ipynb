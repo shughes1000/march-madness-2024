{
  "cells": [
    {
      "cell_type": "markdown",
      "metadata": {},
      "source": [
        "# Men's Rankings"
      ]
    },
    {
      "cell_type": "markdown",
      "metadata": {},
      "source": [
        "Get ratings of each team in a given year. This file needs to be ran for every relevant year (2012 to 2024). "
      ]
    },
    {
      "cell_type": "markdown",
      "metadata": {
        "id": "fUYfP8R76xx3"
      },
      "source": [
        "### Web Scraping"
      ]
    },
    {
      "cell_type": "markdown",
      "metadata": {
        "id": "4UIS9zyh6zdf"
      },
      "source": [
        "Fair warning that this program unfortunately takes a very long time to run due to web scraping limits set by Sports Reference"
      ]
    },
    {
      "cell_type": "code",
      "execution_count": 1,
      "metadata": {
        "colab": {
          "base_uri": "https://localhost:8080/",
          "height": 423
        },
        "id": "_yShyhzaabwn",
        "outputId": "3524f208-25df-405d-86cd-7d10b5c5f932"
      },
      "outputs": [
        {
          "data": {
            "text/html": [
              "<div>\n",
              "<style scoped>\n",
              "    .dataframe tbody tr th:only-of-type {\n",
              "        vertical-align: middle;\n",
              "    }\n",
              "\n",
              "    .dataframe tbody tr th {\n",
              "        vertical-align: top;\n",
              "    }\n",
              "\n",
              "    .dataframe thead th {\n",
              "        text-align: right;\n",
              "    }\n",
              "</style>\n",
              "<table border=\"1\" class=\"dataframe\">\n",
              "  <thead>\n",
              "    <tr style=\"text-align: right;\">\n",
              "      <th></th>\n",
              "      <th>Rk</th>\n",
              "      <th>School</th>\n",
              "      <th>City, State</th>\n",
              "      <th>From</th>\n",
              "      <th>To</th>\n",
              "      <th>Yrs</th>\n",
              "      <th>G</th>\n",
              "      <th>W</th>\n",
              "      <th>L</th>\n",
              "      <th>W-L%</th>\n",
              "      <th>SRS</th>\n",
              "      <th>SOS</th>\n",
              "      <th>AP</th>\n",
              "      <th>CREG</th>\n",
              "      <th>CTRN</th>\n",
              "      <th>NCAA</th>\n",
              "      <th>FF</th>\n",
              "      <th>NC</th>\n",
              "    </tr>\n",
              "  </thead>\n",
              "  <tbody>\n",
              "    <tr>\n",
              "      <th>0</th>\n",
              "      <td>1</td>\n",
              "      <td>Abilene Christian</td>\n",
              "      <td>Abilene, Texas</td>\n",
              "      <td>1971</td>\n",
              "      <td>2024</td>\n",
              "      <td>14</td>\n",
              "      <td>422</td>\n",
              "      <td>226</td>\n",
              "      <td>196</td>\n",
              "      <td>.536</td>\n",
              "      <td>-7.69</td>\n",
              "      <td>-5.57</td>\n",
              "      <td>0</td>\n",
              "      <td>0</td>\n",
              "      <td>2</td>\n",
              "      <td>2</td>\n",
              "      <td>0</td>\n",
              "      <td>0</td>\n",
              "    </tr>\n",
              "    <tr>\n",
              "      <th>1</th>\n",
              "      <td>2</td>\n",
              "      <td>Air Force</td>\n",
              "      <td>USAF Academy, Colorado</td>\n",
              "      <td>1958</td>\n",
              "      <td>2024</td>\n",
              "      <td>67</td>\n",
              "      <td>1843</td>\n",
              "      <td>794</td>\n",
              "      <td>1049</td>\n",
              "      <td>.431</td>\n",
              "      <td>-2.79</td>\n",
              "      <td>1.34</td>\n",
              "      <td>0</td>\n",
              "      <td>1</td>\n",
              "      <td>0</td>\n",
              "      <td>4</td>\n",
              "      <td>0</td>\n",
              "      <td>0</td>\n",
              "    </tr>\n",
              "    <tr>\n",
              "      <th>2</th>\n",
              "      <td>3</td>\n",
              "      <td>Akron</td>\n",
              "      <td>Akron, Ohio</td>\n",
              "      <td>1902</td>\n",
              "      <td>2024</td>\n",
              "      <td>73</td>\n",
              "      <td>1717</td>\n",
              "      <td>1027</td>\n",
              "      <td>690</td>\n",
              "      <td>.598</td>\n",
              "      <td>0.01</td>\n",
              "      <td>-1.56</td>\n",
              "      <td>0</td>\n",
              "      <td>9</td>\n",
              "      <td>6</td>\n",
              "      <td>6</td>\n",
              "      <td>0</td>\n",
              "      <td>0</td>\n",
              "    </tr>\n",
              "    <tr>\n",
              "      <th>3</th>\n",
              "      <td>4</td>\n",
              "      <td>Alabama</td>\n",
              "      <td>Tuscaloosa, Alabama</td>\n",
              "      <td>1913</td>\n",
              "      <td>2024</td>\n",
              "      <td>111</td>\n",
              "      <td>2891</td>\n",
              "      <td>1790</td>\n",
              "      <td>1100</td>\n",
              "      <td>.619</td>\n",
              "      <td>7.95</td>\n",
              "      <td>4.92</td>\n",
              "      <td>17</td>\n",
              "      <td>12</td>\n",
              "      <td>10</td>\n",
              "      <td>25</td>\n",
              "      <td>0</td>\n",
              "      <td>0</td>\n",
              "    </tr>\n",
              "    <tr>\n",
              "      <th>4</th>\n",
              "      <td>5</td>\n",
              "      <td>Alabama A&amp;M</td>\n",
              "      <td>Normal, Alabama</td>\n",
              "      <td>2000</td>\n",
              "      <td>2024</td>\n",
              "      <td>25</td>\n",
              "      <td>721</td>\n",
              "      <td>276</td>\n",
              "      <td>445</td>\n",
              "      <td>.383</td>\n",
              "      <td>-16.62</td>\n",
              "      <td>-11.07</td>\n",
              "      <td>0</td>\n",
              "      <td>1</td>\n",
              "      <td>1</td>\n",
              "      <td>1</td>\n",
              "      <td>0</td>\n",
              "      <td>0</td>\n",
              "    </tr>\n",
              "    <tr>\n",
              "      <th>...</th>\n",
              "      <td>...</td>\n",
              "      <td>...</td>\n",
              "      <td>...</td>\n",
              "      <td>...</td>\n",
              "      <td>...</td>\n",
              "      <td>...</td>\n",
              "      <td>...</td>\n",
              "      <td>...</td>\n",
              "      <td>...</td>\n",
              "      <td>...</td>\n",
              "      <td>...</td>\n",
              "      <td>...</td>\n",
              "      <td>...</td>\n",
              "      <td>...</td>\n",
              "      <td>...</td>\n",
              "      <td>...</td>\n",
              "      <td>...</td>\n",
              "      <td>...</td>\n",
              "    </tr>\n",
              "    <tr>\n",
              "      <th>357</th>\n",
              "      <td>487</td>\n",
              "      <td>Wright State</td>\n",
              "      <td>Dayton, Ohio</td>\n",
              "      <td>1988</td>\n",
              "      <td>2024</td>\n",
              "      <td>37</td>\n",
              "      <td>1128</td>\n",
              "      <td>631</td>\n",
              "      <td>497</td>\n",
              "      <td>.559</td>\n",
              "      <td>-1.32</td>\n",
              "      <td>-2.56</td>\n",
              "      <td>0</td>\n",
              "      <td>4</td>\n",
              "      <td>4</td>\n",
              "      <td>4</td>\n",
              "      <td>0</td>\n",
              "      <td>0</td>\n",
              "    </tr>\n",
              "    <tr>\n",
              "      <th>358</th>\n",
              "      <td>488</td>\n",
              "      <td>Wyoming</td>\n",
              "      <td>Laramie, Wyoming</td>\n",
              "      <td>1905</td>\n",
              "      <td>2024</td>\n",
              "      <td>119</td>\n",
              "      <td>2876</td>\n",
              "      <td>1609</td>\n",
              "      <td>1267</td>\n",
              "      <td>.559</td>\n",
              "      <td>2.73</td>\n",
              "      <td>2.74</td>\n",
              "      <td>4</td>\n",
              "      <td>21</td>\n",
              "      <td>3</td>\n",
              "      <td>16</td>\n",
              "      <td>1</td>\n",
              "      <td>1</td>\n",
              "    </tr>\n",
              "    <tr>\n",
              "      <th>359</th>\n",
              "      <td>489</td>\n",
              "      <td>Xavier</td>\n",
              "      <td>Cincinnati, Ohio</td>\n",
              "      <td>1920</td>\n",
              "      <td>2024</td>\n",
              "      <td>103</td>\n",
              "      <td>2697</td>\n",
              "      <td>1611</td>\n",
              "      <td>1086</td>\n",
              "      <td>.597</td>\n",
              "      <td>6.07</td>\n",
              "      <td>3.99</td>\n",
              "      <td>13</td>\n",
              "      <td>18</td>\n",
              "      <td>9</td>\n",
              "      <td>29</td>\n",
              "      <td>0</td>\n",
              "      <td>0</td>\n",
              "    </tr>\n",
              "    <tr>\n",
              "      <th>360</th>\n",
              "      <td>490</td>\n",
              "      <td>Yale</td>\n",
              "      <td>New Haven, Connecticut</td>\n",
              "      <td>1896</td>\n",
              "      <td>2024</td>\n",
              "      <td>128</td>\n",
              "      <td>3084</td>\n",
              "      <td>1565</td>\n",
              "      <td>1516</td>\n",
              "      <td>.508</td>\n",
              "      <td>-5.99</td>\n",
              "      <td>-4.46</td>\n",
              "      <td>1</td>\n",
              "      <td>16</td>\n",
              "      <td>3</td>\n",
              "      <td>7</td>\n",
              "      <td>0</td>\n",
              "      <td>0</td>\n",
              "    </tr>\n",
              "    <tr>\n",
              "      <th>361</th>\n",
              "      <td>491</td>\n",
              "      <td>Youngstown State</td>\n",
              "      <td>Youngstown, Ohio</td>\n",
              "      <td>1948</td>\n",
              "      <td>2024</td>\n",
              "      <td>44</td>\n",
              "      <td>1292</td>\n",
              "      <td>530</td>\n",
              "      <td>762</td>\n",
              "      <td>.410</td>\n",
              "      <td>-7.96</td>\n",
              "      <td>-3.52</td>\n",
              "      <td>0</td>\n",
              "      <td>1</td>\n",
              "      <td>0</td>\n",
              "      <td>0</td>\n",
              "      <td>0</td>\n",
              "      <td>0</td>\n",
              "    </tr>\n",
              "  </tbody>\n",
              "</table>\n",
              "<p>362 rows × 18 columns</p>\n",
              "</div>"
            ],
            "text/plain": [
              "      Rk             School             City, State  From    To  Yrs     G  \\\n",
              "0      1  Abilene Christian          Abilene, Texas  1971  2024   14   422   \n",
              "1      2          Air Force  USAF Academy, Colorado  1958  2024   67  1843   \n",
              "2      3              Akron             Akron, Ohio  1902  2024   73  1717   \n",
              "3      4            Alabama     Tuscaloosa, Alabama  1913  2024  111  2891   \n",
              "4      5        Alabama A&M         Normal, Alabama  2000  2024   25   721   \n",
              "..   ...                ...                     ...   ...   ...  ...   ...   \n",
              "357  487       Wright State            Dayton, Ohio  1988  2024   37  1128   \n",
              "358  488            Wyoming        Laramie, Wyoming  1905  2024  119  2876   \n",
              "359  489             Xavier        Cincinnati, Ohio  1920  2024  103  2697   \n",
              "360  490               Yale  New Haven, Connecticut  1896  2024  128  3084   \n",
              "361  491   Youngstown State        Youngstown, Ohio  1948  2024   44  1292   \n",
              "\n",
              "        W     L  W-L%     SRS     SOS  AP CREG CTRN NCAA FF NC  \n",
              "0     226   196  .536   -7.69   -5.57   0    0    2    2  0  0  \n",
              "1     794  1049  .431   -2.79    1.34   0    1    0    4  0  0  \n",
              "2    1027   690  .598    0.01   -1.56   0    9    6    6  0  0  \n",
              "3    1790  1100  .619    7.95    4.92  17   12   10   25  0  0  \n",
              "4     276   445  .383  -16.62  -11.07   0    1    1    1  0  0  \n",
              "..    ...   ...   ...     ...     ...  ..  ...  ...  ... .. ..  \n",
              "357   631   497  .559   -1.32   -2.56   0    4    4    4  0  0  \n",
              "358  1609  1267  .559    2.73    2.74   4   21    3   16  1  1  \n",
              "359  1611  1086  .597    6.07    3.99  13   18    9   29  0  0  \n",
              "360  1565  1516  .508   -5.99   -4.46   1   16    3    7  0  0  \n",
              "361   530   762  .410   -7.96   -3.52   0    1    0    0  0  0  \n",
              "\n",
              "[362 rows x 18 columns]"
            ]
          },
          "execution_count": 1,
          "metadata": {},
          "output_type": "execute_result"
        }
      ],
      "source": [
        "import pandas as pd\n",
        "import numpy as np\n",
        "import time\n",
        "\n",
        "season = 2024\n",
        "\n",
        "df_active_teams = pd.read_html('https://www.sports-reference.com/cbb/schools/index.html')[0]\n",
        "time.sleep(2)\n",
        "\n",
        "df_active_teams = df_active_teams.loc[~df_active_teams['School'].isin([np.NaN, 'School']), :].reset_index(drop=True)\n",
        "\n",
        "df_active_teams['From'] = pd.to_numeric(df_active_teams['From'], errors='coerce')\n",
        "df_active_teams['To'] = pd.to_numeric(df_active_teams['To'], errors='coerce')\n",
        "\n",
        "df_active_teams = df_active_teams.loc[(df_active_teams['To'] >= season) & (df_active_teams['From'] <= season), :].reset_index(drop=True)\n",
        "\n",
        "if season == 2021:  # if 2021, remove ivy league because they cancelled their season in 2021\n",
        "    df_active_teams = df_active_teams.loc[\n",
        "        ~df_active_teams['School'].isin(['Princeton', 'Harvard', 'Yale', 'Pennsylvania', 'Brown', 'Columbia', 'Cornell', 'Dartmouth']), \n",
        "        :\n",
        "    ].reset_index(drop=True)\n",
        "\n",
        "df_active_teams"
      ]
    },
    {
      "cell_type": "code",
      "execution_count": 2,
      "metadata": {},
      "outputs": [
        {
          "data": {
            "text/plain": [
              "datetime.datetime(2024, 3, 20, 0, 0)"
            ]
          },
          "execution_count": 2,
          "metadata": {},
          "output_type": "execute_result"
        }
      ],
      "source": [
        "from datetime import datetime\n",
        "\n",
        "cutoff_dates = {\n",
        "    2012: datetime(2012, 3, 14),\n",
        "    2013: datetime(2013, 3, 20),\n",
        "    2014: datetime(2014, 3, 19),\n",
        "    2015: datetime(2015, 3, 18),\n",
        "    2016: datetime(2016, 3, 16),\n",
        "    2017: datetime(2017, 3, 15),\n",
        "    2018: datetime(2018, 3, 14),\n",
        "    2019: datetime(2019, 3, 20),\n",
        "    2021: datetime(2021, 3, 18),\n",
        "    2022: datetime(2022, 3, 16),\n",
        "    2023: datetime(2023, 3, 15),\n",
        "    2024: datetime(2024, 3, 20),\n",
        "}\n",
        "\n",
        "cutoff_dates[season]"
      ]
    },
    {
      "cell_type": "markdown",
      "metadata": {
        "id": "JpNWJJxAYIN_"
      },
      "source": [
        "Get school names used in Sports Reference URL"
      ]
    },
    {
      "cell_type": "code",
      "execution_count": 3,
      "metadata": {
        "id": "Ixt5OgncbNZg"
      },
      "outputs": [],
      "source": [
        "df_active_teams['URL School'] = df_active_teams['School']\n",
        "\n",
        "# hard code some schools that cause issues\n",
        "df_active_teams.loc[df_active_teams['School'] == 'Bowling Green', 'URL School'] = 'Bowling Green State'\n",
        "df_active_teams.loc[df_active_teams['School'] == 'BYU', 'URL School'] = 'Brigham Young'\n",
        "df_active_teams.loc[df_active_teams['School'] == 'Louisiana', 'URL School'] = 'Louisiana Lafayette'\n",
        "df_active_teams.loc[df_active_teams['School'] == 'LSU', 'URL School'] = 'Louisiana State'\n",
        "df_active_teams.loc[df_active_teams['School'] == 'Ole Miss', 'URL School'] = 'Mississippi'\n",
        "df_active_teams.loc[df_active_teams['School'] == 'Pitt', 'URL School'] = 'Pittsburgh'\n",
        "df_active_teams.loc[df_active_teams['School'] == 'SMU', 'URL School'] = 'Southern Methodist'\n",
        "df_active_teams.loc[df_active_teams['School'] == 'UAB', 'URL School'] = 'Alabama Birmingham'\n",
        "df_active_teams.loc[df_active_teams['School'] == 'UCF', 'URL School'] = 'Central Florida'\n",
        "df_active_teams.loc[df_active_teams['School'] == 'USC', 'URL School'] = 'Southern California'\n",
        "df_active_teams.loc[df_active_teams['School'] == 'UTEP', 'URL School'] = 'Texas El Paso'\n",
        "df_active_teams.loc[df_active_teams['School'] == 'UTSA', 'URL School'] = 'Texas San Antonio'\n",
        "df_active_teams.loc[df_active_teams['School'] == 'Sam Houston', 'URL School'] = 'Sam Houston State'\n",
        "df_active_teams.loc[df_active_teams['School'] == 'Houston Christian', 'URL School'] = 'Houston Baptist'\n",
        "df_active_teams.loc[df_active_teams['School'] == 'Kansas City', 'URL School'] = 'Missouri Kansas City'\n",
        "df_active_teams.loc[df_active_teams['School'] == 'Little Rock', 'URL School'] = 'Arkansas Little Rock'\n",
        "df_active_teams.loc[df_active_teams['School'] == 'NC State', 'URL School'] = 'North Carolina State'\n",
        "df_active_teams.loc[df_active_teams['School'] == 'Omaha', 'URL School'] = 'Nebraska Omaha'\n",
        "df_active_teams.loc[df_active_teams['School'] == 'Purdue Fort Wayne', 'URL School'] = 'IPFW'\n",
        "df_active_teams.loc[df_active_teams['School'] == 'TCU', 'URL School'] = 'Texas Christian'\n",
        "df_active_teams.loc[df_active_teams['School'] == 'Texas-Rio Grande Valley', 'URL School'] = 'Texas Pan American'\n",
        "df_active_teams.loc[df_active_teams['School'] == 'The Citadel', 'URL School'] = 'Citadel'\n",
        "df_active_teams.loc[df_active_teams['School'] == 'Utah Tech', 'URL School'] = 'Dixie State'\n",
        "df_active_teams.loc[df_active_teams['School'] == 'St. Thomas', 'URL School'] = 'St. Thomas MN'\n",
        "df_active_teams.loc[df_active_teams['School'] == 'UC Berkley', 'URL School'] = 'California'\n",
        "df_active_teams.loc[df_active_teams['School'] == 'UT Arlington', 'URL School'] = 'Texas Arlington'\n",
        "df_active_teams.loc[df_active_teams['School'] == 'FDU', 'URL School'] = 'Fairleigh Dickinson'\n",
        "df_active_teams.loc[df_active_teams['School'] == 'Hartford Hawks', 'URL School'] = 'Hartford'\n",
        "df_active_teams.loc[df_active_teams['School'] == 'Savannah State Tigers', 'URL School'] = 'Savannah State'\n",
        "df_active_teams.loc[df_active_teams['School'] == 'St. Francis (NY) Terriers', 'URL School'] = 'St. Francis (NY)'\n",
        "\n",
        "df_active_teams['URL School'] = df_active_teams['URL School'].str.replace(r'^UC\\s', 'California ', regex=True)\n",
        "df_active_teams['URL School'] = df_active_teams['URL School'].str.replace(r'^UNC\\s', 'North Carolina ', regex=True)"
      ]
    },
    {
      "cell_type": "code",
      "execution_count": 4,
      "metadata": {
        "colab": {
          "base_uri": "https://localhost:8080/"
        },
        "id": "BCKHn4DEbRWC",
        "outputId": "82306886-13c5-48f8-dfe1-84b06ef3eb9d"
      },
      "outputs": [
        {
          "data": {
            "text/plain": [
              "0      https://www.sports-reference.com/cbb/schools/a...\n",
              "1      https://www.sports-reference.com/cbb/schools/a...\n",
              "2      https://www.sports-reference.com/cbb/schools/a...\n",
              "3      https://www.sports-reference.com/cbb/schools/a...\n",
              "4      https://www.sports-reference.com/cbb/schools/a...\n",
              "                             ...                        \n",
              "357    https://www.sports-reference.com/cbb/schools/w...\n",
              "358    https://www.sports-reference.com/cbb/schools/w...\n",
              "359    https://www.sports-reference.com/cbb/schools/x...\n",
              "360    https://www.sports-reference.com/cbb/schools/y...\n",
              "361    https://www.sports-reference.com/cbb/schools/y...\n",
              "Name: URL School, Length: 362, dtype: object"
            ]
          },
          "execution_count": 4,
          "metadata": {},
          "output_type": "execute_result"
        }
      ],
      "source": [
        "urls = (\n",
        "    'https://www.sports-reference.com/cbb/schools/' +\n",
        "    df_active_teams['URL School'].str.replace(' ', '-', regex=False).str.replace('[)(&.\\']', '', regex=True).str.replace('--', '-', regex=False).str.lower() +\n",
        "    '/men/' + str(season) +\n",
        "    '-gamelogs.html'\n",
        ")\n",
        "\n",
        "urls"
      ]
    },
    {
      "cell_type": "code",
      "execution_count": 5,
      "metadata": {
        "colab": {
          "base_uri": "https://localhost:8080/",
          "height": 666,
          "referenced_widgets": [
            "c08f5c77501f453f810f7dc2a9313978",
            "ee137838dee949c6b27e055840192c68",
            "f08e2ea4c70d4d7d8e8d60fab1621907",
            "17bd2feda6a34232aa49e3676e7bca30",
            "211cb420f35c436abbf4681341b61f0d",
            "cde7de1282be4d5ba682a19e8221b5cf",
            "3e41ccdc2b6547deafe8b3b524f7979b",
            "da53c7971e434fadb9aff2a5ab9baf85",
            "128911cd3fcd47dda8e1c7c05ed7dde4",
            "308d1c662f25441eae479ce311201266",
            "117de68d17b945428193f55885b73157"
          ]
        },
        "id": "xfH5sJH1bWlY",
        "outputId": "47bddbfd-c1b7-4ed2-b62d-5a8123847f0d"
      },
      "outputs": [
        {
          "data": {
            "application/vnd.jupyter.widget-view+json": {
              "model_id": "67ddf942e07746809eeacf78f19953a9",
              "version_major": 2,
              "version_minor": 0
            },
            "text/plain": [
              "            0%| 0/362 [00:00<?, ?it/s]   "
            ]
          },
          "metadata": {},
          "output_type": "display_data"
        },
        {
          "data": {
            "text/html": [
              "<div>\n",
              "<style scoped>\n",
              "    .dataframe tbody tr th:only-of-type {\n",
              "        vertical-align: middle;\n",
              "    }\n",
              "\n",
              "    .dataframe tbody tr th {\n",
              "        vertical-align: top;\n",
              "    }\n",
              "\n",
              "    .dataframe thead th {\n",
              "        text-align: right;\n",
              "    }\n",
              "</style>\n",
              "<table border=\"1\" class=\"dataframe\">\n",
              "  <thead>\n",
              "    <tr style=\"text-align: right;\">\n",
              "      <th></th>\n",
              "      <th>G</th>\n",
              "      <th>Date</th>\n",
              "      <th>Team</th>\n",
              "      <th>Unnamed: 2_level_1</th>\n",
              "      <th>Opp</th>\n",
              "      <th>W/L</th>\n",
              "      <th>Tm</th>\n",
              "      <th>Opp</th>\n",
              "      <th>School FG</th>\n",
              "      <th>School FGA</th>\n",
              "      <th>...</th>\n",
              "      <th>Opponent FT</th>\n",
              "      <th>Opponent FTA</th>\n",
              "      <th>Opponent FT%</th>\n",
              "      <th>Opponent ORB</th>\n",
              "      <th>Opponent TRB</th>\n",
              "      <th>Opponent AST</th>\n",
              "      <th>Opponent STL</th>\n",
              "      <th>Opponent BLK</th>\n",
              "      <th>Opponent TOV</th>\n",
              "      <th>Opponent PF</th>\n",
              "    </tr>\n",
              "  </thead>\n",
              "  <tbody>\n",
              "    <tr>\n",
              "      <th>0</th>\n",
              "      <td>1</td>\n",
              "      <td>2023-11-06</td>\n",
              "      <td>Abilene Christian</td>\n",
              "      <td>@</td>\n",
              "      <td>Oklahoma State</td>\n",
              "      <td>W</td>\n",
              "      <td>64</td>\n",
              "      <td>59</td>\n",
              "      <td>26</td>\n",
              "      <td>57</td>\n",
              "      <td>...</td>\n",
              "      <td>8</td>\n",
              "      <td>20</td>\n",
              "      <td>.400</td>\n",
              "      <td>6</td>\n",
              "      <td>32</td>\n",
              "      <td>13</td>\n",
              "      <td>9</td>\n",
              "      <td>2</td>\n",
              "      <td>12</td>\n",
              "      <td>16</td>\n",
              "    </tr>\n",
              "    <tr>\n",
              "      <th>1</th>\n",
              "      <td>2</td>\n",
              "      <td>2023-11-10</td>\n",
              "      <td>Abilene Christian</td>\n",
              "      <td>@</td>\n",
              "      <td>NC State</td>\n",
              "      <td>L</td>\n",
              "      <td>64</td>\n",
              "      <td>84</td>\n",
              "      <td>20</td>\n",
              "      <td>57</td>\n",
              "      <td>...</td>\n",
              "      <td>20</td>\n",
              "      <td>24</td>\n",
              "      <td>.833</td>\n",
              "      <td>12</td>\n",
              "      <td>34</td>\n",
              "      <td>12</td>\n",
              "      <td>4</td>\n",
              "      <td>3</td>\n",
              "      <td>7</td>\n",
              "      <td>20</td>\n",
              "    </tr>\n",
              "    <tr>\n",
              "      <th>2</th>\n",
              "      <td>3</td>\n",
              "      <td>2023-11-14</td>\n",
              "      <td>Abilene Christian</td>\n",
              "      <td>NaN</td>\n",
              "      <td>Prairie View</td>\n",
              "      <td>L</td>\n",
              "      <td>74</td>\n",
              "      <td>79</td>\n",
              "      <td>23</td>\n",
              "      <td>60</td>\n",
              "      <td>...</td>\n",
              "      <td>33</td>\n",
              "      <td>34</td>\n",
              "      <td>.971</td>\n",
              "      <td>8</td>\n",
              "      <td>34</td>\n",
              "      <td>7</td>\n",
              "      <td>8</td>\n",
              "      <td>5</td>\n",
              "      <td>14</td>\n",
              "      <td>23</td>\n",
              "    </tr>\n",
              "    <tr>\n",
              "      <th>3</th>\n",
              "      <td>4</td>\n",
              "      <td>2023-11-17</td>\n",
              "      <td>Abilene Christian</td>\n",
              "      <td>N</td>\n",
              "      <td>San Jose State</td>\n",
              "      <td>W</td>\n",
              "      <td>77</td>\n",
              "      <td>71</td>\n",
              "      <td>25</td>\n",
              "      <td>59</td>\n",
              "      <td>...</td>\n",
              "      <td>7</td>\n",
              "      <td>12</td>\n",
              "      <td>.583</td>\n",
              "      <td>9</td>\n",
              "      <td>35</td>\n",
              "      <td>13</td>\n",
              "      <td>4</td>\n",
              "      <td>3</td>\n",
              "      <td>6</td>\n",
              "      <td>18</td>\n",
              "    </tr>\n",
              "    <tr>\n",
              "      <th>4</th>\n",
              "      <td>5</td>\n",
              "      <td>2023-11-19</td>\n",
              "      <td>Abilene Christian</td>\n",
              "      <td>N</td>\n",
              "      <td>Fordham</td>\n",
              "      <td>W</td>\n",
              "      <td>59</td>\n",
              "      <td>45</td>\n",
              "      <td>22</td>\n",
              "      <td>55</td>\n",
              "      <td>...</td>\n",
              "      <td>12</td>\n",
              "      <td>21</td>\n",
              "      <td>.571</td>\n",
              "      <td>16</td>\n",
              "      <td>41</td>\n",
              "      <td>3</td>\n",
              "      <td>5</td>\n",
              "      <td>3</td>\n",
              "      <td>19</td>\n",
              "      <td>16</td>\n",
              "    </tr>\n",
              "    <tr>\n",
              "      <th>...</th>\n",
              "      <td>...</td>\n",
              "      <td>...</td>\n",
              "      <td>...</td>\n",
              "      <td>...</td>\n",
              "      <td>...</td>\n",
              "      <td>...</td>\n",
              "      <td>...</td>\n",
              "      <td>...</td>\n",
              "      <td>...</td>\n",
              "      <td>...</td>\n",
              "      <td>...</td>\n",
              "      <td>...</td>\n",
              "      <td>...</td>\n",
              "      <td>...</td>\n",
              "      <td>...</td>\n",
              "      <td>...</td>\n",
              "      <td>...</td>\n",
              "      <td>...</td>\n",
              "      <td>...</td>\n",
              "      <td>...</td>\n",
              "      <td>...</td>\n",
              "    </tr>\n",
              "    <tr>\n",
              "      <th>12595</th>\n",
              "      <td>28</td>\n",
              "      <td>2024-02-17</td>\n",
              "      <td>Youngstown State</td>\n",
              "      <td>@</td>\n",
              "      <td>Cleveland State</td>\n",
              "      <td>L</td>\n",
              "      <td>73</td>\n",
              "      <td>81</td>\n",
              "      <td>25</td>\n",
              "      <td>58</td>\n",
              "      <td>...</td>\n",
              "      <td>15</td>\n",
              "      <td>20</td>\n",
              "      <td>.750</td>\n",
              "      <td>7</td>\n",
              "      <td>28</td>\n",
              "      <td>16</td>\n",
              "      <td>9</td>\n",
              "      <td>1</td>\n",
              "      <td>9</td>\n",
              "      <td>22</td>\n",
              "    </tr>\n",
              "    <tr>\n",
              "      <th>12596</th>\n",
              "      <td>29</td>\n",
              "      <td>2024-02-23</td>\n",
              "      <td>Youngstown State</td>\n",
              "      <td>@</td>\n",
              "      <td>Milwaukee</td>\n",
              "      <td>W (1 OT)</td>\n",
              "      <td>84</td>\n",
              "      <td>80</td>\n",
              "      <td>32</td>\n",
              "      <td>78</td>\n",
              "      <td>...</td>\n",
              "      <td>18</td>\n",
              "      <td>21</td>\n",
              "      <td>.857</td>\n",
              "      <td>13</td>\n",
              "      <td>37</td>\n",
              "      <td>19</td>\n",
              "      <td>6</td>\n",
              "      <td>4</td>\n",
              "      <td>14</td>\n",
              "      <td>23</td>\n",
              "    </tr>\n",
              "    <tr>\n",
              "      <th>12597</th>\n",
              "      <td>30</td>\n",
              "      <td>2024-02-25</td>\n",
              "      <td>Youngstown State</td>\n",
              "      <td>@</td>\n",
              "      <td>Green Bay</td>\n",
              "      <td>W</td>\n",
              "      <td>71</td>\n",
              "      <td>59</td>\n",
              "      <td>26</td>\n",
              "      <td>55</td>\n",
              "      <td>...</td>\n",
              "      <td>9</td>\n",
              "      <td>12</td>\n",
              "      <td>.750</td>\n",
              "      <td>4</td>\n",
              "      <td>20</td>\n",
              "      <td>15</td>\n",
              "      <td>2</td>\n",
              "      <td>3</td>\n",
              "      <td>10</td>\n",
              "      <td>15</td>\n",
              "    </tr>\n",
              "    <tr>\n",
              "      <th>12598</th>\n",
              "      <td>31</td>\n",
              "      <td>2024-02-28</td>\n",
              "      <td>Youngstown State</td>\n",
              "      <td>NaN</td>\n",
              "      <td>Detroit Mercy</td>\n",
              "      <td>W</td>\n",
              "      <td>69</td>\n",
              "      <td>55</td>\n",
              "      <td>26</td>\n",
              "      <td>61</td>\n",
              "      <td>...</td>\n",
              "      <td>6</td>\n",
              "      <td>9</td>\n",
              "      <td>.667</td>\n",
              "      <td>11</td>\n",
              "      <td>35</td>\n",
              "      <td>13</td>\n",
              "      <td>10</td>\n",
              "      <td>4</td>\n",
              "      <td>9</td>\n",
              "      <td>14</td>\n",
              "    </tr>\n",
              "    <tr>\n",
              "      <th>12599</th>\n",
              "      <td>32</td>\n",
              "      <td>2024-03-07</td>\n",
              "      <td>Youngstown State</td>\n",
              "      <td>NaN</td>\n",
              "      <td>Cleveland State</td>\n",
              "      <td>L</td>\n",
              "      <td>70</td>\n",
              "      <td>82</td>\n",
              "      <td>27</td>\n",
              "      <td>61</td>\n",
              "      <td>...</td>\n",
              "      <td>16</td>\n",
              "      <td>27</td>\n",
              "      <td>.593</td>\n",
              "      <td>11</td>\n",
              "      <td>35</td>\n",
              "      <td>13</td>\n",
              "      <td>5</td>\n",
              "      <td>2</td>\n",
              "      <td>6</td>\n",
              "      <td>16</td>\n",
              "    </tr>\n",
              "  </tbody>\n",
              "</table>\n",
              "<p>12600 rows × 41 columns</p>\n",
              "</div>"
            ],
            "text/plain": [
              "        G        Date               Team Unnamed: 2_level_1              Opp  \\\n",
              "0       1  2023-11-06  Abilene Christian                  @   Oklahoma State   \n",
              "1       2  2023-11-10  Abilene Christian                  @         NC State   \n",
              "2       3  2023-11-14  Abilene Christian                NaN     Prairie View   \n",
              "3       4  2023-11-17  Abilene Christian                  N   San Jose State   \n",
              "4       5  2023-11-19  Abilene Christian                  N          Fordham   \n",
              "...    ..         ...                ...                ...              ...   \n",
              "12595  28  2024-02-17   Youngstown State                  @  Cleveland State   \n",
              "12596  29  2024-02-23   Youngstown State                  @        Milwaukee   \n",
              "12597  30  2024-02-25   Youngstown State                  @        Green Bay   \n",
              "12598  31  2024-02-28   Youngstown State                NaN    Detroit Mercy   \n",
              "12599  32  2024-03-07   Youngstown State                NaN  Cleveland State   \n",
              "\n",
              "            W/L  Tm Opp School FG School FGA  ... Opponent FT Opponent FTA  \\\n",
              "0             W  64  59        26         57  ...           8           20   \n",
              "1             L  64  84        20         57  ...          20           24   \n",
              "2             L  74  79        23         60  ...          33           34   \n",
              "3             W  77  71        25         59  ...           7           12   \n",
              "4             W  59  45        22         55  ...          12           21   \n",
              "...         ...  ..  ..       ...        ...  ...         ...          ...   \n",
              "12595         L  73  81        25         58  ...          15           20   \n",
              "12596  W (1 OT)  84  80        32         78  ...          18           21   \n",
              "12597         W  71  59        26         55  ...           9           12   \n",
              "12598         W  69  55        26         61  ...           6            9   \n",
              "12599         L  70  82        27         61  ...          16           27   \n",
              "\n",
              "      Opponent FT% Opponent ORB Opponent TRB Opponent AST Opponent STL  \\\n",
              "0             .400            6           32           13            9   \n",
              "1             .833           12           34           12            4   \n",
              "2             .971            8           34            7            8   \n",
              "3             .583            9           35           13            4   \n",
              "4             .571           16           41            3            5   \n",
              "...            ...          ...          ...          ...          ...   \n",
              "12595         .750            7           28           16            9   \n",
              "12596         .857           13           37           19            6   \n",
              "12597         .750            4           20           15            2   \n",
              "12598         .667           11           35           13           10   \n",
              "12599         .593           11           35           13            5   \n",
              "\n",
              "      Opponent BLK Opponent TOV Opponent PF  \n",
              "0                2           12          16  \n",
              "1                3            7          20  \n",
              "2                5           14          23  \n",
              "3                3            6          18  \n",
              "4                3           19          16  \n",
              "...            ...          ...         ...  \n",
              "12595            1            9          22  \n",
              "12596            4           14          23  \n",
              "12597            3           10          15  \n",
              "12598            4            9          14  \n",
              "12599            2            6          16  \n",
              "\n",
              "[12600 rows x 41 columns]"
            ]
          },
          "execution_count": 5,
          "metadata": {},
          "output_type": "execute_result"
        }
      ],
      "source": [
        "from urllib.error import HTTPError\n",
        "from tqdm.notebook import tqdm\n",
        "\n",
        "problems = []\n",
        "\n",
        "l = []\n",
        "loop = tqdm(\n",
        "    np.array((df_active_teams['School'], urls)).transpose(),  # get both school and url into loop iteration\n",
        "    bar_format='{bar}{percentage:3.0f}%{r_bar}   {desc}'  # make the description not affect bar location\n",
        ")\n",
        "for (school, url) in loop:\n",
        "  try:\n",
        "    loop.set_description(f'{school}')\n",
        "    # print(f'{i:03d}: {url}')\n",
        "    df_team_season = pd.read_html(url)[-1]  # schools that were ranked have that info as the first table on the site\n",
        "    time.sleep(2)\n",
        "\n",
        "    df_team_season.columns = [i[1] if 'Unnamed' in i[0] else i[0] + ' ' + i[1] for i in df_team_season.columns]\n",
        "    df_team_season.insert(2, 'Team', school)\n",
        "    l.append(df_team_season)\n",
        "  except ValueError as e:\n",
        "    print(f'{url} | ValueError: {e}')\n",
        "    time.sleep(2)\n",
        "  except HTTPError as e:\n",
        "    if e.code == 404:\n",
        "      print(f'{url} | {e}')\n",
        "      time.sleep(2)\n",
        "    else:\n",
        "      print(f'{url} | {e}')\n",
        "      break\n",
        "\n",
        "df = pd.concat(l, ignore_index=True)\n",
        "\n",
        "df"
      ]
    },
    {
      "cell_type": "code",
      "execution_count": 6,
      "metadata": {
        "colab": {
          "base_uri": "https://localhost:8080/"
        },
        "id": "FuJ59EbUblPQ",
        "outputId": "17f7c6e5-f398-45bb-8d05-7a68d17f9439"
      },
      "outputs": [
        {
          "name": "stdout",
          "output_type": "stream",
          "text": [
            "<class 'pandas.core.frame.DataFrame'>\n",
            "RangeIndex: 12600 entries, 0 to 12599\n",
            "Data columns (total 41 columns):\n",
            " #   Column               Non-Null Count  Dtype  \n",
            "---  ------               --------------  -----  \n",
            " 0   G                    12238 non-null  object \n",
            " 1   Date                 12238 non-null  object \n",
            " 2   Team                 12600 non-null  object \n",
            " 3   Unnamed: 2_level_1   6370 non-null   object \n",
            " 4   Opp                  12222 non-null  object \n",
            " 5   W/L                  12117 non-null  object \n",
            " 6   Tm                   12117 non-null  object \n",
            " 7   Opp                  12117 non-null  object \n",
            " 8   School FG            12479 non-null  object \n",
            " 9   School FGA           12479 non-null  object \n",
            " 10  School FG%           12479 non-null  object \n",
            " 11  School 3P            12479 non-null  object \n",
            " 12  School 3PA           12479 non-null  object \n",
            " 13  School 3P%           12479 non-null  object \n",
            " 14  School FT            12479 non-null  object \n",
            " 15  School FTA           12479 non-null  object \n",
            " 16  School FT%           12479 non-null  object \n",
            " 17  School ORB           12479 non-null  object \n",
            " 18  School TRB           12479 non-null  object \n",
            " 19  School AST           12479 non-null  object \n",
            " 20  School STL           12479 non-null  object \n",
            " 21  School BLK           12479 non-null  object \n",
            " 22  School TOV           12479 non-null  object \n",
            " 23  School PF            12479 non-null  object \n",
            " 24  Unnamed: 23_level_1  0 non-null      float64\n",
            " 25  Opponent FG          12479 non-null  object \n",
            " 26  Opponent FGA         12479 non-null  object \n",
            " 27  Opponent FG%         12479 non-null  object \n",
            " 28  Opponent 3P          12479 non-null  object \n",
            " 29  Opponent 3PA         12479 non-null  object \n",
            " 30  Opponent 3P%         12479 non-null  object \n",
            " 31  Opponent FT          12479 non-null  object \n",
            " 32  Opponent FTA         12479 non-null  object \n",
            " 33  Opponent FT%         12474 non-null  object \n",
            " 34  Opponent ORB         12479 non-null  object \n",
            " 35  Opponent TRB         12479 non-null  object \n",
            " 36  Opponent AST         12479 non-null  object \n",
            " 37  Opponent STL         12479 non-null  object \n",
            " 38  Opponent BLK         12479 non-null  object \n",
            " 39  Opponent TOV         12479 non-null  object \n",
            " 40  Opponent PF          12479 non-null  object \n",
            "dtypes: float64(1), object(40)\n",
            "memory usage: 3.9+ MB\n"
          ]
        }
      ],
      "source": [
        "df.info()"
      ]
    },
    {
      "cell_type": "markdown",
      "metadata": {
        "id": "PF-SpUm23r1C"
      },
      "source": [
        "### Data Setup"
      ]
    },
    {
      "cell_type": "code",
      "execution_count": 7,
      "metadata": {
        "id": "fsw3st3r2mHk"
      },
      "outputs": [],
      "source": [
        "temp = df.copy()"
      ]
    },
    {
      "cell_type": "code",
      "execution_count": 8,
      "metadata": {
        "id": "UZXi78sX3vo2"
      },
      "outputs": [],
      "source": [
        "df = temp.copy()"
      ]
    },
    {
      "cell_type": "markdown",
      "metadata": {
        "id": "WYh4C8Ue3xfh"
      },
      "source": [
        "Fix column names and drop useless columns"
      ]
    },
    {
      "cell_type": "code",
      "execution_count": 9,
      "metadata": {
        "colab": {
          "base_uri": "https://localhost:8080/"
        },
        "id": "y5dPZIVf0Qwc",
        "outputId": "50124c2d-3b7f-41a6-9950-76ce55ce22cf"
      },
      "outputs": [
        {
          "data": {
            "text/html": [
              "<div>\n",
              "<style scoped>\n",
              "    .dataframe tbody tr th:only-of-type {\n",
              "        vertical-align: middle;\n",
              "    }\n",
              "\n",
              "    .dataframe tbody tr th {\n",
              "        vertical-align: top;\n",
              "    }\n",
              "\n",
              "    .dataframe thead th {\n",
              "        text-align: right;\n",
              "    }\n",
              "</style>\n",
              "<table border=\"1\" class=\"dataframe\">\n",
              "  <thead>\n",
              "    <tr style=\"text-align: right;\">\n",
              "      <th></th>\n",
              "      <th>Date</th>\n",
              "      <th>Team</th>\n",
              "      <th>Location</th>\n",
              "      <th>Opponent</th>\n",
              "      <th>Result</th>\n",
              "      <th>Team Score</th>\n",
              "      <th>Opponent Score</th>\n",
              "      <th>Team FG</th>\n",
              "      <th>Team FGA</th>\n",
              "      <th>Team FG%</th>\n",
              "      <th>...</th>\n",
              "      <th>Opponent FT</th>\n",
              "      <th>Opponent FTA</th>\n",
              "      <th>Opponent FT%</th>\n",
              "      <th>Opponent ORB</th>\n",
              "      <th>Opponent TRB</th>\n",
              "      <th>Opponent AST</th>\n",
              "      <th>Opponent STL</th>\n",
              "      <th>Opponent BLK</th>\n",
              "      <th>Opponent TOV</th>\n",
              "      <th>Opponent PF</th>\n",
              "    </tr>\n",
              "  </thead>\n",
              "  <tbody>\n",
              "    <tr>\n",
              "      <th>0</th>\n",
              "      <td>2023-11-06</td>\n",
              "      <td>Abilene Christian</td>\n",
              "      <td>@</td>\n",
              "      <td>Oklahoma State</td>\n",
              "      <td>W</td>\n",
              "      <td>64</td>\n",
              "      <td>59</td>\n",
              "      <td>26</td>\n",
              "      <td>57</td>\n",
              "      <td>.456</td>\n",
              "      <td>...</td>\n",
              "      <td>8</td>\n",
              "      <td>20</td>\n",
              "      <td>.400</td>\n",
              "      <td>6</td>\n",
              "      <td>32</td>\n",
              "      <td>13</td>\n",
              "      <td>9</td>\n",
              "      <td>2</td>\n",
              "      <td>12</td>\n",
              "      <td>16</td>\n",
              "    </tr>\n",
              "    <tr>\n",
              "      <th>1</th>\n",
              "      <td>2023-11-10</td>\n",
              "      <td>Abilene Christian</td>\n",
              "      <td>@</td>\n",
              "      <td>NC State</td>\n",
              "      <td>L</td>\n",
              "      <td>64</td>\n",
              "      <td>84</td>\n",
              "      <td>20</td>\n",
              "      <td>57</td>\n",
              "      <td>.351</td>\n",
              "      <td>...</td>\n",
              "      <td>20</td>\n",
              "      <td>24</td>\n",
              "      <td>.833</td>\n",
              "      <td>12</td>\n",
              "      <td>34</td>\n",
              "      <td>12</td>\n",
              "      <td>4</td>\n",
              "      <td>3</td>\n",
              "      <td>7</td>\n",
              "      <td>20</td>\n",
              "    </tr>\n",
              "    <tr>\n",
              "      <th>2</th>\n",
              "      <td>2023-11-14</td>\n",
              "      <td>Abilene Christian</td>\n",
              "      <td>NaN</td>\n",
              "      <td>Prairie View</td>\n",
              "      <td>L</td>\n",
              "      <td>74</td>\n",
              "      <td>79</td>\n",
              "      <td>23</td>\n",
              "      <td>60</td>\n",
              "      <td>.383</td>\n",
              "      <td>...</td>\n",
              "      <td>33</td>\n",
              "      <td>34</td>\n",
              "      <td>.971</td>\n",
              "      <td>8</td>\n",
              "      <td>34</td>\n",
              "      <td>7</td>\n",
              "      <td>8</td>\n",
              "      <td>5</td>\n",
              "      <td>14</td>\n",
              "      <td>23</td>\n",
              "    </tr>\n",
              "    <tr>\n",
              "      <th>3</th>\n",
              "      <td>2023-11-17</td>\n",
              "      <td>Abilene Christian</td>\n",
              "      <td>N</td>\n",
              "      <td>San Jose State</td>\n",
              "      <td>W</td>\n",
              "      <td>77</td>\n",
              "      <td>71</td>\n",
              "      <td>25</td>\n",
              "      <td>59</td>\n",
              "      <td>.424</td>\n",
              "      <td>...</td>\n",
              "      <td>7</td>\n",
              "      <td>12</td>\n",
              "      <td>.583</td>\n",
              "      <td>9</td>\n",
              "      <td>35</td>\n",
              "      <td>13</td>\n",
              "      <td>4</td>\n",
              "      <td>3</td>\n",
              "      <td>6</td>\n",
              "      <td>18</td>\n",
              "    </tr>\n",
              "    <tr>\n",
              "      <th>4</th>\n",
              "      <td>2023-11-19</td>\n",
              "      <td>Abilene Christian</td>\n",
              "      <td>N</td>\n",
              "      <td>Fordham</td>\n",
              "      <td>W</td>\n",
              "      <td>59</td>\n",
              "      <td>45</td>\n",
              "      <td>22</td>\n",
              "      <td>55</td>\n",
              "      <td>.400</td>\n",
              "      <td>...</td>\n",
              "      <td>12</td>\n",
              "      <td>21</td>\n",
              "      <td>.571</td>\n",
              "      <td>16</td>\n",
              "      <td>41</td>\n",
              "      <td>3</td>\n",
              "      <td>5</td>\n",
              "      <td>3</td>\n",
              "      <td>19</td>\n",
              "      <td>16</td>\n",
              "    </tr>\n",
              "    <tr>\n",
              "      <th>...</th>\n",
              "      <td>...</td>\n",
              "      <td>...</td>\n",
              "      <td>...</td>\n",
              "      <td>...</td>\n",
              "      <td>...</td>\n",
              "      <td>...</td>\n",
              "      <td>...</td>\n",
              "      <td>...</td>\n",
              "      <td>...</td>\n",
              "      <td>...</td>\n",
              "      <td>...</td>\n",
              "      <td>...</td>\n",
              "      <td>...</td>\n",
              "      <td>...</td>\n",
              "      <td>...</td>\n",
              "      <td>...</td>\n",
              "      <td>...</td>\n",
              "      <td>...</td>\n",
              "      <td>...</td>\n",
              "      <td>...</td>\n",
              "      <td>...</td>\n",
              "    </tr>\n",
              "    <tr>\n",
              "      <th>12595</th>\n",
              "      <td>2024-02-17</td>\n",
              "      <td>Youngstown State</td>\n",
              "      <td>@</td>\n",
              "      <td>Cleveland State</td>\n",
              "      <td>L</td>\n",
              "      <td>73</td>\n",
              "      <td>81</td>\n",
              "      <td>25</td>\n",
              "      <td>58</td>\n",
              "      <td>.431</td>\n",
              "      <td>...</td>\n",
              "      <td>15</td>\n",
              "      <td>20</td>\n",
              "      <td>.750</td>\n",
              "      <td>7</td>\n",
              "      <td>28</td>\n",
              "      <td>16</td>\n",
              "      <td>9</td>\n",
              "      <td>1</td>\n",
              "      <td>9</td>\n",
              "      <td>22</td>\n",
              "    </tr>\n",
              "    <tr>\n",
              "      <th>12596</th>\n",
              "      <td>2024-02-23</td>\n",
              "      <td>Youngstown State</td>\n",
              "      <td>@</td>\n",
              "      <td>Milwaukee</td>\n",
              "      <td>W (1 OT)</td>\n",
              "      <td>84</td>\n",
              "      <td>80</td>\n",
              "      <td>32</td>\n",
              "      <td>78</td>\n",
              "      <td>.410</td>\n",
              "      <td>...</td>\n",
              "      <td>18</td>\n",
              "      <td>21</td>\n",
              "      <td>.857</td>\n",
              "      <td>13</td>\n",
              "      <td>37</td>\n",
              "      <td>19</td>\n",
              "      <td>6</td>\n",
              "      <td>4</td>\n",
              "      <td>14</td>\n",
              "      <td>23</td>\n",
              "    </tr>\n",
              "    <tr>\n",
              "      <th>12597</th>\n",
              "      <td>2024-02-25</td>\n",
              "      <td>Youngstown State</td>\n",
              "      <td>@</td>\n",
              "      <td>Green Bay</td>\n",
              "      <td>W</td>\n",
              "      <td>71</td>\n",
              "      <td>59</td>\n",
              "      <td>26</td>\n",
              "      <td>55</td>\n",
              "      <td>.473</td>\n",
              "      <td>...</td>\n",
              "      <td>9</td>\n",
              "      <td>12</td>\n",
              "      <td>.750</td>\n",
              "      <td>4</td>\n",
              "      <td>20</td>\n",
              "      <td>15</td>\n",
              "      <td>2</td>\n",
              "      <td>3</td>\n",
              "      <td>10</td>\n",
              "      <td>15</td>\n",
              "    </tr>\n",
              "    <tr>\n",
              "      <th>12598</th>\n",
              "      <td>2024-02-28</td>\n",
              "      <td>Youngstown State</td>\n",
              "      <td>NaN</td>\n",
              "      <td>Detroit Mercy</td>\n",
              "      <td>W</td>\n",
              "      <td>69</td>\n",
              "      <td>55</td>\n",
              "      <td>26</td>\n",
              "      <td>61</td>\n",
              "      <td>.426</td>\n",
              "      <td>...</td>\n",
              "      <td>6</td>\n",
              "      <td>9</td>\n",
              "      <td>.667</td>\n",
              "      <td>11</td>\n",
              "      <td>35</td>\n",
              "      <td>13</td>\n",
              "      <td>10</td>\n",
              "      <td>4</td>\n",
              "      <td>9</td>\n",
              "      <td>14</td>\n",
              "    </tr>\n",
              "    <tr>\n",
              "      <th>12599</th>\n",
              "      <td>2024-03-07</td>\n",
              "      <td>Youngstown State</td>\n",
              "      <td>NaN</td>\n",
              "      <td>Cleveland State</td>\n",
              "      <td>L</td>\n",
              "      <td>70</td>\n",
              "      <td>82</td>\n",
              "      <td>27</td>\n",
              "      <td>61</td>\n",
              "      <td>.443</td>\n",
              "      <td>...</td>\n",
              "      <td>16</td>\n",
              "      <td>27</td>\n",
              "      <td>.593</td>\n",
              "      <td>11</td>\n",
              "      <td>35</td>\n",
              "      <td>13</td>\n",
              "      <td>5</td>\n",
              "      <td>2</td>\n",
              "      <td>6</td>\n",
              "      <td>16</td>\n",
              "    </tr>\n",
              "  </tbody>\n",
              "</table>\n",
              "<p>12600 rows × 39 columns</p>\n",
              "</div>"
            ],
            "text/plain": [
              "             Date               Team Location         Opponent    Result  \\\n",
              "0      2023-11-06  Abilene Christian        @   Oklahoma State         W   \n",
              "1      2023-11-10  Abilene Christian        @         NC State         L   \n",
              "2      2023-11-14  Abilene Christian      NaN     Prairie View         L   \n",
              "3      2023-11-17  Abilene Christian        N   San Jose State         W   \n",
              "4      2023-11-19  Abilene Christian        N          Fordham         W   \n",
              "...           ...                ...      ...              ...       ...   \n",
              "12595  2024-02-17   Youngstown State        @  Cleveland State         L   \n",
              "12596  2024-02-23   Youngstown State        @        Milwaukee  W (1 OT)   \n",
              "12597  2024-02-25   Youngstown State        @        Green Bay         W   \n",
              "12598  2024-02-28   Youngstown State      NaN    Detroit Mercy         W   \n",
              "12599  2024-03-07   Youngstown State      NaN  Cleveland State         L   \n",
              "\n",
              "      Team Score Opponent Score Team FG Team FGA Team FG%  ... Opponent FT  \\\n",
              "0             64             59      26       57     .456  ...           8   \n",
              "1             64             84      20       57     .351  ...          20   \n",
              "2             74             79      23       60     .383  ...          33   \n",
              "3             77             71      25       59     .424  ...           7   \n",
              "4             59             45      22       55     .400  ...          12   \n",
              "...          ...            ...     ...      ...      ...  ...         ...   \n",
              "12595         73             81      25       58     .431  ...          15   \n",
              "12596         84             80      32       78     .410  ...          18   \n",
              "12597         71             59      26       55     .473  ...           9   \n",
              "12598         69             55      26       61     .426  ...           6   \n",
              "12599         70             82      27       61     .443  ...          16   \n",
              "\n",
              "      Opponent FTA Opponent FT% Opponent ORB Opponent TRB Opponent AST  \\\n",
              "0               20         .400            6           32           13   \n",
              "1               24         .833           12           34           12   \n",
              "2               34         .971            8           34            7   \n",
              "3               12         .583            9           35           13   \n",
              "4               21         .571           16           41            3   \n",
              "...            ...          ...          ...          ...          ...   \n",
              "12595           20         .750            7           28           16   \n",
              "12596           21         .857           13           37           19   \n",
              "12597           12         .750            4           20           15   \n",
              "12598            9         .667           11           35           13   \n",
              "12599           27         .593           11           35           13   \n",
              "\n",
              "      Opponent STL Opponent BLK Opponent TOV Opponent PF  \n",
              "0                9            2           12          16  \n",
              "1                4            3            7          20  \n",
              "2                8            5           14          23  \n",
              "3                4            3            6          18  \n",
              "4                5            3           19          16  \n",
              "...            ...          ...          ...         ...  \n",
              "12595            9            1            9          22  \n",
              "12596            6            4           14          23  \n",
              "12597            2            3           10          15  \n",
              "12598           10            4            9          14  \n",
              "12599            5            2            6          16  \n",
              "\n",
              "[12600 rows x 39 columns]"
            ]
          },
          "execution_count": 9,
          "metadata": {},
          "output_type": "execute_result"
        }
      ],
      "source": [
        "df.columns = (\n",
        "    ['G', 'Date', 'Team', 'Location', 'Opponent', 'Result', 'Team Score', 'Opponent Score'] +\n",
        "    [c for c in df.columns[8:]]\n",
        ")\n",
        "\n",
        "# use \"Team\" as prefix instead of \"School\"\n",
        "df.columns = df.columns.str.replace('School', 'Team', regex=False)\n",
        "\n",
        "# drop columns that are completely null\n",
        "df = df[[c for c in df.columns if df.loc[:, c].notna().any()]].copy()\n",
        "\n",
        "# drop other irrelevant columns\n",
        "df.drop(columns=['G'], inplace=True)\n",
        "\n",
        "df"
      ]
    },
    {
      "cell_type": "markdown",
      "metadata": {
        "id": "HHamldyP8yAP"
      },
      "source": [
        "Reformat result column because it contains information about overtime"
      ]
    },
    {
      "cell_type": "code",
      "execution_count": 10,
      "metadata": {
        "colab": {
          "base_uri": "https://localhost:8080/"
        },
        "id": "rLdBwaPn3R8G",
        "outputId": "f2ae9293-b160-406a-fa0a-6ba01fb73df1"
      },
      "outputs": [
        {
          "data": {
            "text/html": [
              "<div>\n",
              "<style scoped>\n",
              "    .dataframe tbody tr th:only-of-type {\n",
              "        vertical-align: middle;\n",
              "    }\n",
              "\n",
              "    .dataframe tbody tr th {\n",
              "        vertical-align: top;\n",
              "    }\n",
              "\n",
              "    .dataframe thead th {\n",
              "        text-align: right;\n",
              "    }\n",
              "</style>\n",
              "<table border=\"1\" class=\"dataframe\">\n",
              "  <thead>\n",
              "    <tr style=\"text-align: right;\">\n",
              "      <th></th>\n",
              "      <th>Date</th>\n",
              "      <th>Team</th>\n",
              "      <th>Location</th>\n",
              "      <th>Opponent</th>\n",
              "      <th>Result</th>\n",
              "      <th>Team Score</th>\n",
              "      <th>Opponent Score</th>\n",
              "      <th>Team FG</th>\n",
              "      <th>Team FGA</th>\n",
              "      <th>Team FG%</th>\n",
              "      <th>...</th>\n",
              "      <th>Opponent FT%</th>\n",
              "      <th>Opponent ORB</th>\n",
              "      <th>Opponent TRB</th>\n",
              "      <th>Opponent AST</th>\n",
              "      <th>Opponent STL</th>\n",
              "      <th>Opponent BLK</th>\n",
              "      <th>Opponent TOV</th>\n",
              "      <th>Opponent PF</th>\n",
              "      <th>Overtimes Amount</th>\n",
              "      <th>Overtime</th>\n",
              "    </tr>\n",
              "  </thead>\n",
              "  <tbody>\n",
              "    <tr>\n",
              "      <th>0</th>\n",
              "      <td>2023-11-06</td>\n",
              "      <td>Abilene Christian</td>\n",
              "      <td>@</td>\n",
              "      <td>Oklahoma State</td>\n",
              "      <td>1</td>\n",
              "      <td>64</td>\n",
              "      <td>59</td>\n",
              "      <td>26</td>\n",
              "      <td>57</td>\n",
              "      <td>.456</td>\n",
              "      <td>...</td>\n",
              "      <td>.400</td>\n",
              "      <td>6</td>\n",
              "      <td>32</td>\n",
              "      <td>13</td>\n",
              "      <td>9</td>\n",
              "      <td>2</td>\n",
              "      <td>12</td>\n",
              "      <td>16</td>\n",
              "      <td>0</td>\n",
              "      <td>0</td>\n",
              "    </tr>\n",
              "    <tr>\n",
              "      <th>1</th>\n",
              "      <td>2023-11-10</td>\n",
              "      <td>Abilene Christian</td>\n",
              "      <td>@</td>\n",
              "      <td>NC State</td>\n",
              "      <td>-1</td>\n",
              "      <td>64</td>\n",
              "      <td>84</td>\n",
              "      <td>20</td>\n",
              "      <td>57</td>\n",
              "      <td>.351</td>\n",
              "      <td>...</td>\n",
              "      <td>.833</td>\n",
              "      <td>12</td>\n",
              "      <td>34</td>\n",
              "      <td>12</td>\n",
              "      <td>4</td>\n",
              "      <td>3</td>\n",
              "      <td>7</td>\n",
              "      <td>20</td>\n",
              "      <td>0</td>\n",
              "      <td>0</td>\n",
              "    </tr>\n",
              "    <tr>\n",
              "      <th>2</th>\n",
              "      <td>2023-11-14</td>\n",
              "      <td>Abilene Christian</td>\n",
              "      <td>NaN</td>\n",
              "      <td>Prairie View</td>\n",
              "      <td>-1</td>\n",
              "      <td>74</td>\n",
              "      <td>79</td>\n",
              "      <td>23</td>\n",
              "      <td>60</td>\n",
              "      <td>.383</td>\n",
              "      <td>...</td>\n",
              "      <td>.971</td>\n",
              "      <td>8</td>\n",
              "      <td>34</td>\n",
              "      <td>7</td>\n",
              "      <td>8</td>\n",
              "      <td>5</td>\n",
              "      <td>14</td>\n",
              "      <td>23</td>\n",
              "      <td>0</td>\n",
              "      <td>0</td>\n",
              "    </tr>\n",
              "    <tr>\n",
              "      <th>3</th>\n",
              "      <td>2023-11-17</td>\n",
              "      <td>Abilene Christian</td>\n",
              "      <td>N</td>\n",
              "      <td>San Jose State</td>\n",
              "      <td>1</td>\n",
              "      <td>77</td>\n",
              "      <td>71</td>\n",
              "      <td>25</td>\n",
              "      <td>59</td>\n",
              "      <td>.424</td>\n",
              "      <td>...</td>\n",
              "      <td>.583</td>\n",
              "      <td>9</td>\n",
              "      <td>35</td>\n",
              "      <td>13</td>\n",
              "      <td>4</td>\n",
              "      <td>3</td>\n",
              "      <td>6</td>\n",
              "      <td>18</td>\n",
              "      <td>0</td>\n",
              "      <td>0</td>\n",
              "    </tr>\n",
              "    <tr>\n",
              "      <th>4</th>\n",
              "      <td>2023-11-19</td>\n",
              "      <td>Abilene Christian</td>\n",
              "      <td>N</td>\n",
              "      <td>Fordham</td>\n",
              "      <td>1</td>\n",
              "      <td>59</td>\n",
              "      <td>45</td>\n",
              "      <td>22</td>\n",
              "      <td>55</td>\n",
              "      <td>.400</td>\n",
              "      <td>...</td>\n",
              "      <td>.571</td>\n",
              "      <td>16</td>\n",
              "      <td>41</td>\n",
              "      <td>3</td>\n",
              "      <td>5</td>\n",
              "      <td>3</td>\n",
              "      <td>19</td>\n",
              "      <td>16</td>\n",
              "      <td>0</td>\n",
              "      <td>0</td>\n",
              "    </tr>\n",
              "    <tr>\n",
              "      <th>...</th>\n",
              "      <td>...</td>\n",
              "      <td>...</td>\n",
              "      <td>...</td>\n",
              "      <td>...</td>\n",
              "      <td>...</td>\n",
              "      <td>...</td>\n",
              "      <td>...</td>\n",
              "      <td>...</td>\n",
              "      <td>...</td>\n",
              "      <td>...</td>\n",
              "      <td>...</td>\n",
              "      <td>...</td>\n",
              "      <td>...</td>\n",
              "      <td>...</td>\n",
              "      <td>...</td>\n",
              "      <td>...</td>\n",
              "      <td>...</td>\n",
              "      <td>...</td>\n",
              "      <td>...</td>\n",
              "      <td>...</td>\n",
              "      <td>...</td>\n",
              "    </tr>\n",
              "    <tr>\n",
              "      <th>11750</th>\n",
              "      <td>2024-02-17</td>\n",
              "      <td>Youngstown State</td>\n",
              "      <td>@</td>\n",
              "      <td>Cleveland State</td>\n",
              "      <td>-1</td>\n",
              "      <td>73</td>\n",
              "      <td>81</td>\n",
              "      <td>25</td>\n",
              "      <td>58</td>\n",
              "      <td>.431</td>\n",
              "      <td>...</td>\n",
              "      <td>.750</td>\n",
              "      <td>7</td>\n",
              "      <td>28</td>\n",
              "      <td>16</td>\n",
              "      <td>9</td>\n",
              "      <td>1</td>\n",
              "      <td>9</td>\n",
              "      <td>22</td>\n",
              "      <td>0</td>\n",
              "      <td>0</td>\n",
              "    </tr>\n",
              "    <tr>\n",
              "      <th>11751</th>\n",
              "      <td>2024-02-23</td>\n",
              "      <td>Youngstown State</td>\n",
              "      <td>@</td>\n",
              "      <td>Milwaukee</td>\n",
              "      <td>1</td>\n",
              "      <td>84</td>\n",
              "      <td>80</td>\n",
              "      <td>32</td>\n",
              "      <td>78</td>\n",
              "      <td>.410</td>\n",
              "      <td>...</td>\n",
              "      <td>.857</td>\n",
              "      <td>13</td>\n",
              "      <td>37</td>\n",
              "      <td>19</td>\n",
              "      <td>6</td>\n",
              "      <td>4</td>\n",
              "      <td>14</td>\n",
              "      <td>23</td>\n",
              "      <td>1</td>\n",
              "      <td>1</td>\n",
              "    </tr>\n",
              "    <tr>\n",
              "      <th>11752</th>\n",
              "      <td>2024-02-25</td>\n",
              "      <td>Youngstown State</td>\n",
              "      <td>@</td>\n",
              "      <td>Green Bay</td>\n",
              "      <td>1</td>\n",
              "      <td>71</td>\n",
              "      <td>59</td>\n",
              "      <td>26</td>\n",
              "      <td>55</td>\n",
              "      <td>.473</td>\n",
              "      <td>...</td>\n",
              "      <td>.750</td>\n",
              "      <td>4</td>\n",
              "      <td>20</td>\n",
              "      <td>15</td>\n",
              "      <td>2</td>\n",
              "      <td>3</td>\n",
              "      <td>10</td>\n",
              "      <td>15</td>\n",
              "      <td>0</td>\n",
              "      <td>0</td>\n",
              "    </tr>\n",
              "    <tr>\n",
              "      <th>11753</th>\n",
              "      <td>2024-02-28</td>\n",
              "      <td>Youngstown State</td>\n",
              "      <td>NaN</td>\n",
              "      <td>Detroit Mercy</td>\n",
              "      <td>1</td>\n",
              "      <td>69</td>\n",
              "      <td>55</td>\n",
              "      <td>26</td>\n",
              "      <td>61</td>\n",
              "      <td>.426</td>\n",
              "      <td>...</td>\n",
              "      <td>.667</td>\n",
              "      <td>11</td>\n",
              "      <td>35</td>\n",
              "      <td>13</td>\n",
              "      <td>10</td>\n",
              "      <td>4</td>\n",
              "      <td>9</td>\n",
              "      <td>14</td>\n",
              "      <td>0</td>\n",
              "      <td>0</td>\n",
              "    </tr>\n",
              "    <tr>\n",
              "      <th>11754</th>\n",
              "      <td>2024-03-07</td>\n",
              "      <td>Youngstown State</td>\n",
              "      <td>NaN</td>\n",
              "      <td>Cleveland State</td>\n",
              "      <td>-1</td>\n",
              "      <td>70</td>\n",
              "      <td>82</td>\n",
              "      <td>27</td>\n",
              "      <td>61</td>\n",
              "      <td>.443</td>\n",
              "      <td>...</td>\n",
              "      <td>.593</td>\n",
              "      <td>11</td>\n",
              "      <td>35</td>\n",
              "      <td>13</td>\n",
              "      <td>5</td>\n",
              "      <td>2</td>\n",
              "      <td>6</td>\n",
              "      <td>16</td>\n",
              "      <td>0</td>\n",
              "      <td>0</td>\n",
              "    </tr>\n",
              "  </tbody>\n",
              "</table>\n",
              "<p>11755 rows × 41 columns</p>\n",
              "</div>"
            ],
            "text/plain": [
              "             Date               Team Location         Opponent  Result  \\\n",
              "0      2023-11-06  Abilene Christian        @   Oklahoma State       1   \n",
              "1      2023-11-10  Abilene Christian        @         NC State      -1   \n",
              "2      2023-11-14  Abilene Christian      NaN     Prairie View      -1   \n",
              "3      2023-11-17  Abilene Christian        N   San Jose State       1   \n",
              "4      2023-11-19  Abilene Christian        N          Fordham       1   \n",
              "...           ...                ...      ...              ...     ...   \n",
              "11750  2024-02-17   Youngstown State        @  Cleveland State      -1   \n",
              "11751  2024-02-23   Youngstown State        @        Milwaukee       1   \n",
              "11752  2024-02-25   Youngstown State        @        Green Bay       1   \n",
              "11753  2024-02-28   Youngstown State      NaN    Detroit Mercy       1   \n",
              "11754  2024-03-07   Youngstown State      NaN  Cleveland State      -1   \n",
              "\n",
              "      Team Score Opponent Score Team FG Team FGA Team FG%  ... Opponent FT%  \\\n",
              "0             64             59      26       57     .456  ...         .400   \n",
              "1             64             84      20       57     .351  ...         .833   \n",
              "2             74             79      23       60     .383  ...         .971   \n",
              "3             77             71      25       59     .424  ...         .583   \n",
              "4             59             45      22       55     .400  ...         .571   \n",
              "...          ...            ...     ...      ...      ...  ...          ...   \n",
              "11750         73             81      25       58     .431  ...         .750   \n",
              "11751         84             80      32       78     .410  ...         .857   \n",
              "11752         71             59      26       55     .473  ...         .750   \n",
              "11753         69             55      26       61     .426  ...         .667   \n",
              "11754         70             82      27       61     .443  ...         .593   \n",
              "\n",
              "      Opponent ORB Opponent TRB Opponent AST Opponent STL Opponent BLK  \\\n",
              "0                6           32           13            9            2   \n",
              "1               12           34           12            4            3   \n",
              "2                8           34            7            8            5   \n",
              "3                9           35           13            4            3   \n",
              "4               16           41            3            5            3   \n",
              "...            ...          ...          ...          ...          ...   \n",
              "11750            7           28           16            9            1   \n",
              "11751           13           37           19            6            4   \n",
              "11752            4           20           15            2            3   \n",
              "11753           11           35           13           10            4   \n",
              "11754           11           35           13            5            2   \n",
              "\n",
              "      Opponent TOV Opponent PF Overtimes Amount Overtime  \n",
              "0               12          16                0        0  \n",
              "1                7          20                0        0  \n",
              "2               14          23                0        0  \n",
              "3                6          18                0        0  \n",
              "4               19          16                0        0  \n",
              "...            ...         ...              ...      ...  \n",
              "11750            9          22                0        0  \n",
              "11751           14          23                1        1  \n",
              "11752           10          15                0        0  \n",
              "11753            9          14                0        0  \n",
              "11754            6          16                0        0  \n",
              "\n",
              "[11755 rows x 41 columns]"
            ]
          },
          "execution_count": 10,
          "metadata": {},
          "output_type": "execute_result"
        }
      ],
      "source": [
        "# remove games that have not been played\n",
        "df = df.loc[(df['Result'].notna()) & (df['Result'] != 'W/L'), :].reset_index(drop=True)\n",
        "\n",
        "# get overtime info\n",
        "df['Overtimes Amount'] = df['Result'].str.extract(r'(\\d+)').astype('float16')\n",
        "df.loc[df['Overtimes Amount'].isna(), 'Overtimes Amount'] = 0\n",
        "df['Overtimes Amount'] = df['Overtimes Amount'].astype(int)\n",
        "\n",
        "# binary overtime flag\n",
        "df['Overtime'] = df['Overtimes Amount'].copy()\n",
        "df.loc[df['Overtime'] > 1, 'Overtime'] = 1\n",
        "df['Overtime'] = df['Overtime'].astype('int8')\n",
        "\n",
        "# reformat result column\n",
        "df['Result'] = df['Result'].str[:1].map({'W': 1, 'L': -1}).astype('int8')\n",
        "\n",
        "df"
      ]
    },
    {
      "cell_type": "markdown",
      "metadata": {
        "id": "JyvOU26D9Lvv"
      },
      "source": [
        "Reformat location column for home/neutral/away"
      ]
    },
    {
      "cell_type": "code",
      "execution_count": 11,
      "metadata": {
        "colab": {
          "base_uri": "https://localhost:8080/"
        },
        "id": "-7jzcyEi4HvW",
        "outputId": "190de7ca-31a0-49c7-e9a9-6b7ef3ec1e24"
      },
      "outputs": [
        {
          "data": {
            "text/plain": [
              "0       -1\n",
              "1       -1\n",
              "2        1\n",
              "3        0\n",
              "4        0\n",
              "        ..\n",
              "11750   -1\n",
              "11751   -1\n",
              "11752   -1\n",
              "11753    1\n",
              "11754    1\n",
              "Name: Location, Length: 11755, dtype: int8"
            ]
          },
          "execution_count": 11,
          "metadata": {},
          "output_type": "execute_result"
        }
      ],
      "source": [
        "df['Location'] = df['Location'].map({np.NaN: 1, 'N': 0, '@': -1}).astype('int8')\n",
        "\n",
        "df['Location']"
      ]
    },
    {
      "cell_type": "markdown",
      "metadata": {
        "id": "NEB5D4FU9Yz7"
      },
      "source": [
        "Other general fixes"
      ]
    },
    {
      "cell_type": "code",
      "execution_count": 12,
      "metadata": {
        "colab": {
          "base_uri": "https://localhost:8080/"
        },
        "id": "WMvFKRqR9YN3",
        "outputId": "0c898abd-26db-4d9c-d33b-a11955aab3f5"
      },
      "outputs": [
        {
          "data": {
            "text/html": [
              "<div>\n",
              "<style scoped>\n",
              "    .dataframe tbody tr th:only-of-type {\n",
              "        vertical-align: middle;\n",
              "    }\n",
              "\n",
              "    .dataframe tbody tr th {\n",
              "        vertical-align: top;\n",
              "    }\n",
              "\n",
              "    .dataframe thead th {\n",
              "        text-align: right;\n",
              "    }\n",
              "</style>\n",
              "<table border=\"1\" class=\"dataframe\">\n",
              "  <thead>\n",
              "    <tr style=\"text-align: right;\">\n",
              "      <th></th>\n",
              "      <th>Date</th>\n",
              "      <th>Team</th>\n",
              "      <th>Location</th>\n",
              "      <th>Opponent</th>\n",
              "      <th>Result</th>\n",
              "      <th>Team Score</th>\n",
              "      <th>Opponent Score</th>\n",
              "      <th>Team FG</th>\n",
              "      <th>Team FGA</th>\n",
              "      <th>Team FG%</th>\n",
              "      <th>...</th>\n",
              "      <th>Opponent FT%</th>\n",
              "      <th>Opponent ORB</th>\n",
              "      <th>Opponent TRB</th>\n",
              "      <th>Opponent AST</th>\n",
              "      <th>Opponent STL</th>\n",
              "      <th>Opponent BLK</th>\n",
              "      <th>Opponent TOV</th>\n",
              "      <th>Opponent PF</th>\n",
              "      <th>Overtimes Amount</th>\n",
              "      <th>Overtime</th>\n",
              "    </tr>\n",
              "  </thead>\n",
              "  <tbody>\n",
              "    <tr>\n",
              "      <th>0</th>\n",
              "      <td>2023-11-06</td>\n",
              "      <td>Abilene Christian</td>\n",
              "      <td>-1</td>\n",
              "      <td>Oklahoma State</td>\n",
              "      <td>1</td>\n",
              "      <td>64.0</td>\n",
              "      <td>59.0</td>\n",
              "      <td>26.0</td>\n",
              "      <td>57.0</td>\n",
              "      <td>0.456</td>\n",
              "      <td>...</td>\n",
              "      <td>0.400</td>\n",
              "      <td>6.0</td>\n",
              "      <td>32.0</td>\n",
              "      <td>13.0</td>\n",
              "      <td>9.0</td>\n",
              "      <td>2.0</td>\n",
              "      <td>12.0</td>\n",
              "      <td>16.0</td>\n",
              "      <td>0</td>\n",
              "      <td>0</td>\n",
              "    </tr>\n",
              "    <tr>\n",
              "      <th>1</th>\n",
              "      <td>2023-11-10</td>\n",
              "      <td>Abilene Christian</td>\n",
              "      <td>-1</td>\n",
              "      <td>NC State</td>\n",
              "      <td>-1</td>\n",
              "      <td>64.0</td>\n",
              "      <td>84.0</td>\n",
              "      <td>20.0</td>\n",
              "      <td>57.0</td>\n",
              "      <td>0.351</td>\n",
              "      <td>...</td>\n",
              "      <td>0.833</td>\n",
              "      <td>12.0</td>\n",
              "      <td>34.0</td>\n",
              "      <td>12.0</td>\n",
              "      <td>4.0</td>\n",
              "      <td>3.0</td>\n",
              "      <td>7.0</td>\n",
              "      <td>20.0</td>\n",
              "      <td>0</td>\n",
              "      <td>0</td>\n",
              "    </tr>\n",
              "    <tr>\n",
              "      <th>2</th>\n",
              "      <td>2023-11-14</td>\n",
              "      <td>Abilene Christian</td>\n",
              "      <td>1</td>\n",
              "      <td>Prairie View</td>\n",
              "      <td>-1</td>\n",
              "      <td>74.0</td>\n",
              "      <td>79.0</td>\n",
              "      <td>23.0</td>\n",
              "      <td>60.0</td>\n",
              "      <td>0.383</td>\n",
              "      <td>...</td>\n",
              "      <td>0.971</td>\n",
              "      <td>8.0</td>\n",
              "      <td>34.0</td>\n",
              "      <td>7.0</td>\n",
              "      <td>8.0</td>\n",
              "      <td>5.0</td>\n",
              "      <td>14.0</td>\n",
              "      <td>23.0</td>\n",
              "      <td>0</td>\n",
              "      <td>0</td>\n",
              "    </tr>\n",
              "    <tr>\n",
              "      <th>3</th>\n",
              "      <td>2023-11-17</td>\n",
              "      <td>Abilene Christian</td>\n",
              "      <td>0</td>\n",
              "      <td>San Jose State</td>\n",
              "      <td>1</td>\n",
              "      <td>77.0</td>\n",
              "      <td>71.0</td>\n",
              "      <td>25.0</td>\n",
              "      <td>59.0</td>\n",
              "      <td>0.424</td>\n",
              "      <td>...</td>\n",
              "      <td>0.583</td>\n",
              "      <td>9.0</td>\n",
              "      <td>35.0</td>\n",
              "      <td>13.0</td>\n",
              "      <td>4.0</td>\n",
              "      <td>3.0</td>\n",
              "      <td>6.0</td>\n",
              "      <td>18.0</td>\n",
              "      <td>0</td>\n",
              "      <td>0</td>\n",
              "    </tr>\n",
              "    <tr>\n",
              "      <th>4</th>\n",
              "      <td>2023-11-19</td>\n",
              "      <td>Abilene Christian</td>\n",
              "      <td>0</td>\n",
              "      <td>Fordham</td>\n",
              "      <td>1</td>\n",
              "      <td>59.0</td>\n",
              "      <td>45.0</td>\n",
              "      <td>22.0</td>\n",
              "      <td>55.0</td>\n",
              "      <td>0.400</td>\n",
              "      <td>...</td>\n",
              "      <td>0.571</td>\n",
              "      <td>16.0</td>\n",
              "      <td>41.0</td>\n",
              "      <td>3.0</td>\n",
              "      <td>5.0</td>\n",
              "      <td>3.0</td>\n",
              "      <td>19.0</td>\n",
              "      <td>16.0</td>\n",
              "      <td>0</td>\n",
              "      <td>0</td>\n",
              "    </tr>\n",
              "    <tr>\n",
              "      <th>...</th>\n",
              "      <td>...</td>\n",
              "      <td>...</td>\n",
              "      <td>...</td>\n",
              "      <td>...</td>\n",
              "      <td>...</td>\n",
              "      <td>...</td>\n",
              "      <td>...</td>\n",
              "      <td>...</td>\n",
              "      <td>...</td>\n",
              "      <td>...</td>\n",
              "      <td>...</td>\n",
              "      <td>...</td>\n",
              "      <td>...</td>\n",
              "      <td>...</td>\n",
              "      <td>...</td>\n",
              "      <td>...</td>\n",
              "      <td>...</td>\n",
              "      <td>...</td>\n",
              "      <td>...</td>\n",
              "      <td>...</td>\n",
              "      <td>...</td>\n",
              "    </tr>\n",
              "    <tr>\n",
              "      <th>11750</th>\n",
              "      <td>2024-02-17</td>\n",
              "      <td>Youngstown State</td>\n",
              "      <td>-1</td>\n",
              "      <td>Cleveland State</td>\n",
              "      <td>-1</td>\n",
              "      <td>73.0</td>\n",
              "      <td>81.0</td>\n",
              "      <td>25.0</td>\n",
              "      <td>58.0</td>\n",
              "      <td>0.431</td>\n",
              "      <td>...</td>\n",
              "      <td>0.750</td>\n",
              "      <td>7.0</td>\n",
              "      <td>28.0</td>\n",
              "      <td>16.0</td>\n",
              "      <td>9.0</td>\n",
              "      <td>1.0</td>\n",
              "      <td>9.0</td>\n",
              "      <td>22.0</td>\n",
              "      <td>0</td>\n",
              "      <td>0</td>\n",
              "    </tr>\n",
              "    <tr>\n",
              "      <th>11751</th>\n",
              "      <td>2024-02-23</td>\n",
              "      <td>Youngstown State</td>\n",
              "      <td>-1</td>\n",
              "      <td>Milwaukee</td>\n",
              "      <td>1</td>\n",
              "      <td>84.0</td>\n",
              "      <td>80.0</td>\n",
              "      <td>32.0</td>\n",
              "      <td>78.0</td>\n",
              "      <td>0.410</td>\n",
              "      <td>...</td>\n",
              "      <td>0.857</td>\n",
              "      <td>13.0</td>\n",
              "      <td>37.0</td>\n",
              "      <td>19.0</td>\n",
              "      <td>6.0</td>\n",
              "      <td>4.0</td>\n",
              "      <td>14.0</td>\n",
              "      <td>23.0</td>\n",
              "      <td>1</td>\n",
              "      <td>1</td>\n",
              "    </tr>\n",
              "    <tr>\n",
              "      <th>11752</th>\n",
              "      <td>2024-02-25</td>\n",
              "      <td>Youngstown State</td>\n",
              "      <td>-1</td>\n",
              "      <td>Green Bay</td>\n",
              "      <td>1</td>\n",
              "      <td>71.0</td>\n",
              "      <td>59.0</td>\n",
              "      <td>26.0</td>\n",
              "      <td>55.0</td>\n",
              "      <td>0.473</td>\n",
              "      <td>...</td>\n",
              "      <td>0.750</td>\n",
              "      <td>4.0</td>\n",
              "      <td>20.0</td>\n",
              "      <td>15.0</td>\n",
              "      <td>2.0</td>\n",
              "      <td>3.0</td>\n",
              "      <td>10.0</td>\n",
              "      <td>15.0</td>\n",
              "      <td>0</td>\n",
              "      <td>0</td>\n",
              "    </tr>\n",
              "    <tr>\n",
              "      <th>11753</th>\n",
              "      <td>2024-02-28</td>\n",
              "      <td>Youngstown State</td>\n",
              "      <td>1</td>\n",
              "      <td>Detroit Mercy</td>\n",
              "      <td>1</td>\n",
              "      <td>69.0</td>\n",
              "      <td>55.0</td>\n",
              "      <td>26.0</td>\n",
              "      <td>61.0</td>\n",
              "      <td>0.426</td>\n",
              "      <td>...</td>\n",
              "      <td>0.667</td>\n",
              "      <td>11.0</td>\n",
              "      <td>35.0</td>\n",
              "      <td>13.0</td>\n",
              "      <td>10.0</td>\n",
              "      <td>4.0</td>\n",
              "      <td>9.0</td>\n",
              "      <td>14.0</td>\n",
              "      <td>0</td>\n",
              "      <td>0</td>\n",
              "    </tr>\n",
              "    <tr>\n",
              "      <th>11754</th>\n",
              "      <td>2024-03-07</td>\n",
              "      <td>Youngstown State</td>\n",
              "      <td>1</td>\n",
              "      <td>Cleveland State</td>\n",
              "      <td>-1</td>\n",
              "      <td>70.0</td>\n",
              "      <td>82.0</td>\n",
              "      <td>27.0</td>\n",
              "      <td>61.0</td>\n",
              "      <td>0.443</td>\n",
              "      <td>...</td>\n",
              "      <td>0.593</td>\n",
              "      <td>11.0</td>\n",
              "      <td>35.0</td>\n",
              "      <td>13.0</td>\n",
              "      <td>5.0</td>\n",
              "      <td>2.0</td>\n",
              "      <td>6.0</td>\n",
              "      <td>16.0</td>\n",
              "      <td>0</td>\n",
              "      <td>0</td>\n",
              "    </tr>\n",
              "  </tbody>\n",
              "</table>\n",
              "<p>11755 rows × 41 columns</p>\n",
              "</div>"
            ],
            "text/plain": [
              "            Date               Team  Location         Opponent  Result  \\\n",
              "0     2023-11-06  Abilene Christian        -1   Oklahoma State       1   \n",
              "1     2023-11-10  Abilene Christian        -1         NC State      -1   \n",
              "2     2023-11-14  Abilene Christian         1     Prairie View      -1   \n",
              "3     2023-11-17  Abilene Christian         0   San Jose State       1   \n",
              "4     2023-11-19  Abilene Christian         0          Fordham       1   \n",
              "...          ...                ...       ...              ...     ...   \n",
              "11750 2024-02-17   Youngstown State        -1  Cleveland State      -1   \n",
              "11751 2024-02-23   Youngstown State        -1        Milwaukee       1   \n",
              "11752 2024-02-25   Youngstown State        -1        Green Bay       1   \n",
              "11753 2024-02-28   Youngstown State         1    Detroit Mercy       1   \n",
              "11754 2024-03-07   Youngstown State         1  Cleveland State      -1   \n",
              "\n",
              "       Team Score  Opponent Score  Team FG  Team FGA  Team FG%  ...  \\\n",
              "0            64.0            59.0     26.0      57.0     0.456  ...   \n",
              "1            64.0            84.0     20.0      57.0     0.351  ...   \n",
              "2            74.0            79.0     23.0      60.0     0.383  ...   \n",
              "3            77.0            71.0     25.0      59.0     0.424  ...   \n",
              "4            59.0            45.0     22.0      55.0     0.400  ...   \n",
              "...           ...             ...      ...       ...       ...  ...   \n",
              "11750        73.0            81.0     25.0      58.0     0.431  ...   \n",
              "11751        84.0            80.0     32.0      78.0     0.410  ...   \n",
              "11752        71.0            59.0     26.0      55.0     0.473  ...   \n",
              "11753        69.0            55.0     26.0      61.0     0.426  ...   \n",
              "11754        70.0            82.0     27.0      61.0     0.443  ...   \n",
              "\n",
              "       Opponent FT%  Opponent ORB  Opponent TRB  Opponent AST  Opponent STL  \\\n",
              "0             0.400           6.0          32.0          13.0           9.0   \n",
              "1             0.833          12.0          34.0          12.0           4.0   \n",
              "2             0.971           8.0          34.0           7.0           8.0   \n",
              "3             0.583           9.0          35.0          13.0           4.0   \n",
              "4             0.571          16.0          41.0           3.0           5.0   \n",
              "...             ...           ...           ...           ...           ...   \n",
              "11750         0.750           7.0          28.0          16.0           9.0   \n",
              "11751         0.857          13.0          37.0          19.0           6.0   \n",
              "11752         0.750           4.0          20.0          15.0           2.0   \n",
              "11753         0.667          11.0          35.0          13.0          10.0   \n",
              "11754         0.593          11.0          35.0          13.0           5.0   \n",
              "\n",
              "       Opponent BLK  Opponent TOV  Opponent PF  Overtimes Amount  Overtime  \n",
              "0               2.0          12.0         16.0                 0         0  \n",
              "1               3.0           7.0         20.0                 0         0  \n",
              "2               5.0          14.0         23.0                 0         0  \n",
              "3               3.0           6.0         18.0                 0         0  \n",
              "4               3.0          19.0         16.0                 0         0  \n",
              "...             ...           ...          ...               ...       ...  \n",
              "11750           1.0           9.0         22.0                 0         0  \n",
              "11751           4.0          14.0         23.0                 1         1  \n",
              "11752           3.0          10.0         15.0                 0         0  \n",
              "11753           4.0           9.0         14.0                 0         0  \n",
              "11754           2.0           6.0         16.0                 0         0  \n",
              "\n",
              "[11755 rows x 41 columns]"
            ]
          },
          "execution_count": 12,
          "metadata": {},
          "output_type": "execute_result"
        }
      ],
      "source": [
        "# fix dates\n",
        "df['Date'] = pd.to_datetime(df['Date'])\n",
        "\n",
        "# only include games before NCAA tournament\n",
        "df = df.loc[df['Date'] <= cutoff_dates[season], :].reset_index(drop=True)\n",
        "\n",
        "# fix column types\n",
        "df.loc[:, df.columns.str.contains('Team ', regex=False)] = df.loc[:, df.columns.str.contains('Team ', regex=False)].astype('float64')\n",
        "df.loc[:, df.columns.str.contains('Opponent ', regex=False)] = df.loc[:, df.columns.str.contains('Opponent ', regex=False)].astype('float64')\n",
        "\n",
        "df"
      ]
    },
    {
      "cell_type": "markdown",
      "metadata": {
        "id": "k4RMA1Ge7vGO"
      },
      "source": [
        "Remap opponent names because the opponents sometimes have a different naming convention than the team names"
      ]
    },
    {
      "cell_type": "code",
      "execution_count": 13,
      "metadata": {
        "colab": {
          "base_uri": "https://localhost:8080/",
          "height": 634
        },
        "id": "vRb7pZLHw_mh",
        "outputId": "2bc3ee14-68cd-4624-e032-47b736bf323e"
      },
      "outputs": [
        {
          "data": {
            "text/html": [
              "<div>\n",
              "<style scoped>\n",
              "    .dataframe tbody tr th:only-of-type {\n",
              "        vertical-align: middle;\n",
              "    }\n",
              "\n",
              "    .dataframe tbody tr th {\n",
              "        vertical-align: top;\n",
              "    }\n",
              "\n",
              "    .dataframe thead th {\n",
              "        text-align: right;\n",
              "    }\n",
              "</style>\n",
              "<table border=\"1\" class=\"dataframe\">\n",
              "  <thead>\n",
              "    <tr style=\"text-align: right;\">\n",
              "      <th></th>\n",
              "      <th>Date</th>\n",
              "      <th>Team</th>\n",
              "      <th>Location</th>\n",
              "      <th>Opponent</th>\n",
              "      <th>Result</th>\n",
              "      <th>Team Score</th>\n",
              "      <th>Opponent Score</th>\n",
              "      <th>Team FG</th>\n",
              "      <th>Team FGA</th>\n",
              "      <th>Team FG%</th>\n",
              "      <th>...</th>\n",
              "      <th>Opponent FT%</th>\n",
              "      <th>Opponent ORB</th>\n",
              "      <th>Opponent TRB</th>\n",
              "      <th>Opponent AST</th>\n",
              "      <th>Opponent STL</th>\n",
              "      <th>Opponent BLK</th>\n",
              "      <th>Opponent TOV</th>\n",
              "      <th>Opponent PF</th>\n",
              "      <th>Overtimes Amount</th>\n",
              "      <th>Overtime</th>\n",
              "    </tr>\n",
              "  </thead>\n",
              "  <tbody>\n",
              "    <tr>\n",
              "      <th>0</th>\n",
              "      <td>2023-11-06</td>\n",
              "      <td>Abilene Christian</td>\n",
              "      <td>-1</td>\n",
              "      <td>Oklahoma State</td>\n",
              "      <td>1</td>\n",
              "      <td>64.0</td>\n",
              "      <td>59.0</td>\n",
              "      <td>26.0</td>\n",
              "      <td>57.0</td>\n",
              "      <td>0.456</td>\n",
              "      <td>...</td>\n",
              "      <td>0.400</td>\n",
              "      <td>6.0</td>\n",
              "      <td>32.0</td>\n",
              "      <td>13.0</td>\n",
              "      <td>9.0</td>\n",
              "      <td>2.0</td>\n",
              "      <td>12.0</td>\n",
              "      <td>16.0</td>\n",
              "      <td>0</td>\n",
              "      <td>0</td>\n",
              "    </tr>\n",
              "    <tr>\n",
              "      <th>1</th>\n",
              "      <td>2023-11-10</td>\n",
              "      <td>Abilene Christian</td>\n",
              "      <td>-1</td>\n",
              "      <td>NC State</td>\n",
              "      <td>-1</td>\n",
              "      <td>64.0</td>\n",
              "      <td>84.0</td>\n",
              "      <td>20.0</td>\n",
              "      <td>57.0</td>\n",
              "      <td>0.351</td>\n",
              "      <td>...</td>\n",
              "      <td>0.833</td>\n",
              "      <td>12.0</td>\n",
              "      <td>34.0</td>\n",
              "      <td>12.0</td>\n",
              "      <td>4.0</td>\n",
              "      <td>3.0</td>\n",
              "      <td>7.0</td>\n",
              "      <td>20.0</td>\n",
              "      <td>0</td>\n",
              "      <td>0</td>\n",
              "    </tr>\n",
              "    <tr>\n",
              "      <th>2</th>\n",
              "      <td>2023-11-14</td>\n",
              "      <td>Abilene Christian</td>\n",
              "      <td>1</td>\n",
              "      <td>Prairie View</td>\n",
              "      <td>-1</td>\n",
              "      <td>74.0</td>\n",
              "      <td>79.0</td>\n",
              "      <td>23.0</td>\n",
              "      <td>60.0</td>\n",
              "      <td>0.383</td>\n",
              "      <td>...</td>\n",
              "      <td>0.971</td>\n",
              "      <td>8.0</td>\n",
              "      <td>34.0</td>\n",
              "      <td>7.0</td>\n",
              "      <td>8.0</td>\n",
              "      <td>5.0</td>\n",
              "      <td>14.0</td>\n",
              "      <td>23.0</td>\n",
              "      <td>0</td>\n",
              "      <td>0</td>\n",
              "    </tr>\n",
              "    <tr>\n",
              "      <th>3</th>\n",
              "      <td>2023-11-17</td>\n",
              "      <td>Abilene Christian</td>\n",
              "      <td>0</td>\n",
              "      <td>San Jose State</td>\n",
              "      <td>1</td>\n",
              "      <td>77.0</td>\n",
              "      <td>71.0</td>\n",
              "      <td>25.0</td>\n",
              "      <td>59.0</td>\n",
              "      <td>0.424</td>\n",
              "      <td>...</td>\n",
              "      <td>0.583</td>\n",
              "      <td>9.0</td>\n",
              "      <td>35.0</td>\n",
              "      <td>13.0</td>\n",
              "      <td>4.0</td>\n",
              "      <td>3.0</td>\n",
              "      <td>6.0</td>\n",
              "      <td>18.0</td>\n",
              "      <td>0</td>\n",
              "      <td>0</td>\n",
              "    </tr>\n",
              "    <tr>\n",
              "      <th>4</th>\n",
              "      <td>2023-11-19</td>\n",
              "      <td>Abilene Christian</td>\n",
              "      <td>0</td>\n",
              "      <td>Fordham</td>\n",
              "      <td>1</td>\n",
              "      <td>59.0</td>\n",
              "      <td>45.0</td>\n",
              "      <td>22.0</td>\n",
              "      <td>55.0</td>\n",
              "      <td>0.400</td>\n",
              "      <td>...</td>\n",
              "      <td>0.571</td>\n",
              "      <td>16.0</td>\n",
              "      <td>41.0</td>\n",
              "      <td>3.0</td>\n",
              "      <td>5.0</td>\n",
              "      <td>3.0</td>\n",
              "      <td>19.0</td>\n",
              "      <td>16.0</td>\n",
              "      <td>0</td>\n",
              "      <td>0</td>\n",
              "    </tr>\n",
              "    <tr>\n",
              "      <th>...</th>\n",
              "      <td>...</td>\n",
              "      <td>...</td>\n",
              "      <td>...</td>\n",
              "      <td>...</td>\n",
              "      <td>...</td>\n",
              "      <td>...</td>\n",
              "      <td>...</td>\n",
              "      <td>...</td>\n",
              "      <td>...</td>\n",
              "      <td>...</td>\n",
              "      <td>...</td>\n",
              "      <td>...</td>\n",
              "      <td>...</td>\n",
              "      <td>...</td>\n",
              "      <td>...</td>\n",
              "      <td>...</td>\n",
              "      <td>...</td>\n",
              "      <td>...</td>\n",
              "      <td>...</td>\n",
              "      <td>...</td>\n",
              "      <td>...</td>\n",
              "    </tr>\n",
              "    <tr>\n",
              "      <th>11233</th>\n",
              "      <td>2024-02-17</td>\n",
              "      <td>Youngstown State</td>\n",
              "      <td>-1</td>\n",
              "      <td>Cleveland State</td>\n",
              "      <td>-1</td>\n",
              "      <td>73.0</td>\n",
              "      <td>81.0</td>\n",
              "      <td>25.0</td>\n",
              "      <td>58.0</td>\n",
              "      <td>0.431</td>\n",
              "      <td>...</td>\n",
              "      <td>0.750</td>\n",
              "      <td>7.0</td>\n",
              "      <td>28.0</td>\n",
              "      <td>16.0</td>\n",
              "      <td>9.0</td>\n",
              "      <td>1.0</td>\n",
              "      <td>9.0</td>\n",
              "      <td>22.0</td>\n",
              "      <td>0</td>\n",
              "      <td>0</td>\n",
              "    </tr>\n",
              "    <tr>\n",
              "      <th>11234</th>\n",
              "      <td>2024-02-23</td>\n",
              "      <td>Youngstown State</td>\n",
              "      <td>-1</td>\n",
              "      <td>Milwaukee</td>\n",
              "      <td>1</td>\n",
              "      <td>84.0</td>\n",
              "      <td>80.0</td>\n",
              "      <td>32.0</td>\n",
              "      <td>78.0</td>\n",
              "      <td>0.410</td>\n",
              "      <td>...</td>\n",
              "      <td>0.857</td>\n",
              "      <td>13.0</td>\n",
              "      <td>37.0</td>\n",
              "      <td>19.0</td>\n",
              "      <td>6.0</td>\n",
              "      <td>4.0</td>\n",
              "      <td>14.0</td>\n",
              "      <td>23.0</td>\n",
              "      <td>1</td>\n",
              "      <td>1</td>\n",
              "    </tr>\n",
              "    <tr>\n",
              "      <th>11235</th>\n",
              "      <td>2024-02-25</td>\n",
              "      <td>Youngstown State</td>\n",
              "      <td>-1</td>\n",
              "      <td>Green Bay</td>\n",
              "      <td>1</td>\n",
              "      <td>71.0</td>\n",
              "      <td>59.0</td>\n",
              "      <td>26.0</td>\n",
              "      <td>55.0</td>\n",
              "      <td>0.473</td>\n",
              "      <td>...</td>\n",
              "      <td>0.750</td>\n",
              "      <td>4.0</td>\n",
              "      <td>20.0</td>\n",
              "      <td>15.0</td>\n",
              "      <td>2.0</td>\n",
              "      <td>3.0</td>\n",
              "      <td>10.0</td>\n",
              "      <td>15.0</td>\n",
              "      <td>0</td>\n",
              "      <td>0</td>\n",
              "    </tr>\n",
              "    <tr>\n",
              "      <th>11236</th>\n",
              "      <td>2024-02-28</td>\n",
              "      <td>Youngstown State</td>\n",
              "      <td>1</td>\n",
              "      <td>Detroit Mercy</td>\n",
              "      <td>1</td>\n",
              "      <td>69.0</td>\n",
              "      <td>55.0</td>\n",
              "      <td>26.0</td>\n",
              "      <td>61.0</td>\n",
              "      <td>0.426</td>\n",
              "      <td>...</td>\n",
              "      <td>0.667</td>\n",
              "      <td>11.0</td>\n",
              "      <td>35.0</td>\n",
              "      <td>13.0</td>\n",
              "      <td>10.0</td>\n",
              "      <td>4.0</td>\n",
              "      <td>9.0</td>\n",
              "      <td>14.0</td>\n",
              "      <td>0</td>\n",
              "      <td>0</td>\n",
              "    </tr>\n",
              "    <tr>\n",
              "      <th>11237</th>\n",
              "      <td>2024-03-07</td>\n",
              "      <td>Youngstown State</td>\n",
              "      <td>1</td>\n",
              "      <td>Cleveland State</td>\n",
              "      <td>-1</td>\n",
              "      <td>70.0</td>\n",
              "      <td>82.0</td>\n",
              "      <td>27.0</td>\n",
              "      <td>61.0</td>\n",
              "      <td>0.443</td>\n",
              "      <td>...</td>\n",
              "      <td>0.593</td>\n",
              "      <td>11.0</td>\n",
              "      <td>35.0</td>\n",
              "      <td>13.0</td>\n",
              "      <td>5.0</td>\n",
              "      <td>2.0</td>\n",
              "      <td>6.0</td>\n",
              "      <td>16.0</td>\n",
              "      <td>0</td>\n",
              "      <td>0</td>\n",
              "    </tr>\n",
              "  </tbody>\n",
              "</table>\n",
              "<p>11238 rows × 41 columns</p>\n",
              "</div>"
            ],
            "text/plain": [
              "            Date               Team  Location         Opponent  Result  \\\n",
              "0     2023-11-06  Abilene Christian        -1   Oklahoma State       1   \n",
              "1     2023-11-10  Abilene Christian        -1         NC State      -1   \n",
              "2     2023-11-14  Abilene Christian         1     Prairie View      -1   \n",
              "3     2023-11-17  Abilene Christian         0   San Jose State       1   \n",
              "4     2023-11-19  Abilene Christian         0          Fordham       1   \n",
              "...          ...                ...       ...              ...     ...   \n",
              "11233 2024-02-17   Youngstown State        -1  Cleveland State      -1   \n",
              "11234 2024-02-23   Youngstown State        -1        Milwaukee       1   \n",
              "11235 2024-02-25   Youngstown State        -1        Green Bay       1   \n",
              "11236 2024-02-28   Youngstown State         1    Detroit Mercy       1   \n",
              "11237 2024-03-07   Youngstown State         1  Cleveland State      -1   \n",
              "\n",
              "       Team Score  Opponent Score  Team FG  Team FGA  Team FG%  ...  \\\n",
              "0            64.0            59.0     26.0      57.0     0.456  ...   \n",
              "1            64.0            84.0     20.0      57.0     0.351  ...   \n",
              "2            74.0            79.0     23.0      60.0     0.383  ...   \n",
              "3            77.0            71.0     25.0      59.0     0.424  ...   \n",
              "4            59.0            45.0     22.0      55.0     0.400  ...   \n",
              "...           ...             ...      ...       ...       ...  ...   \n",
              "11233        73.0            81.0     25.0      58.0     0.431  ...   \n",
              "11234        84.0            80.0     32.0      78.0     0.410  ...   \n",
              "11235        71.0            59.0     26.0      55.0     0.473  ...   \n",
              "11236        69.0            55.0     26.0      61.0     0.426  ...   \n",
              "11237        70.0            82.0     27.0      61.0     0.443  ...   \n",
              "\n",
              "       Opponent FT%  Opponent ORB  Opponent TRB  Opponent AST  Opponent STL  \\\n",
              "0             0.400           6.0          32.0          13.0           9.0   \n",
              "1             0.833          12.0          34.0          12.0           4.0   \n",
              "2             0.971           8.0          34.0           7.0           8.0   \n",
              "3             0.583           9.0          35.0          13.0           4.0   \n",
              "4             0.571          16.0          41.0           3.0           5.0   \n",
              "...             ...           ...           ...           ...           ...   \n",
              "11233         0.750           7.0          28.0          16.0           9.0   \n",
              "11234         0.857          13.0          37.0          19.0           6.0   \n",
              "11235         0.750           4.0          20.0          15.0           2.0   \n",
              "11236         0.667          11.0          35.0          13.0          10.0   \n",
              "11237         0.593          11.0          35.0          13.0           5.0   \n",
              "\n",
              "       Opponent BLK  Opponent TOV  Opponent PF  Overtimes Amount  Overtime  \n",
              "0               2.0          12.0         16.0                 0         0  \n",
              "1               3.0           7.0         20.0                 0         0  \n",
              "2               5.0          14.0         23.0                 0         0  \n",
              "3               3.0           6.0         18.0                 0         0  \n",
              "4               3.0          19.0         16.0                 0         0  \n",
              "...             ...           ...          ...               ...       ...  \n",
              "11233           1.0           9.0         22.0                 0         0  \n",
              "11234           4.0          14.0         23.0                 1         1  \n",
              "11235           3.0          10.0         15.0                 0         0  \n",
              "11236           4.0           9.0         14.0                 0         0  \n",
              "11237           2.0           6.0         16.0                 0         0  \n",
              "\n",
              "[11238 rows x 41 columns]"
            ]
          },
          "execution_count": 13,
          "metadata": {},
          "output_type": "execute_result"
        }
      ],
      "source": [
        "# create new dataframe from opposite perspective    team <--> opponent\n",
        "df_switch = df.copy()\n",
        "\n",
        "df_switch.columns = df_switch.columns.str.replace(\n",
        "    'Team', '_TEMP_', regex=False\n",
        ").str.replace(\n",
        "    'Opponent', 'Team', regex=False\n",
        ").str.replace(\n",
        "    '_TEMP_', 'Opponent', regex=False\n",
        ")\n",
        "\n",
        "df_switch[['Location', 'Result']] *= -1\n",
        "\n",
        "# get fixed opponent names\n",
        "df['Opponent'] = pd.merge(\n",
        "    df, df_switch,\n",
        "    how='left',\n",
        "    on=(\n",
        "        ['Date', 'Location', 'Result'] +\n",
        "        list(df.loc[:, df.columns.str.contains('Team ')].columns) +\n",
        "        list(df.loc[:, df.columns.str.contains('Opponent ')].columns)\n",
        "    )\n",
        ")['Opponent_y']\n",
        "\n",
        "# Remove matchups that are not division 1\n",
        "df = df.loc[df['Opponent'].notna(), :].reset_index(drop=True)\n",
        "\n",
        "df"
      ]
    },
    {
      "cell_type": "markdown",
      "metadata": {
        "id": "OhbDMOS9KcIl"
      },
      "source": [
        "Set up adjusted Score Differential"
      ]
    },
    {
      "cell_type": "code",
      "execution_count": 14,
      "metadata": {
        "colab": {
          "base_uri": "https://localhost:8080/",
          "height": 652
        },
        "id": "KHQv19SzJRZM",
        "outputId": "c9852b0d-a58b-4db2-e903-082a87329963"
      },
      "outputs": [
        {
          "data": {
            "text/html": [
              "<div>\n",
              "<style scoped>\n",
              "    .dataframe tbody tr th:only-of-type {\n",
              "        vertical-align: middle;\n",
              "    }\n",
              "\n",
              "    .dataframe tbody tr th {\n",
              "        vertical-align: top;\n",
              "    }\n",
              "\n",
              "    .dataframe thead th {\n",
              "        text-align: right;\n",
              "    }\n",
              "</style>\n",
              "<table border=\"1\" class=\"dataframe\">\n",
              "  <thead>\n",
              "    <tr style=\"text-align: right;\">\n",
              "      <th></th>\n",
              "      <th>Date</th>\n",
              "      <th>Team</th>\n",
              "      <th>Location</th>\n",
              "      <th>Opponent</th>\n",
              "      <th>Result</th>\n",
              "      <th>Team Score</th>\n",
              "      <th>Opponent Score</th>\n",
              "      <th>Team FG</th>\n",
              "      <th>Team FGA</th>\n",
              "      <th>Team FG%</th>\n",
              "      <th>...</th>\n",
              "      <th>Opponent TRB</th>\n",
              "      <th>Opponent AST</th>\n",
              "      <th>Opponent STL</th>\n",
              "      <th>Opponent BLK</th>\n",
              "      <th>Opponent TOV</th>\n",
              "      <th>Opponent PF</th>\n",
              "      <th>Overtimes Amount</th>\n",
              "      <th>Overtime</th>\n",
              "      <th>Score Differential</th>\n",
              "      <th>Adjusted Score Differential</th>\n",
              "    </tr>\n",
              "  </thead>\n",
              "  <tbody>\n",
              "    <tr>\n",
              "      <th>0</th>\n",
              "      <td>2023-11-06</td>\n",
              "      <td>Abilene Christian</td>\n",
              "      <td>-1</td>\n",
              "      <td>Oklahoma State</td>\n",
              "      <td>1</td>\n",
              "      <td>64.0</td>\n",
              "      <td>59.0</td>\n",
              "      <td>26.0</td>\n",
              "      <td>57.0</td>\n",
              "      <td>0.456</td>\n",
              "      <td>...</td>\n",
              "      <td>32.0</td>\n",
              "      <td>13.0</td>\n",
              "      <td>9.0</td>\n",
              "      <td>2.0</td>\n",
              "      <td>12.0</td>\n",
              "      <td>16.0</td>\n",
              "      <td>0</td>\n",
              "      <td>0</td>\n",
              "      <td>5.0</td>\n",
              "      <td>1.253292</td>\n",
              "    </tr>\n",
              "    <tr>\n",
              "      <th>1</th>\n",
              "      <td>2023-11-10</td>\n",
              "      <td>Abilene Christian</td>\n",
              "      <td>-1</td>\n",
              "      <td>NC State</td>\n",
              "      <td>-1</td>\n",
              "      <td>64.0</td>\n",
              "      <td>84.0</td>\n",
              "      <td>20.0</td>\n",
              "      <td>57.0</td>\n",
              "      <td>0.351</td>\n",
              "      <td>...</td>\n",
              "      <td>34.0</td>\n",
              "      <td>12.0</td>\n",
              "      <td>4.0</td>\n",
              "      <td>3.0</td>\n",
              "      <td>7.0</td>\n",
              "      <td>20.0</td>\n",
              "      <td>0</td>\n",
              "      <td>0</td>\n",
              "      <td>-20.0</td>\n",
              "      <td>1.500000</td>\n",
              "    </tr>\n",
              "    <tr>\n",
              "      <th>2</th>\n",
              "      <td>2023-11-14</td>\n",
              "      <td>Abilene Christian</td>\n",
              "      <td>1</td>\n",
              "      <td>Prairie View</td>\n",
              "      <td>-1</td>\n",
              "      <td>74.0</td>\n",
              "      <td>79.0</td>\n",
              "      <td>23.0</td>\n",
              "      <td>60.0</td>\n",
              "      <td>0.383</td>\n",
              "      <td>...</td>\n",
              "      <td>34.0</td>\n",
              "      <td>7.0</td>\n",
              "      <td>8.0</td>\n",
              "      <td>5.0</td>\n",
              "      <td>14.0</td>\n",
              "      <td>23.0</td>\n",
              "      <td>0</td>\n",
              "      <td>0</td>\n",
              "      <td>-5.0</td>\n",
              "      <td>1.253292</td>\n",
              "    </tr>\n",
              "    <tr>\n",
              "      <th>3</th>\n",
              "      <td>2023-11-17</td>\n",
              "      <td>Abilene Christian</td>\n",
              "      <td>0</td>\n",
              "      <td>San Jose State</td>\n",
              "      <td>1</td>\n",
              "      <td>77.0</td>\n",
              "      <td>71.0</td>\n",
              "      <td>25.0</td>\n",
              "      <td>59.0</td>\n",
              "      <td>0.424</td>\n",
              "      <td>...</td>\n",
              "      <td>35.0</td>\n",
              "      <td>13.0</td>\n",
              "      <td>4.0</td>\n",
              "      <td>3.0</td>\n",
              "      <td>6.0</td>\n",
              "      <td>18.0</td>\n",
              "      <td>0</td>\n",
              "      <td>0</td>\n",
              "      <td>6.0</td>\n",
              "      <td>1.285760</td>\n",
              "    </tr>\n",
              "    <tr>\n",
              "      <th>4</th>\n",
              "      <td>2023-11-19</td>\n",
              "      <td>Abilene Christian</td>\n",
              "      <td>0</td>\n",
              "      <td>Fordham</td>\n",
              "      <td>1</td>\n",
              "      <td>59.0</td>\n",
              "      <td>45.0</td>\n",
              "      <td>22.0</td>\n",
              "      <td>55.0</td>\n",
              "      <td>0.400</td>\n",
              "      <td>...</td>\n",
              "      <td>41.0</td>\n",
              "      <td>3.0</td>\n",
              "      <td>5.0</td>\n",
              "      <td>3.0</td>\n",
              "      <td>19.0</td>\n",
              "      <td>16.0</td>\n",
              "      <td>0</td>\n",
              "      <td>0</td>\n",
              "      <td>14.0</td>\n",
              "      <td>1.448039</td>\n",
              "    </tr>\n",
              "    <tr>\n",
              "      <th>...</th>\n",
              "      <td>...</td>\n",
              "      <td>...</td>\n",
              "      <td>...</td>\n",
              "      <td>...</td>\n",
              "      <td>...</td>\n",
              "      <td>...</td>\n",
              "      <td>...</td>\n",
              "      <td>...</td>\n",
              "      <td>...</td>\n",
              "      <td>...</td>\n",
              "      <td>...</td>\n",
              "      <td>...</td>\n",
              "      <td>...</td>\n",
              "      <td>...</td>\n",
              "      <td>...</td>\n",
              "      <td>...</td>\n",
              "      <td>...</td>\n",
              "      <td>...</td>\n",
              "      <td>...</td>\n",
              "      <td>...</td>\n",
              "      <td>...</td>\n",
              "    </tr>\n",
              "    <tr>\n",
              "      <th>11233</th>\n",
              "      <td>2024-02-17</td>\n",
              "      <td>Youngstown State</td>\n",
              "      <td>-1</td>\n",
              "      <td>Cleveland State</td>\n",
              "      <td>-1</td>\n",
              "      <td>73.0</td>\n",
              "      <td>81.0</td>\n",
              "      <td>25.0</td>\n",
              "      <td>58.0</td>\n",
              "      <td>0.431</td>\n",
              "      <td>...</td>\n",
              "      <td>28.0</td>\n",
              "      <td>16.0</td>\n",
              "      <td>9.0</td>\n",
              "      <td>1.0</td>\n",
              "      <td>9.0</td>\n",
              "      <td>22.0</td>\n",
              "      <td>0</td>\n",
              "      <td>0</td>\n",
              "      <td>-8.0</td>\n",
              "      <td>1.338710</td>\n",
              "    </tr>\n",
              "    <tr>\n",
              "      <th>11234</th>\n",
              "      <td>2024-02-23</td>\n",
              "      <td>Youngstown State</td>\n",
              "      <td>-1</td>\n",
              "      <td>Milwaukee</td>\n",
              "      <td>1</td>\n",
              "      <td>84.0</td>\n",
              "      <td>80.0</td>\n",
              "      <td>32.0</td>\n",
              "      <td>78.0</td>\n",
              "      <td>0.410</td>\n",
              "      <td>...</td>\n",
              "      <td>37.0</td>\n",
              "      <td>19.0</td>\n",
              "      <td>6.0</td>\n",
              "      <td>4.0</td>\n",
              "      <td>14.0</td>\n",
              "      <td>23.0</td>\n",
              "      <td>1</td>\n",
              "      <td>1</td>\n",
              "      <td>4.0</td>\n",
              "      <td>1.214668</td>\n",
              "    </tr>\n",
              "    <tr>\n",
              "      <th>11235</th>\n",
              "      <td>2024-02-25</td>\n",
              "      <td>Youngstown State</td>\n",
              "      <td>-1</td>\n",
              "      <td>Green Bay</td>\n",
              "      <td>1</td>\n",
              "      <td>71.0</td>\n",
              "      <td>59.0</td>\n",
              "      <td>26.0</td>\n",
              "      <td>55.0</td>\n",
              "      <td>0.473</td>\n",
              "      <td>...</td>\n",
              "      <td>20.0</td>\n",
              "      <td>15.0</td>\n",
              "      <td>2.0</td>\n",
              "      <td>3.0</td>\n",
              "      <td>10.0</td>\n",
              "      <td>15.0</td>\n",
              "      <td>0</td>\n",
              "      <td>0</td>\n",
              "      <td>12.0</td>\n",
              "      <td>1.417062</td>\n",
              "    </tr>\n",
              "    <tr>\n",
              "      <th>11236</th>\n",
              "      <td>2024-02-28</td>\n",
              "      <td>Youngstown State</td>\n",
              "      <td>1</td>\n",
              "      <td>Detroit Mercy</td>\n",
              "      <td>1</td>\n",
              "      <td>69.0</td>\n",
              "      <td>55.0</td>\n",
              "      <td>26.0</td>\n",
              "      <td>61.0</td>\n",
              "      <td>0.426</td>\n",
              "      <td>...</td>\n",
              "      <td>35.0</td>\n",
              "      <td>13.0</td>\n",
              "      <td>10.0</td>\n",
              "      <td>4.0</td>\n",
              "      <td>9.0</td>\n",
              "      <td>14.0</td>\n",
              "      <td>0</td>\n",
              "      <td>0</td>\n",
              "      <td>14.0</td>\n",
              "      <td>1.448039</td>\n",
              "    </tr>\n",
              "    <tr>\n",
              "      <th>11237</th>\n",
              "      <td>2024-03-07</td>\n",
              "      <td>Youngstown State</td>\n",
              "      <td>1</td>\n",
              "      <td>Cleveland State</td>\n",
              "      <td>-1</td>\n",
              "      <td>70.0</td>\n",
              "      <td>82.0</td>\n",
              "      <td>27.0</td>\n",
              "      <td>61.0</td>\n",
              "      <td>0.443</td>\n",
              "      <td>...</td>\n",
              "      <td>35.0</td>\n",
              "      <td>13.0</td>\n",
              "      <td>5.0</td>\n",
              "      <td>2.0</td>\n",
              "      <td>6.0</td>\n",
              "      <td>16.0</td>\n",
              "      <td>0</td>\n",
              "      <td>0</td>\n",
              "      <td>-12.0</td>\n",
              "      <td>1.417062</td>\n",
              "    </tr>\n",
              "  </tbody>\n",
              "</table>\n",
              "<p>11238 rows × 43 columns</p>\n",
              "</div>"
            ],
            "text/plain": [
              "            Date               Team  Location         Opponent  Result  \\\n",
              "0     2023-11-06  Abilene Christian        -1   Oklahoma State       1   \n",
              "1     2023-11-10  Abilene Christian        -1         NC State      -1   \n",
              "2     2023-11-14  Abilene Christian         1     Prairie View      -1   \n",
              "3     2023-11-17  Abilene Christian         0   San Jose State       1   \n",
              "4     2023-11-19  Abilene Christian         0          Fordham       1   \n",
              "...          ...                ...       ...              ...     ...   \n",
              "11233 2024-02-17   Youngstown State        -1  Cleveland State      -1   \n",
              "11234 2024-02-23   Youngstown State        -1        Milwaukee       1   \n",
              "11235 2024-02-25   Youngstown State        -1        Green Bay       1   \n",
              "11236 2024-02-28   Youngstown State         1    Detroit Mercy       1   \n",
              "11237 2024-03-07   Youngstown State         1  Cleveland State      -1   \n",
              "\n",
              "       Team Score  Opponent Score  Team FG  Team FGA  Team FG%  ...  \\\n",
              "0            64.0            59.0     26.0      57.0     0.456  ...   \n",
              "1            64.0            84.0     20.0      57.0     0.351  ...   \n",
              "2            74.0            79.0     23.0      60.0     0.383  ...   \n",
              "3            77.0            71.0     25.0      59.0     0.424  ...   \n",
              "4            59.0            45.0     22.0      55.0     0.400  ...   \n",
              "...           ...             ...      ...       ...       ...  ...   \n",
              "11233        73.0            81.0     25.0      58.0     0.431  ...   \n",
              "11234        84.0            80.0     32.0      78.0     0.410  ...   \n",
              "11235        71.0            59.0     26.0      55.0     0.473  ...   \n",
              "11236        69.0            55.0     26.0      61.0     0.426  ...   \n",
              "11237        70.0            82.0     27.0      61.0     0.443  ...   \n",
              "\n",
              "       Opponent TRB  Opponent AST  Opponent STL  Opponent BLK  Opponent TOV  \\\n",
              "0              32.0          13.0           9.0           2.0          12.0   \n",
              "1              34.0          12.0           4.0           3.0           7.0   \n",
              "2              34.0           7.0           8.0           5.0          14.0   \n",
              "3              35.0          13.0           4.0           3.0           6.0   \n",
              "4              41.0           3.0           5.0           3.0          19.0   \n",
              "...             ...           ...           ...           ...           ...   \n",
              "11233          28.0          16.0           9.0           1.0           9.0   \n",
              "11234          37.0          19.0           6.0           4.0          14.0   \n",
              "11235          20.0          15.0           2.0           3.0          10.0   \n",
              "11236          35.0          13.0          10.0           4.0           9.0   \n",
              "11237          35.0          13.0           5.0           2.0           6.0   \n",
              "\n",
              "       Opponent PF  Overtimes Amount  Overtime  Score Differential  \\\n",
              "0             16.0                 0         0                 5.0   \n",
              "1             20.0                 0         0               -20.0   \n",
              "2             23.0                 0         0                -5.0   \n",
              "3             18.0                 0         0                 6.0   \n",
              "4             16.0                 0         0                14.0   \n",
              "...            ...               ...       ...                 ...   \n",
              "11233         22.0                 0         0                -8.0   \n",
              "11234         23.0                 1         1                 4.0   \n",
              "11235         15.0                 0         0                12.0   \n",
              "11236         14.0                 0         0                14.0   \n",
              "11237         16.0                 0         0               -12.0   \n",
              "\n",
              "       Adjusted Score Differential  \n",
              "0                         1.253292  \n",
              "1                         1.500000  \n",
              "2                         1.253292  \n",
              "3                         1.285760  \n",
              "4                         1.448039  \n",
              "...                            ...  \n",
              "11233                     1.338710  \n",
              "11234                     1.214668  \n",
              "11235                     1.417062  \n",
              "11236                     1.448039  \n",
              "11237                     1.417062  \n",
              "\n",
              "[11238 rows x 43 columns]"
            ]
          },
          "execution_count": 14,
          "metadata": {},
          "output_type": "execute_result"
        }
      ],
      "source": [
        "blowout_threshold = 18  # adjusted score differential will only account up to this score difference\n",
        "\n",
        "df['Score Differential'] = df['Team Score'] - df['Opponent Score']\n",
        "\n",
        "df['Adjusted Score Differential'] = df['Score Differential'].abs()\n",
        "\n",
        "df.loc[df['Adjusted Score Differential'] > blowout_threshold, 'Adjusted Score Differential'] = blowout_threshold\n",
        "\n",
        "df['Adjusted Score Differential'] = df['Adjusted Score Differential']**(np.log(1.5)/np.log(blowout_threshold))\n",
        "\n",
        "df"
      ]
    },
    {
      "cell_type": "markdown",
      "metadata": {
        "id": "Ejnrv0NQ_7d1"
      },
      "source": [
        "Get per possession stats"
      ]
    },
    {
      "cell_type": "code",
      "execution_count": 15,
      "metadata": {
        "colab": {
          "base_uri": "https://localhost:8080/"
        },
        "id": "XZ0fKQ0S_6Od",
        "outputId": "7acb1718-ac6a-43b6-c59c-3e3e216a0904"
      },
      "outputs": [
        {
          "data": {
            "text/html": [
              "<div>\n",
              "<style scoped>\n",
              "    .dataframe tbody tr th:only-of-type {\n",
              "        vertical-align: middle;\n",
              "    }\n",
              "\n",
              "    .dataframe tbody tr th {\n",
              "        vertical-align: top;\n",
              "    }\n",
              "\n",
              "    .dataframe thead th {\n",
              "        text-align: right;\n",
              "    }\n",
              "</style>\n",
              "<table border=\"1\" class=\"dataframe\">\n",
              "  <thead>\n",
              "    <tr style=\"text-align: right;\">\n",
              "      <th></th>\n",
              "      <th>Date</th>\n",
              "      <th>Team</th>\n",
              "      <th>Location</th>\n",
              "      <th>Opponent</th>\n",
              "      <th>Result</th>\n",
              "      <th>Team Score</th>\n",
              "      <th>Opponent Score</th>\n",
              "      <th>Team FG</th>\n",
              "      <th>Team FGA</th>\n",
              "      <th>Team FG%</th>\n",
              "      <th>...</th>\n",
              "      <th>Opponent TOV</th>\n",
              "      <th>Opponent PF</th>\n",
              "      <th>Overtimes Amount</th>\n",
              "      <th>Overtime</th>\n",
              "      <th>Score Differential</th>\n",
              "      <th>Adjusted Score Differential</th>\n",
              "      <th>Possessions</th>\n",
              "      <th>Team PPP</th>\n",
              "      <th>Opponent PPP</th>\n",
              "      <th>Tempo</th>\n",
              "    </tr>\n",
              "  </thead>\n",
              "  <tbody>\n",
              "    <tr>\n",
              "      <th>0</th>\n",
              "      <td>2023-11-06</td>\n",
              "      <td>Abilene Christian</td>\n",
              "      <td>-1</td>\n",
              "      <td>Oklahoma State</td>\n",
              "      <td>1</td>\n",
              "      <td>64.0</td>\n",
              "      <td>59.0</td>\n",
              "      <td>26.0</td>\n",
              "      <td>57.0</td>\n",
              "      <td>0.456</td>\n",
              "      <td>...</td>\n",
              "      <td>12.0</td>\n",
              "      <td>16.0</td>\n",
              "      <td>0</td>\n",
              "      <td>0</td>\n",
              "      <td>5.0</td>\n",
              "      <td>1.253292</td>\n",
              "      <td>70.32</td>\n",
              "      <td>0.910125</td>\n",
              "      <td>0.839022</td>\n",
              "      <td>70.320000</td>\n",
              "    </tr>\n",
              "    <tr>\n",
              "      <th>1</th>\n",
              "      <td>2023-11-10</td>\n",
              "      <td>Abilene Christian</td>\n",
              "      <td>-1</td>\n",
              "      <td>NC State</td>\n",
              "      <td>-1</td>\n",
              "      <td>64.0</td>\n",
              "      <td>84.0</td>\n",
              "      <td>20.0</td>\n",
              "      <td>57.0</td>\n",
              "      <td>0.351</td>\n",
              "      <td>...</td>\n",
              "      <td>7.0</td>\n",
              "      <td>20.0</td>\n",
              "      <td>0</td>\n",
              "      <td>0</td>\n",
              "      <td>-20.0</td>\n",
              "      <td>1.500000</td>\n",
              "      <td>66.72</td>\n",
              "      <td>0.959233</td>\n",
              "      <td>1.258993</td>\n",
              "      <td>66.720000</td>\n",
              "    </tr>\n",
              "    <tr>\n",
              "      <th>2</th>\n",
              "      <td>2023-11-14</td>\n",
              "      <td>Abilene Christian</td>\n",
              "      <td>1</td>\n",
              "      <td>Prairie View</td>\n",
              "      <td>-1</td>\n",
              "      <td>74.0</td>\n",
              "      <td>79.0</td>\n",
              "      <td>23.0</td>\n",
              "      <td>60.0</td>\n",
              "      <td>0.383</td>\n",
              "      <td>...</td>\n",
              "      <td>14.0</td>\n",
              "      <td>23.0</td>\n",
              "      <td>0</td>\n",
              "      <td>0</td>\n",
              "      <td>-5.0</td>\n",
              "      <td>1.253292</td>\n",
              "      <td>71.86</td>\n",
              "      <td>1.029780</td>\n",
              "      <td>1.099360</td>\n",
              "      <td>71.860000</td>\n",
              "    </tr>\n",
              "    <tr>\n",
              "      <th>3</th>\n",
              "      <td>2023-11-17</td>\n",
              "      <td>Abilene Christian</td>\n",
              "      <td>0</td>\n",
              "      <td>San Jose State</td>\n",
              "      <td>1</td>\n",
              "      <td>77.0</td>\n",
              "      <td>71.0</td>\n",
              "      <td>25.0</td>\n",
              "      <td>59.0</td>\n",
              "      <td>0.424</td>\n",
              "      <td>...</td>\n",
              "      <td>6.0</td>\n",
              "      <td>18.0</td>\n",
              "      <td>0</td>\n",
              "      <td>0</td>\n",
              "      <td>6.0</td>\n",
              "      <td>1.285760</td>\n",
              "      <td>65.86</td>\n",
              "      <td>1.169147</td>\n",
              "      <td>1.078044</td>\n",
              "      <td>65.860000</td>\n",
              "    </tr>\n",
              "    <tr>\n",
              "      <th>4</th>\n",
              "      <td>2023-11-19</td>\n",
              "      <td>Abilene Christian</td>\n",
              "      <td>0</td>\n",
              "      <td>Fordham</td>\n",
              "      <td>1</td>\n",
              "      <td>59.0</td>\n",
              "      <td>45.0</td>\n",
              "      <td>22.0</td>\n",
              "      <td>55.0</td>\n",
              "      <td>0.400</td>\n",
              "      <td>...</td>\n",
              "      <td>19.0</td>\n",
              "      <td>16.0</td>\n",
              "      <td>0</td>\n",
              "      <td>0</td>\n",
              "      <td>14.0</td>\n",
              "      <td>1.448039</td>\n",
              "      <td>65.86</td>\n",
              "      <td>0.895840</td>\n",
              "      <td>0.683268</td>\n",
              "      <td>65.860000</td>\n",
              "    </tr>\n",
              "    <tr>\n",
              "      <th>...</th>\n",
              "      <td>...</td>\n",
              "      <td>...</td>\n",
              "      <td>...</td>\n",
              "      <td>...</td>\n",
              "      <td>...</td>\n",
              "      <td>...</td>\n",
              "      <td>...</td>\n",
              "      <td>...</td>\n",
              "      <td>...</td>\n",
              "      <td>...</td>\n",
              "      <td>...</td>\n",
              "      <td>...</td>\n",
              "      <td>...</td>\n",
              "      <td>...</td>\n",
              "      <td>...</td>\n",
              "      <td>...</td>\n",
              "      <td>...</td>\n",
              "      <td>...</td>\n",
              "      <td>...</td>\n",
              "      <td>...</td>\n",
              "      <td>...</td>\n",
              "    </tr>\n",
              "    <tr>\n",
              "      <th>11233</th>\n",
              "      <td>2024-02-17</td>\n",
              "      <td>Youngstown State</td>\n",
              "      <td>-1</td>\n",
              "      <td>Cleveland State</td>\n",
              "      <td>-1</td>\n",
              "      <td>73.0</td>\n",
              "      <td>81.0</td>\n",
              "      <td>25.0</td>\n",
              "      <td>58.0</td>\n",
              "      <td>0.431</td>\n",
              "      <td>...</td>\n",
              "      <td>9.0</td>\n",
              "      <td>22.0</td>\n",
              "      <td>0</td>\n",
              "      <td>0</td>\n",
              "      <td>-8.0</td>\n",
              "      <td>1.338710</td>\n",
              "      <td>72.46</td>\n",
              "      <td>1.007452</td>\n",
              "      <td>1.117858</td>\n",
              "      <td>72.460000</td>\n",
              "    </tr>\n",
              "    <tr>\n",
              "      <th>11234</th>\n",
              "      <td>2024-02-23</td>\n",
              "      <td>Youngstown State</td>\n",
              "      <td>-1</td>\n",
              "      <td>Milwaukee</td>\n",
              "      <td>1</td>\n",
              "      <td>84.0</td>\n",
              "      <td>80.0</td>\n",
              "      <td>32.0</td>\n",
              "      <td>78.0</td>\n",
              "      <td>0.410</td>\n",
              "      <td>...</td>\n",
              "      <td>14.0</td>\n",
              "      <td>23.0</td>\n",
              "      <td>1</td>\n",
              "      <td>1</td>\n",
              "      <td>4.0</td>\n",
              "      <td>1.214668</td>\n",
              "      <td>79.80</td>\n",
              "      <td>1.052632</td>\n",
              "      <td>1.002506</td>\n",
              "      <td>70.933333</td>\n",
              "    </tr>\n",
              "    <tr>\n",
              "      <th>11235</th>\n",
              "      <td>2024-02-25</td>\n",
              "      <td>Youngstown State</td>\n",
              "      <td>-1</td>\n",
              "      <td>Green Bay</td>\n",
              "      <td>1</td>\n",
              "      <td>71.0</td>\n",
              "      <td>59.0</td>\n",
              "      <td>26.0</td>\n",
              "      <td>55.0</td>\n",
              "      <td>0.473</td>\n",
              "      <td>...</td>\n",
              "      <td>10.0</td>\n",
              "      <td>15.0</td>\n",
              "      <td>0</td>\n",
              "      <td>0</td>\n",
              "      <td>12.0</td>\n",
              "      <td>1.417062</td>\n",
              "      <td>62.22</td>\n",
              "      <td>1.141112</td>\n",
              "      <td>0.948248</td>\n",
              "      <td>62.220000</td>\n",
              "    </tr>\n",
              "    <tr>\n",
              "      <th>11236</th>\n",
              "      <td>2024-02-28</td>\n",
              "      <td>Youngstown State</td>\n",
              "      <td>1</td>\n",
              "      <td>Detroit Mercy</td>\n",
              "      <td>1</td>\n",
              "      <td>69.0</td>\n",
              "      <td>55.0</td>\n",
              "      <td>26.0</td>\n",
              "      <td>61.0</td>\n",
              "      <td>0.426</td>\n",
              "      <td>...</td>\n",
              "      <td>9.0</td>\n",
              "      <td>14.0</td>\n",
              "      <td>0</td>\n",
              "      <td>0</td>\n",
              "      <td>14.0</td>\n",
              "      <td>1.448039</td>\n",
              "      <td>67.68</td>\n",
              "      <td>1.019504</td>\n",
              "      <td>0.812648</td>\n",
              "      <td>67.680000</td>\n",
              "    </tr>\n",
              "    <tr>\n",
              "      <th>11237</th>\n",
              "      <td>2024-03-07</td>\n",
              "      <td>Youngstown State</td>\n",
              "      <td>1</td>\n",
              "      <td>Cleveland State</td>\n",
              "      <td>-1</td>\n",
              "      <td>70.0</td>\n",
              "      <td>82.0</td>\n",
              "      <td>27.0</td>\n",
              "      <td>61.0</td>\n",
              "      <td>0.443</td>\n",
              "      <td>...</td>\n",
              "      <td>6.0</td>\n",
              "      <td>16.0</td>\n",
              "      <td>0</td>\n",
              "      <td>0</td>\n",
              "      <td>-12.0</td>\n",
              "      <td>1.417062</td>\n",
              "      <td>68.24</td>\n",
              "      <td>1.025791</td>\n",
              "      <td>1.201641</td>\n",
              "      <td>68.240000</td>\n",
              "    </tr>\n",
              "  </tbody>\n",
              "</table>\n",
              "<p>11238 rows × 47 columns</p>\n",
              "</div>"
            ],
            "text/plain": [
              "            Date               Team  Location         Opponent  Result  \\\n",
              "0     2023-11-06  Abilene Christian        -1   Oklahoma State       1   \n",
              "1     2023-11-10  Abilene Christian        -1         NC State      -1   \n",
              "2     2023-11-14  Abilene Christian         1     Prairie View      -1   \n",
              "3     2023-11-17  Abilene Christian         0   San Jose State       1   \n",
              "4     2023-11-19  Abilene Christian         0          Fordham       1   \n",
              "...          ...                ...       ...              ...     ...   \n",
              "11233 2024-02-17   Youngstown State        -1  Cleveland State      -1   \n",
              "11234 2024-02-23   Youngstown State        -1        Milwaukee       1   \n",
              "11235 2024-02-25   Youngstown State        -1        Green Bay       1   \n",
              "11236 2024-02-28   Youngstown State         1    Detroit Mercy       1   \n",
              "11237 2024-03-07   Youngstown State         1  Cleveland State      -1   \n",
              "\n",
              "       Team Score  Opponent Score  Team FG  Team FGA  Team FG%  ...  \\\n",
              "0            64.0            59.0     26.0      57.0     0.456  ...   \n",
              "1            64.0            84.0     20.0      57.0     0.351  ...   \n",
              "2            74.0            79.0     23.0      60.0     0.383  ...   \n",
              "3            77.0            71.0     25.0      59.0     0.424  ...   \n",
              "4            59.0            45.0     22.0      55.0     0.400  ...   \n",
              "...           ...             ...      ...       ...       ...  ...   \n",
              "11233        73.0            81.0     25.0      58.0     0.431  ...   \n",
              "11234        84.0            80.0     32.0      78.0     0.410  ...   \n",
              "11235        71.0            59.0     26.0      55.0     0.473  ...   \n",
              "11236        69.0            55.0     26.0      61.0     0.426  ...   \n",
              "11237        70.0            82.0     27.0      61.0     0.443  ...   \n",
              "\n",
              "       Opponent TOV  Opponent PF  Overtimes Amount  Overtime  \\\n",
              "0              12.0         16.0                 0         0   \n",
              "1               7.0         20.0                 0         0   \n",
              "2              14.0         23.0                 0         0   \n",
              "3               6.0         18.0                 0         0   \n",
              "4              19.0         16.0                 0         0   \n",
              "...             ...          ...               ...       ...   \n",
              "11233           9.0         22.0                 0         0   \n",
              "11234          14.0         23.0                 1         1   \n",
              "11235          10.0         15.0                 0         0   \n",
              "11236           9.0         14.0                 0         0   \n",
              "11237           6.0         16.0                 0         0   \n",
              "\n",
              "       Score Differential  Adjusted Score Differential  Possessions  Team PPP  \\\n",
              "0                     5.0                     1.253292        70.32  0.910125   \n",
              "1                   -20.0                     1.500000        66.72  0.959233   \n",
              "2                    -5.0                     1.253292        71.86  1.029780   \n",
              "3                     6.0                     1.285760        65.86  1.169147   \n",
              "4                    14.0                     1.448039        65.86  0.895840   \n",
              "...                   ...                          ...          ...       ...   \n",
              "11233                -8.0                     1.338710        72.46  1.007452   \n",
              "11234                 4.0                     1.214668        79.80  1.052632   \n",
              "11235                12.0                     1.417062        62.22  1.141112   \n",
              "11236                14.0                     1.448039        67.68  1.019504   \n",
              "11237               -12.0                     1.417062        68.24  1.025791   \n",
              "\n",
              "       Opponent PPP      Tempo  \n",
              "0          0.839022  70.320000  \n",
              "1          1.258993  66.720000  \n",
              "2          1.099360  71.860000  \n",
              "3          1.078044  65.860000  \n",
              "4          0.683268  65.860000  \n",
              "...             ...        ...  \n",
              "11233      1.117858  72.460000  \n",
              "11234      1.002506  70.933333  \n",
              "11235      0.948248  62.220000  \n",
              "11236      0.812648  67.680000  \n",
              "11237      1.201641  68.240000  \n",
              "\n",
              "[11238 rows x 47 columns]"
            ]
          },
          "execution_count": 15,
          "metadata": {},
          "output_type": "execute_result"
        }
      ],
      "source": [
        "Y = 0.44\n",
        "\n",
        "df['Possessions'] = (\n",
        "    df['Team FGA'] - df['Team ORB'] + df['Team TOV'] + Y*df['Team FTA'] +\n",
        "    df['Opponent FGA'] - df['Opponent ORB'] + df['Opponent TOV'] + Y*df['Opponent FTA']\n",
        ")/2\n",
        "\n",
        "df['Team PPP'] = df['Team Score'] / df['Possessions']\n",
        "df['Opponent PPP'] = df['Opponent Score'] / df['Possessions']\n",
        "df['Tempo'] = 40*df['Possessions'] / (40 + 5*df['Overtimes Amount'])\n",
        "\n",
        "# some games are missing stats due to delay/finished recently\n",
        "df = df.loc[df['Team PPP'].notna(), :].reset_index(drop=True)\n",
        "\n",
        "df"
      ]
    },
    {
      "cell_type": "markdown",
      "metadata": {
        "id": "80ugy_n3RS6Q"
      },
      "source": [
        "### Model Building"
      ]
    },
    {
      "cell_type": "markdown",
      "metadata": {
        "id": "cCjorEh3A0nd"
      },
      "source": [
        "##### Team Ratings"
      ]
    },
    {
      "cell_type": "code",
      "execution_count": 16,
      "metadata": {
        "colab": {
          "base_uri": "https://localhost:8080/"
        },
        "id": "BOQOAP9M_GCW",
        "outputId": "8fe85d5c-e1bd-49e9-fdaf-234eb8514df6"
      },
      "outputs": [
        {
          "data": {
            "text/html": [
              "<div>\n",
              "<style scoped>\n",
              "    .dataframe tbody tr th:only-of-type {\n",
              "        vertical-align: middle;\n",
              "    }\n",
              "\n",
              "    .dataframe tbody tr th {\n",
              "        vertical-align: top;\n",
              "    }\n",
              "\n",
              "    .dataframe thead th {\n",
              "        text-align: right;\n",
              "    }\n",
              "</style>\n",
              "<table border=\"1\" class=\"dataframe\">\n",
              "  <thead>\n",
              "    <tr style=\"text-align: right;\">\n",
              "      <th></th>\n",
              "      <th>Abilene Christian</th>\n",
              "      <th>Air Force</th>\n",
              "      <th>Akron</th>\n",
              "      <th>Alabama</th>\n",
              "      <th>Alabama A&amp;M</th>\n",
              "      <th>Alabama State</th>\n",
              "      <th>Albany (NY)</th>\n",
              "      <th>Alcorn State</th>\n",
              "      <th>American</th>\n",
              "      <th>Appalachian State</th>\n",
              "      <th>...</th>\n",
              "      <th>William &amp; Mary</th>\n",
              "      <th>Winthrop</th>\n",
              "      <th>Wisconsin</th>\n",
              "      <th>Wofford</th>\n",
              "      <th>Wright State</th>\n",
              "      <th>Wyoming</th>\n",
              "      <th>Xavier</th>\n",
              "      <th>Yale</th>\n",
              "      <th>Youngstown State</th>\n",
              "      <th>Home Field Advantage</th>\n",
              "    </tr>\n",
              "  </thead>\n",
              "  <tbody>\n",
              "    <tr>\n",
              "      <th>0</th>\n",
              "      <td>1</td>\n",
              "      <td>0</td>\n",
              "      <td>0</td>\n",
              "      <td>0</td>\n",
              "      <td>0</td>\n",
              "      <td>0</td>\n",
              "      <td>0</td>\n",
              "      <td>0</td>\n",
              "      <td>0</td>\n",
              "      <td>0</td>\n",
              "      <td>...</td>\n",
              "      <td>0</td>\n",
              "      <td>0</td>\n",
              "      <td>0</td>\n",
              "      <td>0</td>\n",
              "      <td>0</td>\n",
              "      <td>0</td>\n",
              "      <td>0</td>\n",
              "      <td>0</td>\n",
              "      <td>0</td>\n",
              "      <td>-1</td>\n",
              "    </tr>\n",
              "    <tr>\n",
              "      <th>1</th>\n",
              "      <td>1</td>\n",
              "      <td>0</td>\n",
              "      <td>0</td>\n",
              "      <td>0</td>\n",
              "      <td>0</td>\n",
              "      <td>0</td>\n",
              "      <td>0</td>\n",
              "      <td>0</td>\n",
              "      <td>0</td>\n",
              "      <td>0</td>\n",
              "      <td>...</td>\n",
              "      <td>0</td>\n",
              "      <td>0</td>\n",
              "      <td>0</td>\n",
              "      <td>0</td>\n",
              "      <td>0</td>\n",
              "      <td>0</td>\n",
              "      <td>0</td>\n",
              "      <td>0</td>\n",
              "      <td>0</td>\n",
              "      <td>-1</td>\n",
              "    </tr>\n",
              "    <tr>\n",
              "      <th>2</th>\n",
              "      <td>1</td>\n",
              "      <td>0</td>\n",
              "      <td>0</td>\n",
              "      <td>0</td>\n",
              "      <td>0</td>\n",
              "      <td>0</td>\n",
              "      <td>0</td>\n",
              "      <td>0</td>\n",
              "      <td>0</td>\n",
              "      <td>0</td>\n",
              "      <td>...</td>\n",
              "      <td>0</td>\n",
              "      <td>0</td>\n",
              "      <td>0</td>\n",
              "      <td>0</td>\n",
              "      <td>0</td>\n",
              "      <td>0</td>\n",
              "      <td>0</td>\n",
              "      <td>0</td>\n",
              "      <td>0</td>\n",
              "      <td>1</td>\n",
              "    </tr>\n",
              "    <tr>\n",
              "      <th>3</th>\n",
              "      <td>1</td>\n",
              "      <td>0</td>\n",
              "      <td>0</td>\n",
              "      <td>0</td>\n",
              "      <td>0</td>\n",
              "      <td>0</td>\n",
              "      <td>0</td>\n",
              "      <td>0</td>\n",
              "      <td>0</td>\n",
              "      <td>0</td>\n",
              "      <td>...</td>\n",
              "      <td>0</td>\n",
              "      <td>0</td>\n",
              "      <td>0</td>\n",
              "      <td>0</td>\n",
              "      <td>0</td>\n",
              "      <td>0</td>\n",
              "      <td>0</td>\n",
              "      <td>0</td>\n",
              "      <td>0</td>\n",
              "      <td>0</td>\n",
              "    </tr>\n",
              "    <tr>\n",
              "      <th>4</th>\n",
              "      <td>1</td>\n",
              "      <td>0</td>\n",
              "      <td>0</td>\n",
              "      <td>0</td>\n",
              "      <td>0</td>\n",
              "      <td>0</td>\n",
              "      <td>0</td>\n",
              "      <td>0</td>\n",
              "      <td>0</td>\n",
              "      <td>0</td>\n",
              "      <td>...</td>\n",
              "      <td>0</td>\n",
              "      <td>0</td>\n",
              "      <td>0</td>\n",
              "      <td>0</td>\n",
              "      <td>0</td>\n",
              "      <td>0</td>\n",
              "      <td>0</td>\n",
              "      <td>0</td>\n",
              "      <td>0</td>\n",
              "      <td>0</td>\n",
              "    </tr>\n",
              "    <tr>\n",
              "      <th>...</th>\n",
              "      <td>...</td>\n",
              "      <td>...</td>\n",
              "      <td>...</td>\n",
              "      <td>...</td>\n",
              "      <td>...</td>\n",
              "      <td>...</td>\n",
              "      <td>...</td>\n",
              "      <td>...</td>\n",
              "      <td>...</td>\n",
              "      <td>...</td>\n",
              "      <td>...</td>\n",
              "      <td>...</td>\n",
              "      <td>...</td>\n",
              "      <td>...</td>\n",
              "      <td>...</td>\n",
              "      <td>...</td>\n",
              "      <td>...</td>\n",
              "      <td>...</td>\n",
              "      <td>...</td>\n",
              "      <td>...</td>\n",
              "      <td>...</td>\n",
              "    </tr>\n",
              "    <tr>\n",
              "      <th>11233</th>\n",
              "      <td>0</td>\n",
              "      <td>0</td>\n",
              "      <td>0</td>\n",
              "      <td>0</td>\n",
              "      <td>0</td>\n",
              "      <td>0</td>\n",
              "      <td>0</td>\n",
              "      <td>0</td>\n",
              "      <td>0</td>\n",
              "      <td>0</td>\n",
              "      <td>...</td>\n",
              "      <td>0</td>\n",
              "      <td>0</td>\n",
              "      <td>0</td>\n",
              "      <td>0</td>\n",
              "      <td>0</td>\n",
              "      <td>0</td>\n",
              "      <td>0</td>\n",
              "      <td>0</td>\n",
              "      <td>1</td>\n",
              "      <td>-1</td>\n",
              "    </tr>\n",
              "    <tr>\n",
              "      <th>11234</th>\n",
              "      <td>0</td>\n",
              "      <td>0</td>\n",
              "      <td>0</td>\n",
              "      <td>0</td>\n",
              "      <td>0</td>\n",
              "      <td>0</td>\n",
              "      <td>0</td>\n",
              "      <td>0</td>\n",
              "      <td>0</td>\n",
              "      <td>0</td>\n",
              "      <td>...</td>\n",
              "      <td>0</td>\n",
              "      <td>0</td>\n",
              "      <td>0</td>\n",
              "      <td>0</td>\n",
              "      <td>0</td>\n",
              "      <td>0</td>\n",
              "      <td>0</td>\n",
              "      <td>0</td>\n",
              "      <td>1</td>\n",
              "      <td>-1</td>\n",
              "    </tr>\n",
              "    <tr>\n",
              "      <th>11235</th>\n",
              "      <td>0</td>\n",
              "      <td>0</td>\n",
              "      <td>0</td>\n",
              "      <td>0</td>\n",
              "      <td>0</td>\n",
              "      <td>0</td>\n",
              "      <td>0</td>\n",
              "      <td>0</td>\n",
              "      <td>0</td>\n",
              "      <td>0</td>\n",
              "      <td>...</td>\n",
              "      <td>0</td>\n",
              "      <td>0</td>\n",
              "      <td>0</td>\n",
              "      <td>0</td>\n",
              "      <td>0</td>\n",
              "      <td>0</td>\n",
              "      <td>0</td>\n",
              "      <td>0</td>\n",
              "      <td>1</td>\n",
              "      <td>-1</td>\n",
              "    </tr>\n",
              "    <tr>\n",
              "      <th>11236</th>\n",
              "      <td>0</td>\n",
              "      <td>0</td>\n",
              "      <td>0</td>\n",
              "      <td>0</td>\n",
              "      <td>0</td>\n",
              "      <td>0</td>\n",
              "      <td>0</td>\n",
              "      <td>0</td>\n",
              "      <td>0</td>\n",
              "      <td>0</td>\n",
              "      <td>...</td>\n",
              "      <td>0</td>\n",
              "      <td>0</td>\n",
              "      <td>0</td>\n",
              "      <td>0</td>\n",
              "      <td>0</td>\n",
              "      <td>0</td>\n",
              "      <td>0</td>\n",
              "      <td>0</td>\n",
              "      <td>1</td>\n",
              "      <td>1</td>\n",
              "    </tr>\n",
              "    <tr>\n",
              "      <th>11237</th>\n",
              "      <td>0</td>\n",
              "      <td>0</td>\n",
              "      <td>0</td>\n",
              "      <td>0</td>\n",
              "      <td>0</td>\n",
              "      <td>0</td>\n",
              "      <td>0</td>\n",
              "      <td>0</td>\n",
              "      <td>0</td>\n",
              "      <td>0</td>\n",
              "      <td>...</td>\n",
              "      <td>0</td>\n",
              "      <td>0</td>\n",
              "      <td>0</td>\n",
              "      <td>0</td>\n",
              "      <td>0</td>\n",
              "      <td>0</td>\n",
              "      <td>0</td>\n",
              "      <td>0</td>\n",
              "      <td>1</td>\n",
              "      <td>1</td>\n",
              "    </tr>\n",
              "  </tbody>\n",
              "</table>\n",
              "<p>11238 rows × 363 columns</p>\n",
              "</div>"
            ],
            "text/plain": [
              "       Abilene Christian  Air Force  Akron  Alabama  Alabama A&M  \\\n",
              "0                      1          0      0        0            0   \n",
              "1                      1          0      0        0            0   \n",
              "2                      1          0      0        0            0   \n",
              "3                      1          0      0        0            0   \n",
              "4                      1          0      0        0            0   \n",
              "...                  ...        ...    ...      ...          ...   \n",
              "11233                  0          0      0        0            0   \n",
              "11234                  0          0      0        0            0   \n",
              "11235                  0          0      0        0            0   \n",
              "11236                  0          0      0        0            0   \n",
              "11237                  0          0      0        0            0   \n",
              "\n",
              "       Alabama State  Albany (NY)  Alcorn State  American  Appalachian State  \\\n",
              "0                  0            0             0         0                  0   \n",
              "1                  0            0             0         0                  0   \n",
              "2                  0            0             0         0                  0   \n",
              "3                  0            0             0         0                  0   \n",
              "4                  0            0             0         0                  0   \n",
              "...              ...          ...           ...       ...                ...   \n",
              "11233              0            0             0         0                  0   \n",
              "11234              0            0             0         0                  0   \n",
              "11235              0            0             0         0                  0   \n",
              "11236              0            0             0         0                  0   \n",
              "11237              0            0             0         0                  0   \n",
              "\n",
              "       ...  William & Mary  Winthrop  Wisconsin  Wofford  Wright State  \\\n",
              "0      ...               0         0          0        0             0   \n",
              "1      ...               0         0          0        0             0   \n",
              "2      ...               0         0          0        0             0   \n",
              "3      ...               0         0          0        0             0   \n",
              "4      ...               0         0          0        0             0   \n",
              "...    ...             ...       ...        ...      ...           ...   \n",
              "11233  ...               0         0          0        0             0   \n",
              "11234  ...               0         0          0        0             0   \n",
              "11235  ...               0         0          0        0             0   \n",
              "11236  ...               0         0          0        0             0   \n",
              "11237  ...               0         0          0        0             0   \n",
              "\n",
              "       Wyoming  Xavier  Yale  Youngstown State  Home Field Advantage  \n",
              "0            0       0     0                 0                    -1  \n",
              "1            0       0     0                 0                    -1  \n",
              "2            0       0     0                 0                     1  \n",
              "3            0       0     0                 0                     0  \n",
              "4            0       0     0                 0                     0  \n",
              "...        ...     ...   ...               ...                   ...  \n",
              "11233        0       0     0                 1                    -1  \n",
              "11234        0       0     0                 1                    -1  \n",
              "11235        0       0     0                 1                    -1  \n",
              "11236        0       0     0                 1                     1  \n",
              "11237        0       0     0                 1                     1  \n",
              "\n",
              "[11238 rows x 363 columns]"
            ]
          },
          "execution_count": 16,
          "metadata": {},
          "output_type": "execute_result"
        }
      ],
      "source": [
        "X = (\n",
        "    pd.get_dummies(df['Team']).astype('int8') -\n",
        "    pd.get_dummies(df['Opponent']).astype('int8')\n",
        ")\n",
        "\n",
        "X['Home Field Advantage'] = df['Location'].copy()\n",
        "\n",
        "X"
      ]
    },
    {
      "cell_type": "code",
      "execution_count": 17,
      "metadata": {
        "colab": {
          "base_uri": "https://localhost:8080/"
        },
        "id": "WadJUX6mg_Am",
        "outputId": "e7022ff0-4f8a-47ad-961b-1ddb55f07e20"
      },
      "outputs": [
        {
          "data": {
            "text/plain": [
              "3"
            ]
          },
          "execution_count": 17,
          "metadata": {},
          "output_type": "execute_result"
        }
      ],
      "source": [
        "from sklearn.model_selection import GroupKFold\n",
        "\n",
        "def get_gkf_data(X, y, w, groups, cv=3):\n",
        "    \"\"\"\n",
        "    Converts training data to list of folds\n",
        "    \"\"\"\n",
        "    np.random.seed(22)\n",
        "    gkf = GroupKFold(n_splits=cv)\n",
        "\n",
        "    data = []\n",
        "    for train_index, test_index in gkf.split(X, y, groups=groups):\n",
        "        X_train = X[train_index]\n",
        "        X_test = X[test_index]\n",
        "\n",
        "        y_train = y[train_index]\n",
        "        y_test = y[test_index]\n",
        "\n",
        "        # sample weights\n",
        "        w_train = w[train_index]\n",
        "\n",
        "        data.append((X_train, X_test, y_train, y_test, w_train))\n",
        "\n",
        "    return data\n",
        "\n",
        "cv_data = get_gkf_data(X.to_numpy(), df['Result'].to_numpy(), df[['Adjusted Score Differential']].to_numpy(), df['Date'].to_numpy())\n",
        "\n",
        "len(cv_data)"
      ]
    },
    {
      "cell_type": "code",
      "execution_count": 18,
      "metadata": {
        "colab": {
          "base_uri": "https://localhost:8080/",
          "height": 431,
          "referenced_widgets": [
            "74465af67be849fbb19f6f8c8a55b949",
            "e94aec1b89164ddfae4836522967c00b",
            "72550e3bf8624effbd73065d8627369e",
            "9a22d374fa7a454b9af4aa13c5ff1e5c",
            "4e66b4b7b22d4a1ca59c04424016fc36",
            "a96dd105023940ab911e3f5c18c66c97",
            "517e6aeca46945d5b1272e9f802ef615",
            "1353b26014824374bd34de6571e61802",
            "69c34cbc4df64f0683e2d4866e7045b0",
            "6f91b00904a347778e4f4ea1ff4cae65",
            "0a3c13f5536445869c476442ef3c16f5"
          ]
        },
        "id": "pIfGCTYHCvC-",
        "outputId": "113ef026-36c4-485d-cb24-532172c5fb24"
      },
      "outputs": [
        {
          "data": {
            "application/vnd.jupyter.widget-view+json": {
              "model_id": "261d67168c40421d8994d8d10ea8709b",
              "version_major": 2,
              "version_minor": 0
            },
            "text/plain": [
              "  0%|          | 0/100 [00:00<?, ?it/s]"
            ]
          },
          "metadata": {},
          "output_type": "display_data"
        },
        {
          "data": {
            "text/plain": [
              "{'C': 0.161885464753142, 'minimum': 1.0, 'maximum': 5.5}"
            ]
          },
          "execution_count": 18,
          "metadata": {},
          "output_type": "execute_result"
        }
      ],
      "source": [
        "from sklearn.metrics import log_loss\n",
        "from sklearn.linear_model import LogisticRegression\n",
        "import warnings\n",
        "import optuna\n",
        "\n",
        "from sklearn.preprocessing import MinMaxScaler\n",
        "optuna.logging.set_verbosity(optuna.logging.WARNING)\n",
        "\n",
        "def objective(trial, cv_data=cv_data):\n",
        "    # model tuning\n",
        "    C = trial.suggest_float('C', 0.1, 10, log=True)\n",
        "    mod = LogisticRegression(penalty='l2', C=C, fit_intercept=False)\n",
        "    minimum = trial.suggest_float('minimum', 0.1, 1.0, step=0.1)\n",
        "    maximum = trial.suggest_float('maximum', 1.0, 8.0, step=0.5)\n",
        "    if minimum >= maximum:\n",
        "        maximum = minimum + 0.0001\n",
        "\n",
        "    # cross validation\n",
        "    y_actuals = []\n",
        "    y_preds = []\n",
        "    for X_train, X_test, y_train, y_test, w_train in cv_data:\n",
        "        y_actuals.append(y_test)\n",
        "\n",
        "        weights = MinMaxScaler(feature_range=(minimum, maximum)).fit_transform(w_train).reshape(-1)\n",
        "\n",
        "        with warnings.catch_warnings():\n",
        "            warnings.filterwarnings('ignore')  # prevent convergence warnings\n",
        "            mod.fit(X_train, y_train, sample_weight=weights)\n",
        "\n",
        "        y_preds.append(mod.predict_proba(X_test)[:, 1])\n",
        "\n",
        "    return log_loss(np.hstack(y_actuals), np.hstack(y_preds))\n",
        "\n",
        "study = optuna.create_study(direction='minimize', sampler=optuna.samplers.TPESampler(seed=22))\n",
        "study.optimize(objective, n_trials=100, show_progress_bar=True)\n",
        "\n",
        "study.best_params"
      ]
    },
    {
      "cell_type": "code",
      "execution_count": 19,
      "metadata": {
        "colab": {
          "base_uri": "https://localhost:8080/"
        },
        "id": "G5gIMdoQCvPX",
        "outputId": "64987a44-b225-42d8-eea3-8f3b96013911"
      },
      "outputs": [
        {
          "data": {
            "text/plain": [
              "{'C': 0.8251941999174166,\n",
              " 'maximum': 0.09669855922468662,\n",
              " 'minimum': 0.07810724085789675}"
            ]
          },
          "execution_count": 19,
          "metadata": {},
          "output_type": "execute_result"
        }
      ],
      "source": [
        "optuna.importance.get_param_importances(study)"
      ]
    },
    {
      "cell_type": "code",
      "execution_count": 20,
      "metadata": {
        "colab": {
          "base_uri": "https://localhost:8080/",
          "height": 833
        },
        "id": "tb8YBISohZ7i",
        "outputId": "e3e8df81-3532-4937-942a-2112d21c699e"
      },
      "outputs": [
        {
          "data": {
            "text/html": [
              "<div>\n",
              "<style scoped>\n",
              "    .dataframe tbody tr th:only-of-type {\n",
              "        vertical-align: middle;\n",
              "    }\n",
              "\n",
              "    .dataframe tbody tr th {\n",
              "        vertical-align: top;\n",
              "    }\n",
              "\n",
              "    .dataframe thead th {\n",
              "        text-align: right;\n",
              "    }\n",
              "</style>\n",
              "<table border=\"1\" class=\"dataframe\">\n",
              "  <thead>\n",
              "    <tr style=\"text-align: right;\">\n",
              "      <th></th>\n",
              "      <th>Team</th>\n",
              "      <th>Rating</th>\n",
              "      <th>Strength</th>\n",
              "    </tr>\n",
              "  </thead>\n",
              "  <tbody>\n",
              "    <tr>\n",
              "      <th>1</th>\n",
              "      <td>Purdue</td>\n",
              "      <td>2.865430</td>\n",
              "      <td>94.611081</td>\n",
              "    </tr>\n",
              "    <tr>\n",
              "      <th>2</th>\n",
              "      <td>Connecticut</td>\n",
              "      <td>2.807860</td>\n",
              "      <td>94.309911</td>\n",
              "    </tr>\n",
              "    <tr>\n",
              "      <th>3</th>\n",
              "      <td>Houston</td>\n",
              "      <td>2.710147</td>\n",
              "      <td>93.762277</td>\n",
              "    </tr>\n",
              "    <tr>\n",
              "      <th>4</th>\n",
              "      <td>North Carolina</td>\n",
              "      <td>2.394173</td>\n",
              "      <td>91.638186</td>\n",
              "    </tr>\n",
              "    <tr>\n",
              "      <th>5</th>\n",
              "      <td>Auburn</td>\n",
              "      <td>2.265589</td>\n",
              "      <td>90.598676</td>\n",
              "    </tr>\n",
              "    <tr>\n",
              "      <th>6</th>\n",
              "      <td>Tennessee</td>\n",
              "      <td>2.183017</td>\n",
              "      <td>89.871402</td>\n",
              "    </tr>\n",
              "    <tr>\n",
              "      <th>7</th>\n",
              "      <td>Illinois</td>\n",
              "      <td>2.096713</td>\n",
              "      <td>89.058330</td>\n",
              "    </tr>\n",
              "    <tr>\n",
              "      <th>8</th>\n",
              "      <td>Iowa State</td>\n",
              "      <td>2.082509</td>\n",
              "      <td>88.919153</td>\n",
              "    </tr>\n",
              "    <tr>\n",
              "      <th>9</th>\n",
              "      <td>Arizona</td>\n",
              "      <td>2.068564</td>\n",
              "      <td>88.780998</td>\n",
              "    </tr>\n",
              "    <tr>\n",
              "      <th>10</th>\n",
              "      <td>Drake</td>\n",
              "      <td>1.932462</td>\n",
              "      <td>87.352169</td>\n",
              "    </tr>\n",
              "    <tr>\n",
              "      <th>11</th>\n",
              "      <td>South Carolina</td>\n",
              "      <td>1.928035</td>\n",
              "      <td>87.303181</td>\n",
              "    </tr>\n",
              "    <tr>\n",
              "      <th>12</th>\n",
              "      <td>Grand Canyon</td>\n",
              "      <td>1.919791</td>\n",
              "      <td>87.211516</td>\n",
              "    </tr>\n",
              "    <tr>\n",
              "      <th>13</th>\n",
              "      <td>San Diego State</td>\n",
              "      <td>1.917775</td>\n",
              "      <td>87.189012</td>\n",
              "    </tr>\n",
              "    <tr>\n",
              "      <th>14</th>\n",
              "      <td>McNeese State</td>\n",
              "      <td>1.916940</td>\n",
              "      <td>87.179680</td>\n",
              "    </tr>\n",
              "    <tr>\n",
              "      <th>15</th>\n",
              "      <td>Dayton</td>\n",
              "      <td>1.905746</td>\n",
              "      <td>87.054043</td>\n",
              "    </tr>\n",
              "    <tr>\n",
              "      <th>16</th>\n",
              "      <td>Duke</td>\n",
              "      <td>1.901268</td>\n",
              "      <td>87.003495</td>\n",
              "    </tr>\n",
              "    <tr>\n",
              "      <th>17</th>\n",
              "      <td>Gonzaga</td>\n",
              "      <td>1.894089</td>\n",
              "      <td>86.922109</td>\n",
              "    </tr>\n",
              "    <tr>\n",
              "      <th>18</th>\n",
              "      <td>Nevada</td>\n",
              "      <td>1.889807</td>\n",
              "      <td>86.873350</td>\n",
              "    </tr>\n",
              "    <tr>\n",
              "      <th>19</th>\n",
              "      <td>James Madison</td>\n",
              "      <td>1.874614</td>\n",
              "      <td>86.699129</td>\n",
              "    </tr>\n",
              "    <tr>\n",
              "      <th>20</th>\n",
              "      <td>Creighton</td>\n",
              "      <td>1.840495</td>\n",
              "      <td>86.300721</td>\n",
              "    </tr>\n",
              "    <tr>\n",
              "      <th>21</th>\n",
              "      <td>Marquette</td>\n",
              "      <td>1.838706</td>\n",
              "      <td>86.279558</td>\n",
              "    </tr>\n",
              "    <tr>\n",
              "      <th>22</th>\n",
              "      <td>New Mexico</td>\n",
              "      <td>1.837029</td>\n",
              "      <td>86.259700</td>\n",
              "    </tr>\n",
              "    <tr>\n",
              "      <th>23</th>\n",
              "      <td>Indiana State</td>\n",
              "      <td>1.820885</td>\n",
              "      <td>86.067227</td>\n",
              "    </tr>\n",
              "    <tr>\n",
              "      <th>24</th>\n",
              "      <td>Colorado State</td>\n",
              "      <td>1.788823</td>\n",
              "      <td>85.678292</td>\n",
              "    </tr>\n",
              "    <tr>\n",
              "      <th>25</th>\n",
              "      <td>Princeton</td>\n",
              "      <td>1.776990</td>\n",
              "      <td>85.532485</td>\n",
              "    </tr>\n",
              "  </tbody>\n",
              "</table>\n",
              "</div>"
            ],
            "text/plain": [
              "               Team    Rating   Strength\n",
              "1            Purdue  2.865430  94.611081\n",
              "2       Connecticut  2.807860  94.309911\n",
              "3           Houston  2.710147  93.762277\n",
              "4    North Carolina  2.394173  91.638186\n",
              "5            Auburn  2.265589  90.598676\n",
              "6         Tennessee  2.183017  89.871402\n",
              "7          Illinois  2.096713  89.058330\n",
              "8        Iowa State  2.082509  88.919153\n",
              "9           Arizona  2.068564  88.780998\n",
              "10            Drake  1.932462  87.352169\n",
              "11   South Carolina  1.928035  87.303181\n",
              "12     Grand Canyon  1.919791  87.211516\n",
              "13  San Diego State  1.917775  87.189012\n",
              "14    McNeese State  1.916940  87.179680\n",
              "15           Dayton  1.905746  87.054043\n",
              "16             Duke  1.901268  87.003495\n",
              "17          Gonzaga  1.894089  86.922109\n",
              "18           Nevada  1.889807  86.873350\n",
              "19    James Madison  1.874614  86.699129\n",
              "20        Creighton  1.840495  86.300721\n",
              "21        Marquette  1.838706  86.279558\n",
              "22       New Mexico  1.837029  86.259700\n",
              "23    Indiana State  1.820885  86.067227\n",
              "24   Colorado State  1.788823  85.678292\n",
              "25        Princeton  1.776990  85.532485"
            ]
          },
          "execution_count": 20,
          "metadata": {},
          "output_type": "execute_result"
        }
      ],
      "source": [
        "minimum = study.best_params['minimum']\n",
        "maximum = study.best_params['maximum']\n",
        "\n",
        "if minimum >= maximum:\n",
        "        maximum = minimum + 0.0001\n",
        "\n",
        "weight = MinMaxScaler(\n",
        "    feature_range=(minimum, maximum)\n",
        ").fit_transform(df[['Adjusted Score Differential']]).reshape(-1)\n",
        "\n",
        "mod = LogisticRegression(penalty='l2', C=study.best_params['C'], fit_intercept=False)\n",
        "\n",
        "mod.fit(X, df['Result'], sample_weight=weight)\n",
        "\n",
        "df_ratings = pd.DataFrame(\n",
        "    {\n",
        "        'Team': X.columns,\n",
        "        'Rating': mod.coef_[0]\n",
        "    }\n",
        ").sort_values(by=['Rating'], ascending=False, ignore_index=True)\n",
        "\n",
        "df_ratings_display = df_ratings.loc[df_ratings['Team'] != 'Home Field Advantage', :].reset_index(drop=True)\n",
        "df_ratings_display.index += 1\n",
        "\n",
        "df_ratings_display['Strength'] = (np.exp(df_ratings_display['Rating'])/(1 + np.exp(df_ratings_display['Rating'])))*100\n",
        "\n",
        "df_ratings_display.head(25)"
      ]
    },
    {
      "cell_type": "markdown",
      "metadata": {
        "id": "qkZ2MpRUCvlh"
      },
      "source": [
        "##### Adjusted Offense/Defense Ratings"
      ]
    },
    {
      "cell_type": "code",
      "execution_count": 21,
      "metadata": {
        "colab": {
          "base_uri": "https://localhost:8080/"
        },
        "id": "dyBAu29nCyVE",
        "outputId": "2ac8d9c7-4f7f-4935-b499-9c0d692f323f"
      },
      "outputs": [
        {
          "data": {
            "text/html": [
              "<div>\n",
              "<style scoped>\n",
              "    .dataframe tbody tr th:only-of-type {\n",
              "        vertical-align: middle;\n",
              "    }\n",
              "\n",
              "    .dataframe tbody tr th {\n",
              "        vertical-align: top;\n",
              "    }\n",
              "\n",
              "    .dataframe thead th {\n",
              "        text-align: right;\n",
              "    }\n",
              "</style>\n",
              "<table border=\"1\" class=\"dataframe\">\n",
              "  <thead>\n",
              "    <tr style=\"text-align: right;\">\n",
              "      <th></th>\n",
              "      <th>Abilene Christian Offense</th>\n",
              "      <th>Air Force Offense</th>\n",
              "      <th>Akron Offense</th>\n",
              "      <th>Alabama Offense</th>\n",
              "      <th>Alabama A&amp;M Offense</th>\n",
              "      <th>Alabama State Offense</th>\n",
              "      <th>Albany (NY) Offense</th>\n",
              "      <th>Alcorn State Offense</th>\n",
              "      <th>American Offense</th>\n",
              "      <th>Appalachian State Offense</th>\n",
              "      <th>...</th>\n",
              "      <th>William &amp; Mary Defense</th>\n",
              "      <th>Winthrop Defense</th>\n",
              "      <th>Wisconsin Defense</th>\n",
              "      <th>Wofford Defense</th>\n",
              "      <th>Wright State Defense</th>\n",
              "      <th>Wyoming Defense</th>\n",
              "      <th>Xavier Defense</th>\n",
              "      <th>Yale Defense</th>\n",
              "      <th>Youngstown State Defense</th>\n",
              "      <th>Home Field Advantage</th>\n",
              "    </tr>\n",
              "  </thead>\n",
              "  <tbody>\n",
              "    <tr>\n",
              "      <th>0</th>\n",
              "      <td>1</td>\n",
              "      <td>0</td>\n",
              "      <td>0</td>\n",
              "      <td>0</td>\n",
              "      <td>0</td>\n",
              "      <td>0</td>\n",
              "      <td>0</td>\n",
              "      <td>0</td>\n",
              "      <td>0</td>\n",
              "      <td>0</td>\n",
              "      <td>...</td>\n",
              "      <td>0</td>\n",
              "      <td>0</td>\n",
              "      <td>0</td>\n",
              "      <td>0</td>\n",
              "      <td>0</td>\n",
              "      <td>0</td>\n",
              "      <td>0</td>\n",
              "      <td>0</td>\n",
              "      <td>0</td>\n",
              "      <td>-1</td>\n",
              "    </tr>\n",
              "    <tr>\n",
              "      <th>1</th>\n",
              "      <td>1</td>\n",
              "      <td>0</td>\n",
              "      <td>0</td>\n",
              "      <td>0</td>\n",
              "      <td>0</td>\n",
              "      <td>0</td>\n",
              "      <td>0</td>\n",
              "      <td>0</td>\n",
              "      <td>0</td>\n",
              "      <td>0</td>\n",
              "      <td>...</td>\n",
              "      <td>0</td>\n",
              "      <td>0</td>\n",
              "      <td>0</td>\n",
              "      <td>0</td>\n",
              "      <td>0</td>\n",
              "      <td>0</td>\n",
              "      <td>0</td>\n",
              "      <td>0</td>\n",
              "      <td>0</td>\n",
              "      <td>-1</td>\n",
              "    </tr>\n",
              "    <tr>\n",
              "      <th>2</th>\n",
              "      <td>1</td>\n",
              "      <td>0</td>\n",
              "      <td>0</td>\n",
              "      <td>0</td>\n",
              "      <td>0</td>\n",
              "      <td>0</td>\n",
              "      <td>0</td>\n",
              "      <td>0</td>\n",
              "      <td>0</td>\n",
              "      <td>0</td>\n",
              "      <td>...</td>\n",
              "      <td>0</td>\n",
              "      <td>0</td>\n",
              "      <td>0</td>\n",
              "      <td>0</td>\n",
              "      <td>0</td>\n",
              "      <td>0</td>\n",
              "      <td>0</td>\n",
              "      <td>0</td>\n",
              "      <td>0</td>\n",
              "      <td>1</td>\n",
              "    </tr>\n",
              "    <tr>\n",
              "      <th>3</th>\n",
              "      <td>1</td>\n",
              "      <td>0</td>\n",
              "      <td>0</td>\n",
              "      <td>0</td>\n",
              "      <td>0</td>\n",
              "      <td>0</td>\n",
              "      <td>0</td>\n",
              "      <td>0</td>\n",
              "      <td>0</td>\n",
              "      <td>0</td>\n",
              "      <td>...</td>\n",
              "      <td>0</td>\n",
              "      <td>0</td>\n",
              "      <td>0</td>\n",
              "      <td>0</td>\n",
              "      <td>0</td>\n",
              "      <td>0</td>\n",
              "      <td>0</td>\n",
              "      <td>0</td>\n",
              "      <td>0</td>\n",
              "      <td>0</td>\n",
              "    </tr>\n",
              "    <tr>\n",
              "      <th>4</th>\n",
              "      <td>1</td>\n",
              "      <td>0</td>\n",
              "      <td>0</td>\n",
              "      <td>0</td>\n",
              "      <td>0</td>\n",
              "      <td>0</td>\n",
              "      <td>0</td>\n",
              "      <td>0</td>\n",
              "      <td>0</td>\n",
              "      <td>0</td>\n",
              "      <td>...</td>\n",
              "      <td>0</td>\n",
              "      <td>0</td>\n",
              "      <td>0</td>\n",
              "      <td>0</td>\n",
              "      <td>0</td>\n",
              "      <td>0</td>\n",
              "      <td>0</td>\n",
              "      <td>0</td>\n",
              "      <td>0</td>\n",
              "      <td>0</td>\n",
              "    </tr>\n",
              "    <tr>\n",
              "      <th>...</th>\n",
              "      <td>...</td>\n",
              "      <td>...</td>\n",
              "      <td>...</td>\n",
              "      <td>...</td>\n",
              "      <td>...</td>\n",
              "      <td>...</td>\n",
              "      <td>...</td>\n",
              "      <td>...</td>\n",
              "      <td>...</td>\n",
              "      <td>...</td>\n",
              "      <td>...</td>\n",
              "      <td>...</td>\n",
              "      <td>...</td>\n",
              "      <td>...</td>\n",
              "      <td>...</td>\n",
              "      <td>...</td>\n",
              "      <td>...</td>\n",
              "      <td>...</td>\n",
              "      <td>...</td>\n",
              "      <td>...</td>\n",
              "      <td>...</td>\n",
              "    </tr>\n",
              "    <tr>\n",
              "      <th>11233</th>\n",
              "      <td>0</td>\n",
              "      <td>0</td>\n",
              "      <td>0</td>\n",
              "      <td>0</td>\n",
              "      <td>0</td>\n",
              "      <td>0</td>\n",
              "      <td>0</td>\n",
              "      <td>0</td>\n",
              "      <td>0</td>\n",
              "      <td>0</td>\n",
              "      <td>...</td>\n",
              "      <td>0</td>\n",
              "      <td>0</td>\n",
              "      <td>0</td>\n",
              "      <td>0</td>\n",
              "      <td>0</td>\n",
              "      <td>0</td>\n",
              "      <td>0</td>\n",
              "      <td>0</td>\n",
              "      <td>0</td>\n",
              "      <td>-1</td>\n",
              "    </tr>\n",
              "    <tr>\n",
              "      <th>11234</th>\n",
              "      <td>0</td>\n",
              "      <td>0</td>\n",
              "      <td>0</td>\n",
              "      <td>0</td>\n",
              "      <td>0</td>\n",
              "      <td>0</td>\n",
              "      <td>0</td>\n",
              "      <td>0</td>\n",
              "      <td>0</td>\n",
              "      <td>0</td>\n",
              "      <td>...</td>\n",
              "      <td>0</td>\n",
              "      <td>0</td>\n",
              "      <td>0</td>\n",
              "      <td>0</td>\n",
              "      <td>0</td>\n",
              "      <td>0</td>\n",
              "      <td>0</td>\n",
              "      <td>0</td>\n",
              "      <td>0</td>\n",
              "      <td>-1</td>\n",
              "    </tr>\n",
              "    <tr>\n",
              "      <th>11235</th>\n",
              "      <td>0</td>\n",
              "      <td>0</td>\n",
              "      <td>0</td>\n",
              "      <td>0</td>\n",
              "      <td>0</td>\n",
              "      <td>0</td>\n",
              "      <td>0</td>\n",
              "      <td>0</td>\n",
              "      <td>0</td>\n",
              "      <td>0</td>\n",
              "      <td>...</td>\n",
              "      <td>0</td>\n",
              "      <td>0</td>\n",
              "      <td>0</td>\n",
              "      <td>0</td>\n",
              "      <td>0</td>\n",
              "      <td>0</td>\n",
              "      <td>0</td>\n",
              "      <td>0</td>\n",
              "      <td>0</td>\n",
              "      <td>-1</td>\n",
              "    </tr>\n",
              "    <tr>\n",
              "      <th>11236</th>\n",
              "      <td>0</td>\n",
              "      <td>0</td>\n",
              "      <td>0</td>\n",
              "      <td>0</td>\n",
              "      <td>0</td>\n",
              "      <td>0</td>\n",
              "      <td>0</td>\n",
              "      <td>0</td>\n",
              "      <td>0</td>\n",
              "      <td>0</td>\n",
              "      <td>...</td>\n",
              "      <td>0</td>\n",
              "      <td>0</td>\n",
              "      <td>0</td>\n",
              "      <td>0</td>\n",
              "      <td>0</td>\n",
              "      <td>0</td>\n",
              "      <td>0</td>\n",
              "      <td>0</td>\n",
              "      <td>0</td>\n",
              "      <td>1</td>\n",
              "    </tr>\n",
              "    <tr>\n",
              "      <th>11237</th>\n",
              "      <td>0</td>\n",
              "      <td>0</td>\n",
              "      <td>0</td>\n",
              "      <td>0</td>\n",
              "      <td>0</td>\n",
              "      <td>0</td>\n",
              "      <td>0</td>\n",
              "      <td>0</td>\n",
              "      <td>0</td>\n",
              "      <td>0</td>\n",
              "      <td>...</td>\n",
              "      <td>0</td>\n",
              "      <td>0</td>\n",
              "      <td>0</td>\n",
              "      <td>0</td>\n",
              "      <td>0</td>\n",
              "      <td>0</td>\n",
              "      <td>0</td>\n",
              "      <td>0</td>\n",
              "      <td>0</td>\n",
              "      <td>1</td>\n",
              "    </tr>\n",
              "  </tbody>\n",
              "</table>\n",
              "<p>11238 rows × 725 columns</p>\n",
              "</div>"
            ],
            "text/plain": [
              "       Abilene Christian Offense  Air Force Offense  Akron Offense  \\\n",
              "0                              1                  0              0   \n",
              "1                              1                  0              0   \n",
              "2                              1                  0              0   \n",
              "3                              1                  0              0   \n",
              "4                              1                  0              0   \n",
              "...                          ...                ...            ...   \n",
              "11233                          0                  0              0   \n",
              "11234                          0                  0              0   \n",
              "11235                          0                  0              0   \n",
              "11236                          0                  0              0   \n",
              "11237                          0                  0              0   \n",
              "\n",
              "       Alabama Offense  Alabama A&M Offense  Alabama State Offense  \\\n",
              "0                    0                    0                      0   \n",
              "1                    0                    0                      0   \n",
              "2                    0                    0                      0   \n",
              "3                    0                    0                      0   \n",
              "4                    0                    0                      0   \n",
              "...                ...                  ...                    ...   \n",
              "11233                0                    0                      0   \n",
              "11234                0                    0                      0   \n",
              "11235                0                    0                      0   \n",
              "11236                0                    0                      0   \n",
              "11237                0                    0                      0   \n",
              "\n",
              "       Albany (NY) Offense  Alcorn State Offense  American Offense  \\\n",
              "0                        0                     0                 0   \n",
              "1                        0                     0                 0   \n",
              "2                        0                     0                 0   \n",
              "3                        0                     0                 0   \n",
              "4                        0                     0                 0   \n",
              "...                    ...                   ...               ...   \n",
              "11233                    0                     0                 0   \n",
              "11234                    0                     0                 0   \n",
              "11235                    0                     0                 0   \n",
              "11236                    0                     0                 0   \n",
              "11237                    0                     0                 0   \n",
              "\n",
              "       Appalachian State Offense  ...  William & Mary Defense  \\\n",
              "0                              0  ...                       0   \n",
              "1                              0  ...                       0   \n",
              "2                              0  ...                       0   \n",
              "3                              0  ...                       0   \n",
              "4                              0  ...                       0   \n",
              "...                          ...  ...                     ...   \n",
              "11233                          0  ...                       0   \n",
              "11234                          0  ...                       0   \n",
              "11235                          0  ...                       0   \n",
              "11236                          0  ...                       0   \n",
              "11237                          0  ...                       0   \n",
              "\n",
              "       Winthrop Defense  Wisconsin Defense  Wofford Defense  \\\n",
              "0                     0                  0                0   \n",
              "1                     0                  0                0   \n",
              "2                     0                  0                0   \n",
              "3                     0                  0                0   \n",
              "4                     0                  0                0   \n",
              "...                 ...                ...              ...   \n",
              "11233                 0                  0                0   \n",
              "11234                 0                  0                0   \n",
              "11235                 0                  0                0   \n",
              "11236                 0                  0                0   \n",
              "11237                 0                  0                0   \n",
              "\n",
              "       Wright State Defense  Wyoming Defense  Xavier Defense  Yale Defense  \\\n",
              "0                         0                0               0             0   \n",
              "1                         0                0               0             0   \n",
              "2                         0                0               0             0   \n",
              "3                         0                0               0             0   \n",
              "4                         0                0               0             0   \n",
              "...                     ...              ...             ...           ...   \n",
              "11233                     0                0               0             0   \n",
              "11234                     0                0               0             0   \n",
              "11235                     0                0               0             0   \n",
              "11236                     0                0               0             0   \n",
              "11237                     0                0               0             0   \n",
              "\n",
              "       Youngstown State Defense  Home Field Advantage  \n",
              "0                             0                    -1  \n",
              "1                             0                    -1  \n",
              "2                             0                     1  \n",
              "3                             0                     0  \n",
              "4                             0                     0  \n",
              "...                         ...                   ...  \n",
              "11233                         0                    -1  \n",
              "11234                         0                    -1  \n",
              "11235                         0                    -1  \n",
              "11236                         0                     1  \n",
              "11237                         0                     1  \n",
              "\n",
              "[11238 rows x 725 columns]"
            ]
          },
          "execution_count": 21,
          "metadata": {},
          "output_type": "execute_result"
        }
      ],
      "source": [
        "X_offense = pd.get_dummies(\n",
        "    df['Team']\n",
        ").astype('int8')\n",
        "\n",
        "X_offense.columns += ' Offense'\n",
        "\n",
        "X_defense = -pd.get_dummies(\n",
        "    df['Opponent']\n",
        ").astype('int8')\n",
        "\n",
        "X_defense.columns += ' Defense'\n",
        "\n",
        "X = pd.concat([X_offense, X_defense], axis=1)\n",
        "\n",
        "X['Home Field Advantage'] = df['Location'].copy()\n",
        "\n",
        "X"
      ]
    },
    {
      "cell_type": "code",
      "execution_count": 22,
      "metadata": {
        "colab": {
          "base_uri": "https://localhost:8080/"
        },
        "id": "TZhQzRkyC1hK",
        "outputId": "8902520e-17ba-49e6-bd29-fe40e2eca743"
      },
      "outputs": [
        {
          "data": {
            "text/plain": [
              "3"
            ]
          },
          "execution_count": 22,
          "metadata": {},
          "output_type": "execute_result"
        }
      ],
      "source": [
        "def get_gkf_data(X, y, groups, cv=3):\n",
        "    \"\"\"\n",
        "    Converts training data to list of folds\n",
        "    \"\"\"\n",
        "    np.random.seed(22)\n",
        "    gkf = GroupKFold(n_splits=cv)\n",
        "\n",
        "    data = []\n",
        "    for train_index, test_index in gkf.split(X, y, groups=groups):\n",
        "        X_train = X[train_index, :]\n",
        "        X_test = X[test_index, :]\n",
        "\n",
        "        y_train = y[train_index]\n",
        "        y_test = y[test_index]\n",
        "\n",
        "        data.append([X_train, X_test, y_train, y_test])\n",
        "\n",
        "    return data\n",
        "\n",
        "cv_data = get_gkf_data(X.to_numpy(), df['Team PPP'].to_numpy(), df['Date'].to_numpy())\n",
        "\n",
        "len(cv_data)"
      ]
    },
    {
      "cell_type": "code",
      "execution_count": 23,
      "metadata": {
        "colab": {
          "base_uri": "https://localhost:8080/",
          "height": 66,
          "referenced_widgets": [
            "11f4f7465764482e9bec62cefa12ddb2",
            "b5012a0f81b94aa68f0261fe5a226f51",
            "765cd1cbe3e1446c97fbd94bb28e00cc",
            "6e60634134c04119919ef66355a00b52",
            "ee95c8c842b147df8b9213018e4f018a",
            "bc179a21c5bb4a2eabdf02e39e11c3ed",
            "ba64378106af44808a0b61dd8a6c21d6",
            "0bfc3f942bd1423f8a3a1e39c9ed21c8",
            "2e8643cb55404d0d8cf996b8131c78c4",
            "27b91ed1a9434dd2abf73255137379e8",
            "4551335ae36b4fe69b4144f2952dbf44"
          ]
        },
        "id": "A4EBk4OBC3ks",
        "outputId": "5506fbd6-5f77-41bf-db33-35a2a7d9aa20"
      },
      "outputs": [
        {
          "data": {
            "application/vnd.jupyter.widget-view+json": {
              "model_id": "21343c48fb6e4132831af72be1c4b870",
              "version_major": 2,
              "version_minor": 0
            },
            "text/plain": [
              "  0%|          | 0/100 [00:00<?, ?it/s]"
            ]
          },
          "metadata": {},
          "output_type": "display_data"
        },
        {
          "data": {
            "text/plain": [
              "{'alpha': 2.2847880124847246}"
            ]
          },
          "execution_count": 23,
          "metadata": {},
          "output_type": "execute_result"
        }
      ],
      "source": [
        "from sklearn.metrics import mean_squared_error\n",
        "from sklearn.linear_model import Ridge\n",
        "\n",
        "optuna.logging.set_verbosity(optuna.logging.WARNING)\n",
        "\n",
        "def objective(trial, cv_data=cv_data):\n",
        "    # model tuning\n",
        "    alpha = trial.suggest_float('alpha', 0.1, 10, log=True)\n",
        "    mod = Ridge(alpha=alpha)\n",
        "\n",
        "    # cross validation\n",
        "    y_actuals = []\n",
        "    y_preds = []\n",
        "    for X_train, X_test, y_train, y_test in cv_data:\n",
        "        y_actuals.append(y_test)\n",
        "\n",
        "        mod.fit(X_train, y_train)\n",
        "        y_preds.append(mod.predict(X_test))\n",
        "\n",
        "    return mean_squared_error(np.hstack(y_actuals), np.hstack(y_preds))\n",
        "\n",
        "study = optuna.create_study(direction='minimize', sampler=optuna.samplers.TPESampler(seed=22))\n",
        "study.optimize(objective, n_trials=100, show_progress_bar=True)\n",
        "\n",
        "study.best_params"
      ]
    },
    {
      "cell_type": "code",
      "execution_count": 24,
      "metadata": {
        "colab": {
          "base_uri": "https://localhost:8080/",
          "height": 423
        },
        "id": "uDk0RVuPC5O5",
        "outputId": "ea7301ea-23b6-40d3-febe-cbb34268024e"
      },
      "outputs": [
        {
          "data": {
            "text/html": [
              "<div>\n",
              "<style scoped>\n",
              "    .dataframe tbody tr th:only-of-type {\n",
              "        vertical-align: middle;\n",
              "    }\n",
              "\n",
              "    .dataframe tbody tr th {\n",
              "        vertical-align: top;\n",
              "    }\n",
              "\n",
              "    .dataframe thead th {\n",
              "        text-align: right;\n",
              "    }\n",
              "</style>\n",
              "<table border=\"1\" class=\"dataframe\">\n",
              "  <thead>\n",
              "    <tr style=\"text-align: right;\">\n",
              "      <th></th>\n",
              "      <th>Team</th>\n",
              "      <th>Rating</th>\n",
              "    </tr>\n",
              "  </thead>\n",
              "  <tbody>\n",
              "    <tr>\n",
              "      <th>0</th>\n",
              "      <td>Houston Defense</td>\n",
              "      <td>0.200887</td>\n",
              "    </tr>\n",
              "    <tr>\n",
              "      <th>1</th>\n",
              "      <td>Alabama Offense</td>\n",
              "      <td>0.188547</td>\n",
              "    </tr>\n",
              "    <tr>\n",
              "      <th>2</th>\n",
              "      <td>Connecticut Offense</td>\n",
              "      <td>0.187152</td>\n",
              "    </tr>\n",
              "    <tr>\n",
              "      <th>3</th>\n",
              "      <td>Purdue Offense</td>\n",
              "      <td>0.181197</td>\n",
              "    </tr>\n",
              "    <tr>\n",
              "      <th>4</th>\n",
              "      <td>Iowa State Defense</td>\n",
              "      <td>0.174275</td>\n",
              "    </tr>\n",
              "    <tr>\n",
              "      <th>...</th>\n",
              "      <td>...</td>\n",
              "      <td>...</td>\n",
              "    </tr>\n",
              "    <tr>\n",
              "      <th>720</th>\n",
              "      <td>Maryland-Eastern Shore Offense</td>\n",
              "      <td>-0.149006</td>\n",
              "    </tr>\n",
              "    <tr>\n",
              "      <th>721</th>\n",
              "      <td>Siena Offense</td>\n",
              "      <td>-0.152541</td>\n",
              "    </tr>\n",
              "    <tr>\n",
              "      <th>722</th>\n",
              "      <td>Virginia Military Institute Offense</td>\n",
              "      <td>-0.157692</td>\n",
              "    </tr>\n",
              "    <tr>\n",
              "      <th>723</th>\n",
              "      <td>Mississippi Valley State Offense</td>\n",
              "      <td>-0.199409</td>\n",
              "    </tr>\n",
              "    <tr>\n",
              "      <th>724</th>\n",
              "      <td>Coppin State Offense</td>\n",
              "      <td>-0.199608</td>\n",
              "    </tr>\n",
              "  </tbody>\n",
              "</table>\n",
              "<p>725 rows × 2 columns</p>\n",
              "</div>"
            ],
            "text/plain": [
              "                                    Team    Rating\n",
              "0                        Houston Defense  0.200887\n",
              "1                        Alabama Offense  0.188547\n",
              "2                    Connecticut Offense  0.187152\n",
              "3                         Purdue Offense  0.181197\n",
              "4                     Iowa State Defense  0.174275\n",
              "..                                   ...       ...\n",
              "720       Maryland-Eastern Shore Offense -0.149006\n",
              "721                        Siena Offense -0.152541\n",
              "722  Virginia Military Institute Offense -0.157692\n",
              "723     Mississippi Valley State Offense -0.199409\n",
              "724                 Coppin State Offense -0.199608\n",
              "\n",
              "[725 rows x 2 columns]"
            ]
          },
          "execution_count": 24,
          "metadata": {},
          "output_type": "execute_result"
        }
      ],
      "source": [
        "mod = Ridge(alpha=study.best_params['alpha'])\n",
        "\n",
        "mod.fit(X, df['Team PPP'])\n",
        "\n",
        "df_ppp = pd.DataFrame(\n",
        "    {\n",
        "        'Team': X.columns,\n",
        "        'Rating': mod.coef_\n",
        "    }\n",
        ").sort_values(by=['Rating'], ascending=False, ignore_index=True)\n",
        "\n",
        "df_ppp"
      ]
    },
    {
      "cell_type": "code",
      "execution_count": 25,
      "metadata": {
        "colab": {
          "base_uri": "https://localhost:8080/",
          "height": 81
        },
        "id": "YrDRPCuBC69i",
        "outputId": "84e38012-eba1-4815-fd2b-f5bad0e75d02"
      },
      "outputs": [
        {
          "data": {
            "text/html": [
              "<div>\n",
              "<style scoped>\n",
              "    .dataframe tbody tr th:only-of-type {\n",
              "        vertical-align: middle;\n",
              "    }\n",
              "\n",
              "    .dataframe tbody tr th {\n",
              "        vertical-align: top;\n",
              "    }\n",
              "\n",
              "    .dataframe thead th {\n",
              "        text-align: right;\n",
              "    }\n",
              "</style>\n",
              "<table border=\"1\" class=\"dataframe\">\n",
              "  <thead>\n",
              "    <tr style=\"text-align: right;\">\n",
              "      <th></th>\n",
              "      <th>Team</th>\n",
              "      <th>Rating</th>\n",
              "    </tr>\n",
              "  </thead>\n",
              "  <tbody>\n",
              "    <tr>\n",
              "      <th>253</th>\n",
              "      <td>Home Field Advantage</td>\n",
              "      <td>0.02433</td>\n",
              "    </tr>\n",
              "  </tbody>\n",
              "</table>\n",
              "</div>"
            ],
            "text/plain": [
              "                     Team   Rating\n",
              "253  Home Field Advantage  0.02433"
            ]
          },
          "execution_count": 25,
          "metadata": {},
          "output_type": "execute_result"
        }
      ],
      "source": [
        "df_ppp.loc[df_ppp['Team'].str.contains('Home Field'), :]"
      ]
    },
    {
      "cell_type": "code",
      "execution_count": 26,
      "metadata": {
        "colab": {
          "base_uri": "https://localhost:8080/",
          "height": 833
        },
        "id": "BqftIvhEC8Zm",
        "outputId": "767d9fbb-4057-45cb-cb61-a549866b8366"
      },
      "outputs": [
        {
          "data": {
            "text/html": [
              "<div>\n",
              "<style scoped>\n",
              "    .dataframe tbody tr th:only-of-type {\n",
              "        vertical-align: middle;\n",
              "    }\n",
              "\n",
              "    .dataframe tbody tr th {\n",
              "        vertical-align: top;\n",
              "    }\n",
              "\n",
              "    .dataframe thead th {\n",
              "        text-align: right;\n",
              "    }\n",
              "</style>\n",
              "<table border=\"1\" class=\"dataframe\">\n",
              "  <thead>\n",
              "    <tr style=\"text-align: right;\">\n",
              "      <th></th>\n",
              "      <th>Team</th>\n",
              "      <th>Rating</th>\n",
              "    </tr>\n",
              "  </thead>\n",
              "  <tbody>\n",
              "    <tr>\n",
              "      <th>0</th>\n",
              "      <td>Alabama</td>\n",
              "      <td>1.235296</td>\n",
              "    </tr>\n",
              "    <tr>\n",
              "      <th>1</th>\n",
              "      <td>Connecticut</td>\n",
              "      <td>1.233900</td>\n",
              "    </tr>\n",
              "    <tr>\n",
              "      <th>2</th>\n",
              "      <td>Purdue</td>\n",
              "      <td>1.227945</td>\n",
              "    </tr>\n",
              "    <tr>\n",
              "      <th>3</th>\n",
              "      <td>Baylor</td>\n",
              "      <td>1.216799</td>\n",
              "    </tr>\n",
              "    <tr>\n",
              "      <th>4</th>\n",
              "      <td>Illinois</td>\n",
              "      <td>1.211189</td>\n",
              "    </tr>\n",
              "    <tr>\n",
              "      <th>5</th>\n",
              "      <td>Arizona</td>\n",
              "      <td>1.197248</td>\n",
              "    </tr>\n",
              "    <tr>\n",
              "      <th>6</th>\n",
              "      <td>Duke</td>\n",
              "      <td>1.196245</td>\n",
              "    </tr>\n",
              "    <tr>\n",
              "      <th>7</th>\n",
              "      <td>Kentucky</td>\n",
              "      <td>1.192826</td>\n",
              "    </tr>\n",
              "    <tr>\n",
              "      <th>8</th>\n",
              "      <td>Gonzaga</td>\n",
              "      <td>1.191503</td>\n",
              "    </tr>\n",
              "    <tr>\n",
              "      <th>9</th>\n",
              "      <td>Auburn</td>\n",
              "      <td>1.191466</td>\n",
              "    </tr>\n",
              "    <tr>\n",
              "      <th>10</th>\n",
              "      <td>Creighton</td>\n",
              "      <td>1.186583</td>\n",
              "    </tr>\n",
              "    <tr>\n",
              "      <th>11</th>\n",
              "      <td>Brigham Young</td>\n",
              "      <td>1.185323</td>\n",
              "    </tr>\n",
              "    <tr>\n",
              "      <th>12</th>\n",
              "      <td>Wisconsin</td>\n",
              "      <td>1.173877</td>\n",
              "    </tr>\n",
              "    <tr>\n",
              "      <th>13</th>\n",
              "      <td>Florida Atlantic</td>\n",
              "      <td>1.171591</td>\n",
              "    </tr>\n",
              "    <tr>\n",
              "      <th>14</th>\n",
              "      <td>Houston</td>\n",
              "      <td>1.170705</td>\n",
              "    </tr>\n",
              "    <tr>\n",
              "      <th>15</th>\n",
              "      <td>Dayton</td>\n",
              "      <td>1.167546</td>\n",
              "    </tr>\n",
              "    <tr>\n",
              "      <th>16</th>\n",
              "      <td>Iowa</td>\n",
              "      <td>1.167545</td>\n",
              "    </tr>\n",
              "    <tr>\n",
              "      <th>17</th>\n",
              "      <td>Indiana State</td>\n",
              "      <td>1.166741</td>\n",
              "    </tr>\n",
              "    <tr>\n",
              "      <th>18</th>\n",
              "      <td>Florida</td>\n",
              "      <td>1.165091</td>\n",
              "    </tr>\n",
              "    <tr>\n",
              "      <th>19</th>\n",
              "      <td>Princeton</td>\n",
              "      <td>1.162449</td>\n",
              "    </tr>\n",
              "    <tr>\n",
              "      <th>20</th>\n",
              "      <td>Marquette</td>\n",
              "      <td>1.162179</td>\n",
              "    </tr>\n",
              "    <tr>\n",
              "      <th>21</th>\n",
              "      <td>North Carolina</td>\n",
              "      <td>1.157857</td>\n",
              "    </tr>\n",
              "    <tr>\n",
              "      <th>22</th>\n",
              "      <td>Texas Tech</td>\n",
              "      <td>1.154243</td>\n",
              "    </tr>\n",
              "    <tr>\n",
              "      <th>23</th>\n",
              "      <td>Clemson</td>\n",
              "      <td>1.153736</td>\n",
              "    </tr>\n",
              "    <tr>\n",
              "      <th>24</th>\n",
              "      <td>Colorado</td>\n",
              "      <td>1.153303</td>\n",
              "    </tr>\n",
              "  </tbody>\n",
              "</table>\n",
              "</div>"
            ],
            "text/plain": [
              "                Team    Rating\n",
              "0            Alabama  1.235296\n",
              "1        Connecticut  1.233900\n",
              "2             Purdue  1.227945\n",
              "3             Baylor  1.216799\n",
              "4           Illinois  1.211189\n",
              "5            Arizona  1.197248\n",
              "6               Duke  1.196245\n",
              "7           Kentucky  1.192826\n",
              "8            Gonzaga  1.191503\n",
              "9             Auburn  1.191466\n",
              "10         Creighton  1.186583\n",
              "11     Brigham Young  1.185323\n",
              "12         Wisconsin  1.173877\n",
              "13  Florida Atlantic  1.171591\n",
              "14           Houston  1.170705\n",
              "15            Dayton  1.167546\n",
              "16              Iowa  1.167545\n",
              "17     Indiana State  1.166741\n",
              "18           Florida  1.165091\n",
              "19         Princeton  1.162449\n",
              "20         Marquette  1.162179\n",
              "21    North Carolina  1.157857\n",
              "22        Texas Tech  1.154243\n",
              "23           Clemson  1.153736\n",
              "24          Colorado  1.153303"
            ]
          },
          "execution_count": 26,
          "metadata": {},
          "output_type": "execute_result"
        }
      ],
      "source": [
        "df_ppp_offense = df_ppp.loc[df_ppp['Team'].str.contains(' Offense$', regex=True), :].reset_index(drop=True)\n",
        "\n",
        "df_ppp_offense['Team'] = df_ppp_offense['Team'].str.replace(' Offense$', '', regex=True)\n",
        "\n",
        "df_ppp_offense['Rating'] += mod.intercept_\n",
        "\n",
        "df_ppp_offense.head(25)"
      ]
    },
    {
      "cell_type": "code",
      "execution_count": 27,
      "metadata": {
        "colab": {
          "base_uri": "https://localhost:8080/"
        },
        "id": "-_LATlwJC8xz",
        "outputId": "294e7bcf-8c76-4c04-c5d8-609dea0ff942"
      },
      "outputs": [
        {
          "data": {
            "text/html": [
              "<div>\n",
              "<style scoped>\n",
              "    .dataframe tbody tr th:only-of-type {\n",
              "        vertical-align: middle;\n",
              "    }\n",
              "\n",
              "    .dataframe tbody tr th {\n",
              "        vertical-align: top;\n",
              "    }\n",
              "\n",
              "    .dataframe thead th {\n",
              "        text-align: right;\n",
              "    }\n",
              "</style>\n",
              "<table border=\"1\" class=\"dataframe\">\n",
              "  <thead>\n",
              "    <tr style=\"text-align: right;\">\n",
              "      <th></th>\n",
              "      <th>Team</th>\n",
              "      <th>Rating</th>\n",
              "    </tr>\n",
              "  </thead>\n",
              "  <tbody>\n",
              "    <tr>\n",
              "      <th>0</th>\n",
              "      <td>Houston</td>\n",
              "      <td>0.845862</td>\n",
              "    </tr>\n",
              "    <tr>\n",
              "      <th>1</th>\n",
              "      <td>Iowa State</td>\n",
              "      <td>0.872474</td>\n",
              "    </tr>\n",
              "    <tr>\n",
              "      <th>2</th>\n",
              "      <td>Tennessee</td>\n",
              "      <td>0.907126</td>\n",
              "    </tr>\n",
              "    <tr>\n",
              "      <th>3</th>\n",
              "      <td>Saint Mary's (CA)</td>\n",
              "      <td>0.918892</td>\n",
              "    </tr>\n",
              "    <tr>\n",
              "      <th>4</th>\n",
              "      <td>Auburn</td>\n",
              "      <td>0.922294</td>\n",
              "    </tr>\n",
              "    <tr>\n",
              "      <th>5</th>\n",
              "      <td>Arizona</td>\n",
              "      <td>0.923010</td>\n",
              "    </tr>\n",
              "    <tr>\n",
              "      <th>6</th>\n",
              "      <td>Rutgers</td>\n",
              "      <td>0.923155</td>\n",
              "    </tr>\n",
              "    <tr>\n",
              "      <th>7</th>\n",
              "      <td>North Carolina</td>\n",
              "      <td>0.928179</td>\n",
              "    </tr>\n",
              "    <tr>\n",
              "      <th>8</th>\n",
              "      <td>Virginia</td>\n",
              "      <td>0.930446</td>\n",
              "    </tr>\n",
              "    <tr>\n",
              "      <th>9</th>\n",
              "      <td>Michigan State</td>\n",
              "      <td>0.930480</td>\n",
              "    </tr>\n",
              "    <tr>\n",
              "      <th>10</th>\n",
              "      <td>San Diego State</td>\n",
              "      <td>0.934049</td>\n",
              "    </tr>\n",
              "    <tr>\n",
              "      <th>11</th>\n",
              "      <td>Kansas</td>\n",
              "      <td>0.938705</td>\n",
              "    </tr>\n",
              "    <tr>\n",
              "      <th>12</th>\n",
              "      <td>UCF</td>\n",
              "      <td>0.939985</td>\n",
              "    </tr>\n",
              "    <tr>\n",
              "      <th>13</th>\n",
              "      <td>Connecticut</td>\n",
              "      <td>0.942733</td>\n",
              "    </tr>\n",
              "    <tr>\n",
              "      <th>14</th>\n",
              "      <td>New Mexico</td>\n",
              "      <td>0.943004</td>\n",
              "    </tr>\n",
              "    <tr>\n",
              "      <th>15</th>\n",
              "      <td>Villanova</td>\n",
              "      <td>0.944826</td>\n",
              "    </tr>\n",
              "    <tr>\n",
              "      <th>16</th>\n",
              "      <td>Providence</td>\n",
              "      <td>0.947306</td>\n",
              "    </tr>\n",
              "    <tr>\n",
              "      <th>17</th>\n",
              "      <td>Cincinnati</td>\n",
              "      <td>0.947400</td>\n",
              "    </tr>\n",
              "    <tr>\n",
              "      <th>18</th>\n",
              "      <td>Purdue</td>\n",
              "      <td>0.949231</td>\n",
              "    </tr>\n",
              "    <tr>\n",
              "      <th>19</th>\n",
              "      <td>Maryland</td>\n",
              "      <td>0.949586</td>\n",
              "    </tr>\n",
              "    <tr>\n",
              "      <th>20</th>\n",
              "      <td>Mississippi State</td>\n",
              "      <td>0.950340</td>\n",
              "    </tr>\n",
              "    <tr>\n",
              "      <th>21</th>\n",
              "      <td>Marquette</td>\n",
              "      <td>0.955683</td>\n",
              "    </tr>\n",
              "    <tr>\n",
              "      <th>22</th>\n",
              "      <td>Loyola (IL)</td>\n",
              "      <td>0.956673</td>\n",
              "    </tr>\n",
              "    <tr>\n",
              "      <th>23</th>\n",
              "      <td>Brigham Young</td>\n",
              "      <td>0.961419</td>\n",
              "    </tr>\n",
              "    <tr>\n",
              "      <th>24</th>\n",
              "      <td>Duke</td>\n",
              "      <td>0.963308</td>\n",
              "    </tr>\n",
              "  </tbody>\n",
              "</table>\n",
              "</div>"
            ],
            "text/plain": [
              "                 Team    Rating\n",
              "0             Houston  0.845862\n",
              "1          Iowa State  0.872474\n",
              "2           Tennessee  0.907126\n",
              "3   Saint Mary's (CA)  0.918892\n",
              "4              Auburn  0.922294\n",
              "5             Arizona  0.923010\n",
              "6             Rutgers  0.923155\n",
              "7      North Carolina  0.928179\n",
              "8            Virginia  0.930446\n",
              "9      Michigan State  0.930480\n",
              "10    San Diego State  0.934049\n",
              "11             Kansas  0.938705\n",
              "12                UCF  0.939985\n",
              "13        Connecticut  0.942733\n",
              "14         New Mexico  0.943004\n",
              "15          Villanova  0.944826\n",
              "16         Providence  0.947306\n",
              "17         Cincinnati  0.947400\n",
              "18             Purdue  0.949231\n",
              "19           Maryland  0.949586\n",
              "20  Mississippi State  0.950340\n",
              "21          Marquette  0.955683\n",
              "22        Loyola (IL)  0.956673\n",
              "23      Brigham Young  0.961419\n",
              "24               Duke  0.963308"
            ]
          },
          "execution_count": 27,
          "metadata": {},
          "output_type": "execute_result"
        }
      ],
      "source": [
        "df_ppp_defense = df_ppp.loc[df_ppp['Team'].str.contains(' Defense$', regex=True), :].reset_index(drop=True)\n",
        "\n",
        "df_ppp_defense['Team'] = df_ppp_defense['Team'].str.replace(' Defense$', '', regex=True)\n",
        "\n",
        "df_ppp_defense['Rating'] = mod.intercept_ - df_ppp_defense['Rating']\n",
        "\n",
        "df_ppp_defense.head(25)"
      ]
    },
    {
      "cell_type": "code",
      "execution_count": 28,
      "metadata": {
        "colab": {
          "base_uri": "https://localhost:8080/",
          "height": 833
        },
        "id": "CiUFo_9wC-P9",
        "outputId": "511a162e-be07-4afb-e37c-10d30d7cad3b"
      },
      "outputs": [
        {
          "data": {
            "text/html": [
              "<div>\n",
              "<style scoped>\n",
              "    .dataframe tbody tr th:only-of-type {\n",
              "        vertical-align: middle;\n",
              "    }\n",
              "\n",
              "    .dataframe tbody tr th {\n",
              "        vertical-align: top;\n",
              "    }\n",
              "\n",
              "    .dataframe thead th {\n",
              "        text-align: right;\n",
              "    }\n",
              "</style>\n",
              "<table border=\"1\" class=\"dataframe\">\n",
              "  <thead>\n",
              "    <tr style=\"text-align: right;\">\n",
              "      <th></th>\n",
              "      <th>Team</th>\n",
              "      <th>Adjusted Offense</th>\n",
              "      <th>Adjusted Defense</th>\n",
              "    </tr>\n",
              "  </thead>\n",
              "  <tbody>\n",
              "    <tr>\n",
              "      <th>0</th>\n",
              "      <td>Alabama</td>\n",
              "      <td>1.235296</td>\n",
              "      <td>1.003788</td>\n",
              "    </tr>\n",
              "    <tr>\n",
              "      <th>1</th>\n",
              "      <td>Connecticut</td>\n",
              "      <td>1.233900</td>\n",
              "      <td>0.942733</td>\n",
              "    </tr>\n",
              "    <tr>\n",
              "      <th>2</th>\n",
              "      <td>Purdue</td>\n",
              "      <td>1.227945</td>\n",
              "      <td>0.949231</td>\n",
              "    </tr>\n",
              "    <tr>\n",
              "      <th>3</th>\n",
              "      <td>Baylor</td>\n",
              "      <td>1.216799</td>\n",
              "      <td>0.993208</td>\n",
              "    </tr>\n",
              "    <tr>\n",
              "      <th>4</th>\n",
              "      <td>Illinois</td>\n",
              "      <td>1.211189</td>\n",
              "      <td>0.994785</td>\n",
              "    </tr>\n",
              "    <tr>\n",
              "      <th>5</th>\n",
              "      <td>Arizona</td>\n",
              "      <td>1.197248</td>\n",
              "      <td>0.923010</td>\n",
              "    </tr>\n",
              "    <tr>\n",
              "      <th>6</th>\n",
              "      <td>Duke</td>\n",
              "      <td>1.196245</td>\n",
              "      <td>0.963308</td>\n",
              "    </tr>\n",
              "    <tr>\n",
              "      <th>7</th>\n",
              "      <td>Kentucky</td>\n",
              "      <td>1.192826</td>\n",
              "      <td>1.011787</td>\n",
              "    </tr>\n",
              "    <tr>\n",
              "      <th>8</th>\n",
              "      <td>Gonzaga</td>\n",
              "      <td>1.191503</td>\n",
              "      <td>0.983742</td>\n",
              "    </tr>\n",
              "    <tr>\n",
              "      <th>9</th>\n",
              "      <td>Auburn</td>\n",
              "      <td>1.191466</td>\n",
              "      <td>0.922294</td>\n",
              "    </tr>\n",
              "    <tr>\n",
              "      <th>10</th>\n",
              "      <td>Creighton</td>\n",
              "      <td>1.186583</td>\n",
              "      <td>0.963584</td>\n",
              "    </tr>\n",
              "    <tr>\n",
              "      <th>11</th>\n",
              "      <td>Brigham Young</td>\n",
              "      <td>1.185323</td>\n",
              "      <td>0.961419</td>\n",
              "    </tr>\n",
              "    <tr>\n",
              "      <th>12</th>\n",
              "      <td>Wisconsin</td>\n",
              "      <td>1.173877</td>\n",
              "      <td>0.989661</td>\n",
              "    </tr>\n",
              "    <tr>\n",
              "      <th>13</th>\n",
              "      <td>Florida Atlantic</td>\n",
              "      <td>1.171591</td>\n",
              "      <td>1.008824</td>\n",
              "    </tr>\n",
              "    <tr>\n",
              "      <th>14</th>\n",
              "      <td>Houston</td>\n",
              "      <td>1.170705</td>\n",
              "      <td>0.845862</td>\n",
              "    </tr>\n",
              "    <tr>\n",
              "      <th>15</th>\n",
              "      <td>Dayton</td>\n",
              "      <td>1.167546</td>\n",
              "      <td>0.999034</td>\n",
              "    </tr>\n",
              "    <tr>\n",
              "      <th>16</th>\n",
              "      <td>Iowa</td>\n",
              "      <td>1.167545</td>\n",
              "      <td>1.039922</td>\n",
              "    </tr>\n",
              "    <tr>\n",
              "      <th>17</th>\n",
              "      <td>Indiana State</td>\n",
              "      <td>1.166741</td>\n",
              "      <td>1.001679</td>\n",
              "    </tr>\n",
              "    <tr>\n",
              "      <th>18</th>\n",
              "      <td>Florida</td>\n",
              "      <td>1.165091</td>\n",
              "      <td>1.005122</td>\n",
              "    </tr>\n",
              "    <tr>\n",
              "      <th>19</th>\n",
              "      <td>Princeton</td>\n",
              "      <td>1.162449</td>\n",
              "      <td>1.034723</td>\n",
              "    </tr>\n",
              "    <tr>\n",
              "      <th>20</th>\n",
              "      <td>Marquette</td>\n",
              "      <td>1.162179</td>\n",
              "      <td>0.955683</td>\n",
              "    </tr>\n",
              "    <tr>\n",
              "      <th>21</th>\n",
              "      <td>North Carolina</td>\n",
              "      <td>1.157857</td>\n",
              "      <td>0.928179</td>\n",
              "    </tr>\n",
              "    <tr>\n",
              "      <th>22</th>\n",
              "      <td>Texas Tech</td>\n",
              "      <td>1.154243</td>\n",
              "      <td>0.982838</td>\n",
              "    </tr>\n",
              "    <tr>\n",
              "      <th>23</th>\n",
              "      <td>Clemson</td>\n",
              "      <td>1.153736</td>\n",
              "      <td>0.996070</td>\n",
              "    </tr>\n",
              "    <tr>\n",
              "      <th>24</th>\n",
              "      <td>Colorado</td>\n",
              "      <td>1.153303</td>\n",
              "      <td>0.983522</td>\n",
              "    </tr>\n",
              "  </tbody>\n",
              "</table>\n",
              "</div>"
            ],
            "text/plain": [
              "                Team  Adjusted Offense  Adjusted Defense\n",
              "0            Alabama          1.235296          1.003788\n",
              "1        Connecticut          1.233900          0.942733\n",
              "2             Purdue          1.227945          0.949231\n",
              "3             Baylor          1.216799          0.993208\n",
              "4           Illinois          1.211189          0.994785\n",
              "5            Arizona          1.197248          0.923010\n",
              "6               Duke          1.196245          0.963308\n",
              "7           Kentucky          1.192826          1.011787\n",
              "8            Gonzaga          1.191503          0.983742\n",
              "9             Auburn          1.191466          0.922294\n",
              "10         Creighton          1.186583          0.963584\n",
              "11     Brigham Young          1.185323          0.961419\n",
              "12         Wisconsin          1.173877          0.989661\n",
              "13  Florida Atlantic          1.171591          1.008824\n",
              "14           Houston          1.170705          0.845862\n",
              "15            Dayton          1.167546          0.999034\n",
              "16              Iowa          1.167545          1.039922\n",
              "17     Indiana State          1.166741          1.001679\n",
              "18           Florida          1.165091          1.005122\n",
              "19         Princeton          1.162449          1.034723\n",
              "20         Marquette          1.162179          0.955683\n",
              "21    North Carolina          1.157857          0.928179\n",
              "22        Texas Tech          1.154243          0.982838\n",
              "23           Clemson          1.153736          0.996070\n",
              "24          Colorado          1.153303          0.983522"
            ]
          },
          "execution_count": 28,
          "metadata": {},
          "output_type": "execute_result"
        }
      ],
      "source": [
        "df_ppp_all = pd.merge(\n",
        "    df_ppp_offense.rename(columns={'Rating': 'Adjusted Offense'}),\n",
        "    df_ppp_defense.rename(columns={'Rating': 'Adjusted Defense'}),\n",
        "    how='inner',\n",
        "    on=['Team']\n",
        ")\n",
        "\n",
        "df_ppp_all.head(25)"
      ]
    },
    {
      "cell_type": "markdown",
      "metadata": {
        "id": "j4m7Aqwdsfmn"
      },
      "source": [
        "##### Adjusted Pace Ratings"
      ]
    },
    {
      "cell_type": "code",
      "execution_count": 29,
      "metadata": {
        "colab": {
          "base_uri": "https://localhost:8080/",
          "height": 461
        },
        "id": "ffXa8Diysi_G",
        "outputId": "8722770d-14dd-4377-e54e-4b593822d023"
      },
      "outputs": [
        {
          "data": {
            "text/html": [
              "<div>\n",
              "<style scoped>\n",
              "    .dataframe tbody tr th:only-of-type {\n",
              "        vertical-align: middle;\n",
              "    }\n",
              "\n",
              "    .dataframe tbody tr th {\n",
              "        vertical-align: top;\n",
              "    }\n",
              "\n",
              "    .dataframe thead th {\n",
              "        text-align: right;\n",
              "    }\n",
              "</style>\n",
              "<table border=\"1\" class=\"dataframe\">\n",
              "  <thead>\n",
              "    <tr style=\"text-align: right;\">\n",
              "      <th></th>\n",
              "      <th>Abilene Christian</th>\n",
              "      <th>Air Force</th>\n",
              "      <th>Akron</th>\n",
              "      <th>Alabama</th>\n",
              "      <th>Alabama A&amp;M</th>\n",
              "      <th>Alabama State</th>\n",
              "      <th>Albany (NY)</th>\n",
              "      <th>Alcorn State</th>\n",
              "      <th>American</th>\n",
              "      <th>Appalachian State</th>\n",
              "      <th>...</th>\n",
              "      <th>Wichita State</th>\n",
              "      <th>William &amp; Mary</th>\n",
              "      <th>Winthrop</th>\n",
              "      <th>Wisconsin</th>\n",
              "      <th>Wofford</th>\n",
              "      <th>Wright State</th>\n",
              "      <th>Wyoming</th>\n",
              "      <th>Xavier</th>\n",
              "      <th>Yale</th>\n",
              "      <th>Youngstown State</th>\n",
              "    </tr>\n",
              "  </thead>\n",
              "  <tbody>\n",
              "    <tr>\n",
              "      <th>0</th>\n",
              "      <td>1</td>\n",
              "      <td>0</td>\n",
              "      <td>0</td>\n",
              "      <td>0</td>\n",
              "      <td>0</td>\n",
              "      <td>0</td>\n",
              "      <td>0</td>\n",
              "      <td>0</td>\n",
              "      <td>0</td>\n",
              "      <td>0</td>\n",
              "      <td>...</td>\n",
              "      <td>0</td>\n",
              "      <td>0</td>\n",
              "      <td>0</td>\n",
              "      <td>0</td>\n",
              "      <td>0</td>\n",
              "      <td>0</td>\n",
              "      <td>0</td>\n",
              "      <td>0</td>\n",
              "      <td>0</td>\n",
              "      <td>0</td>\n",
              "    </tr>\n",
              "    <tr>\n",
              "      <th>1</th>\n",
              "      <td>1</td>\n",
              "      <td>0</td>\n",
              "      <td>0</td>\n",
              "      <td>0</td>\n",
              "      <td>0</td>\n",
              "      <td>0</td>\n",
              "      <td>0</td>\n",
              "      <td>0</td>\n",
              "      <td>0</td>\n",
              "      <td>0</td>\n",
              "      <td>...</td>\n",
              "      <td>0</td>\n",
              "      <td>0</td>\n",
              "      <td>0</td>\n",
              "      <td>0</td>\n",
              "      <td>0</td>\n",
              "      <td>0</td>\n",
              "      <td>0</td>\n",
              "      <td>0</td>\n",
              "      <td>0</td>\n",
              "      <td>0</td>\n",
              "    </tr>\n",
              "    <tr>\n",
              "      <th>2</th>\n",
              "      <td>1</td>\n",
              "      <td>0</td>\n",
              "      <td>0</td>\n",
              "      <td>0</td>\n",
              "      <td>0</td>\n",
              "      <td>0</td>\n",
              "      <td>0</td>\n",
              "      <td>0</td>\n",
              "      <td>0</td>\n",
              "      <td>0</td>\n",
              "      <td>...</td>\n",
              "      <td>0</td>\n",
              "      <td>0</td>\n",
              "      <td>0</td>\n",
              "      <td>0</td>\n",
              "      <td>0</td>\n",
              "      <td>0</td>\n",
              "      <td>0</td>\n",
              "      <td>0</td>\n",
              "      <td>0</td>\n",
              "      <td>0</td>\n",
              "    </tr>\n",
              "    <tr>\n",
              "      <th>3</th>\n",
              "      <td>1</td>\n",
              "      <td>0</td>\n",
              "      <td>0</td>\n",
              "      <td>0</td>\n",
              "      <td>0</td>\n",
              "      <td>0</td>\n",
              "      <td>0</td>\n",
              "      <td>0</td>\n",
              "      <td>0</td>\n",
              "      <td>0</td>\n",
              "      <td>...</td>\n",
              "      <td>0</td>\n",
              "      <td>0</td>\n",
              "      <td>0</td>\n",
              "      <td>0</td>\n",
              "      <td>0</td>\n",
              "      <td>0</td>\n",
              "      <td>0</td>\n",
              "      <td>0</td>\n",
              "      <td>0</td>\n",
              "      <td>0</td>\n",
              "    </tr>\n",
              "    <tr>\n",
              "      <th>4</th>\n",
              "      <td>1</td>\n",
              "      <td>0</td>\n",
              "      <td>0</td>\n",
              "      <td>0</td>\n",
              "      <td>0</td>\n",
              "      <td>0</td>\n",
              "      <td>0</td>\n",
              "      <td>0</td>\n",
              "      <td>0</td>\n",
              "      <td>0</td>\n",
              "      <td>...</td>\n",
              "      <td>0</td>\n",
              "      <td>0</td>\n",
              "      <td>0</td>\n",
              "      <td>0</td>\n",
              "      <td>0</td>\n",
              "      <td>0</td>\n",
              "      <td>0</td>\n",
              "      <td>0</td>\n",
              "      <td>0</td>\n",
              "      <td>0</td>\n",
              "    </tr>\n",
              "    <tr>\n",
              "      <th>...</th>\n",
              "      <td>...</td>\n",
              "      <td>...</td>\n",
              "      <td>...</td>\n",
              "      <td>...</td>\n",
              "      <td>...</td>\n",
              "      <td>...</td>\n",
              "      <td>...</td>\n",
              "      <td>...</td>\n",
              "      <td>...</td>\n",
              "      <td>...</td>\n",
              "      <td>...</td>\n",
              "      <td>...</td>\n",
              "      <td>...</td>\n",
              "      <td>...</td>\n",
              "      <td>...</td>\n",
              "      <td>...</td>\n",
              "      <td>...</td>\n",
              "      <td>...</td>\n",
              "      <td>...</td>\n",
              "      <td>...</td>\n",
              "      <td>...</td>\n",
              "    </tr>\n",
              "    <tr>\n",
              "      <th>11233</th>\n",
              "      <td>0</td>\n",
              "      <td>0</td>\n",
              "      <td>0</td>\n",
              "      <td>0</td>\n",
              "      <td>0</td>\n",
              "      <td>0</td>\n",
              "      <td>0</td>\n",
              "      <td>0</td>\n",
              "      <td>0</td>\n",
              "      <td>0</td>\n",
              "      <td>...</td>\n",
              "      <td>0</td>\n",
              "      <td>0</td>\n",
              "      <td>0</td>\n",
              "      <td>0</td>\n",
              "      <td>0</td>\n",
              "      <td>0</td>\n",
              "      <td>0</td>\n",
              "      <td>0</td>\n",
              "      <td>0</td>\n",
              "      <td>1</td>\n",
              "    </tr>\n",
              "    <tr>\n",
              "      <th>11234</th>\n",
              "      <td>0</td>\n",
              "      <td>0</td>\n",
              "      <td>0</td>\n",
              "      <td>0</td>\n",
              "      <td>0</td>\n",
              "      <td>0</td>\n",
              "      <td>0</td>\n",
              "      <td>0</td>\n",
              "      <td>0</td>\n",
              "      <td>0</td>\n",
              "      <td>...</td>\n",
              "      <td>0</td>\n",
              "      <td>0</td>\n",
              "      <td>0</td>\n",
              "      <td>0</td>\n",
              "      <td>0</td>\n",
              "      <td>0</td>\n",
              "      <td>0</td>\n",
              "      <td>0</td>\n",
              "      <td>0</td>\n",
              "      <td>1</td>\n",
              "    </tr>\n",
              "    <tr>\n",
              "      <th>11235</th>\n",
              "      <td>0</td>\n",
              "      <td>0</td>\n",
              "      <td>0</td>\n",
              "      <td>0</td>\n",
              "      <td>0</td>\n",
              "      <td>0</td>\n",
              "      <td>0</td>\n",
              "      <td>0</td>\n",
              "      <td>0</td>\n",
              "      <td>0</td>\n",
              "      <td>...</td>\n",
              "      <td>0</td>\n",
              "      <td>0</td>\n",
              "      <td>0</td>\n",
              "      <td>0</td>\n",
              "      <td>0</td>\n",
              "      <td>0</td>\n",
              "      <td>0</td>\n",
              "      <td>0</td>\n",
              "      <td>0</td>\n",
              "      <td>1</td>\n",
              "    </tr>\n",
              "    <tr>\n",
              "      <th>11236</th>\n",
              "      <td>0</td>\n",
              "      <td>0</td>\n",
              "      <td>0</td>\n",
              "      <td>0</td>\n",
              "      <td>0</td>\n",
              "      <td>0</td>\n",
              "      <td>0</td>\n",
              "      <td>0</td>\n",
              "      <td>0</td>\n",
              "      <td>0</td>\n",
              "      <td>...</td>\n",
              "      <td>0</td>\n",
              "      <td>0</td>\n",
              "      <td>0</td>\n",
              "      <td>0</td>\n",
              "      <td>0</td>\n",
              "      <td>0</td>\n",
              "      <td>0</td>\n",
              "      <td>0</td>\n",
              "      <td>0</td>\n",
              "      <td>1</td>\n",
              "    </tr>\n",
              "    <tr>\n",
              "      <th>11237</th>\n",
              "      <td>0</td>\n",
              "      <td>0</td>\n",
              "      <td>0</td>\n",
              "      <td>0</td>\n",
              "      <td>0</td>\n",
              "      <td>0</td>\n",
              "      <td>0</td>\n",
              "      <td>0</td>\n",
              "      <td>0</td>\n",
              "      <td>0</td>\n",
              "      <td>...</td>\n",
              "      <td>0</td>\n",
              "      <td>0</td>\n",
              "      <td>0</td>\n",
              "      <td>0</td>\n",
              "      <td>0</td>\n",
              "      <td>0</td>\n",
              "      <td>0</td>\n",
              "      <td>0</td>\n",
              "      <td>0</td>\n",
              "      <td>1</td>\n",
              "    </tr>\n",
              "  </tbody>\n",
              "</table>\n",
              "<p>11238 rows × 362 columns</p>\n",
              "</div>"
            ],
            "text/plain": [
              "       Abilene Christian  Air Force  Akron  Alabama  Alabama A&M  \\\n",
              "0                      1          0      0        0            0   \n",
              "1                      1          0      0        0            0   \n",
              "2                      1          0      0        0            0   \n",
              "3                      1          0      0        0            0   \n",
              "4                      1          0      0        0            0   \n",
              "...                  ...        ...    ...      ...          ...   \n",
              "11233                  0          0      0        0            0   \n",
              "11234                  0          0      0        0            0   \n",
              "11235                  0          0      0        0            0   \n",
              "11236                  0          0      0        0            0   \n",
              "11237                  0          0      0        0            0   \n",
              "\n",
              "       Alabama State  Albany (NY)  Alcorn State  American  Appalachian State  \\\n",
              "0                  0            0             0         0                  0   \n",
              "1                  0            0             0         0                  0   \n",
              "2                  0            0             0         0                  0   \n",
              "3                  0            0             0         0                  0   \n",
              "4                  0            0             0         0                  0   \n",
              "...              ...          ...           ...       ...                ...   \n",
              "11233              0            0             0         0                  0   \n",
              "11234              0            0             0         0                  0   \n",
              "11235              0            0             0         0                  0   \n",
              "11236              0            0             0         0                  0   \n",
              "11237              0            0             0         0                  0   \n",
              "\n",
              "       ...  Wichita State  William & Mary  Winthrop  Wisconsin  Wofford  \\\n",
              "0      ...              0               0         0          0        0   \n",
              "1      ...              0               0         0          0        0   \n",
              "2      ...              0               0         0          0        0   \n",
              "3      ...              0               0         0          0        0   \n",
              "4      ...              0               0         0          0        0   \n",
              "...    ...            ...             ...       ...        ...      ...   \n",
              "11233  ...              0               0         0          0        0   \n",
              "11234  ...              0               0         0          0        0   \n",
              "11235  ...              0               0         0          0        0   \n",
              "11236  ...              0               0         0          0        0   \n",
              "11237  ...              0               0         0          0        0   \n",
              "\n",
              "       Wright State  Wyoming  Xavier  Yale  Youngstown State  \n",
              "0                 0        0       0     0                 0  \n",
              "1                 0        0       0     0                 0  \n",
              "2                 0        0       0     0                 0  \n",
              "3                 0        0       0     0                 0  \n",
              "4                 0        0       0     0                 0  \n",
              "...             ...      ...     ...   ...               ...  \n",
              "11233             0        0       0     0                 1  \n",
              "11234             0        0       0     0                 1  \n",
              "11235             0        0       0     0                 1  \n",
              "11236             0        0       0     0                 1  \n",
              "11237             0        0       0     0                 1  \n",
              "\n",
              "[11238 rows x 362 columns]"
            ]
          },
          "execution_count": 29,
          "metadata": {},
          "output_type": "execute_result"
        }
      ],
      "source": [
        "X = (\n",
        "    pd.get_dummies(df['Team']).astype('int8') +\n",
        "    pd.get_dummies(df['Opponent']).astype('int8')\n",
        ")\n",
        "\n",
        "X"
      ]
    },
    {
      "cell_type": "code",
      "execution_count": 30,
      "metadata": {
        "colab": {
          "base_uri": "https://localhost:8080/"
        },
        "id": "7y6U-LZJsp04",
        "outputId": "bce2d29d-e947-469a-82bd-45a7a302855e"
      },
      "outputs": [
        {
          "data": {
            "text/plain": [
              "3"
            ]
          },
          "execution_count": 30,
          "metadata": {},
          "output_type": "execute_result"
        }
      ],
      "source": [
        "def get_gkf_data(X, y, groups, cv=3):\n",
        "    \"\"\"\n",
        "    Converts training data to list of folds\n",
        "    \"\"\"\n",
        "    np.random.seed(22)\n",
        "    gkf = GroupKFold(n_splits=cv)\n",
        "\n",
        "    data = []\n",
        "    for train_index, test_index in gkf.split(X, y, groups=groups):\n",
        "        X_train = X[train_index, :]\n",
        "        X_test = X[test_index, :]\n",
        "\n",
        "        y_train = y[train_index]\n",
        "        y_test = y[test_index]\n",
        "\n",
        "        data.append([X_train, X_test, y_train, y_test])\n",
        "\n",
        "    return data\n",
        "\n",
        "cv_data = get_gkf_data(X.to_numpy(), df['Tempo'].to_numpy(), df['Date'].to_numpy())\n",
        "\n",
        "len(cv_data)"
      ]
    },
    {
      "cell_type": "code",
      "execution_count": 31,
      "metadata": {
        "colab": {
          "base_uri": "https://localhost:8080/",
          "height": 66,
          "referenced_widgets": [
            "83f1b46636b04d50ad6f4c5466331ae2",
            "1c3fe7773747453bb18df88c9196f165",
            "d2dfefb1d155486a870a28e4dc231bcc",
            "b53df8a358f4468aafc38f4bc2ecbad9",
            "d4321148a468498fa06ee3c1ed5c262d",
            "e24be0b176eb442e949c029cb808656d",
            "04f0a71403494c27a06698e0b6255131",
            "73f00d264373421f82804aad2d5086c9",
            "6bb1f16329a14d918abcc39995d65993",
            "314e684560bb4f418c39a6cb3ba4b42a",
            "78106907ef23476f9abe19a487526877"
          ]
        },
        "id": "0CHwP58z4AJZ",
        "outputId": "f4cbe798-982e-412e-c1db-ad9d2489a8df"
      },
      "outputs": [
        {
          "data": {
            "application/vnd.jupyter.widget-view+json": {
              "model_id": "7c537b93d8354f2a9afee534d52c05fe",
              "version_major": 2,
              "version_minor": 0
            },
            "text/plain": [
              "  0%|          | 0/100 [00:00<?, ?it/s]"
            ]
          },
          "metadata": {},
          "output_type": "display_data"
        },
        {
          "data": {
            "text/plain": [
              "{'alpha': 5.6493648159180845}"
            ]
          },
          "execution_count": 31,
          "metadata": {},
          "output_type": "execute_result"
        }
      ],
      "source": [
        "def objective(trial, cv_data=cv_data):\n",
        "    # model tuning\n",
        "    alpha = trial.suggest_float('alpha', 0.1, 10, log=True)\n",
        "    mod = Ridge(alpha=alpha)\n",
        "\n",
        "    # cross validation\n",
        "    y_actuals = []\n",
        "    y_preds = []\n",
        "    for X_train, X_test, y_train, y_test in cv_data:\n",
        "        y_actuals.append(y_test)\n",
        "\n",
        "        mod.fit(X_train, y_train)\n",
        "        y_preds.append(mod.predict(X_test))\n",
        "\n",
        "    return mean_squared_error(np.hstack(y_actuals), np.hstack(y_preds))\n",
        "\n",
        "study = optuna.create_study(direction='minimize', sampler=optuna.samplers.TPESampler(seed=22))\n",
        "study.optimize(objective, n_trials=100, show_progress_bar=True)\n",
        "\n",
        "study.best_params"
      ]
    },
    {
      "cell_type": "code",
      "execution_count": 32,
      "metadata": {
        "colab": {
          "base_uri": "https://localhost:8080/",
          "height": 423
        },
        "id": "u116TQJl4AMb",
        "outputId": "b1cbcce9-ef45-48b1-cbab-f474078b808c"
      },
      "outputs": [
        {
          "data": {
            "text/html": [
              "<div>\n",
              "<style scoped>\n",
              "    .dataframe tbody tr th:only-of-type {\n",
              "        vertical-align: middle;\n",
              "    }\n",
              "\n",
              "    .dataframe tbody tr th {\n",
              "        vertical-align: top;\n",
              "    }\n",
              "\n",
              "    .dataframe thead th {\n",
              "        text-align: right;\n",
              "    }\n",
              "</style>\n",
              "<table border=\"1\" class=\"dataframe\">\n",
              "  <thead>\n",
              "    <tr style=\"text-align: right;\">\n",
              "      <th></th>\n",
              "      <th>Team</th>\n",
              "      <th>Adjusted Tempo</th>\n",
              "    </tr>\n",
              "  </thead>\n",
              "  <tbody>\n",
              "    <tr>\n",
              "      <th>0</th>\n",
              "      <td>Western Kentucky</td>\n",
              "      <td>7.021652</td>\n",
              "    </tr>\n",
              "    <tr>\n",
              "      <th>1</th>\n",
              "      <td>Virginia Military Institute</td>\n",
              "      <td>6.266970</td>\n",
              "    </tr>\n",
              "    <tr>\n",
              "      <th>2</th>\n",
              "      <td>Kennesaw State</td>\n",
              "      <td>6.205416</td>\n",
              "    </tr>\n",
              "    <tr>\n",
              "      <th>3</th>\n",
              "      <td>Bryant</td>\n",
              "      <td>6.128345</td>\n",
              "    </tr>\n",
              "    <tr>\n",
              "      <th>4</th>\n",
              "      <td>Maryland-Baltimore County</td>\n",
              "      <td>5.809350</td>\n",
              "    </tr>\n",
              "    <tr>\n",
              "      <th>...</th>\n",
              "      <td>...</td>\n",
              "      <td>...</td>\n",
              "    </tr>\n",
              "    <tr>\n",
              "      <th>357</th>\n",
              "      <td>Charlotte</td>\n",
              "      <td>-4.883589</td>\n",
              "    </tr>\n",
              "    <tr>\n",
              "      <th>358</th>\n",
              "      <td>North Texas</td>\n",
              "      <td>-5.468359</td>\n",
              "    </tr>\n",
              "    <tr>\n",
              "      <th>359</th>\n",
              "      <td>Air Force</td>\n",
              "      <td>-5.526318</td>\n",
              "    </tr>\n",
              "    <tr>\n",
              "      <th>360</th>\n",
              "      <td>Wagner</td>\n",
              "      <td>-5.886503</td>\n",
              "    </tr>\n",
              "    <tr>\n",
              "      <th>361</th>\n",
              "      <td>Virginia</td>\n",
              "      <td>-6.948312</td>\n",
              "    </tr>\n",
              "  </tbody>\n",
              "</table>\n",
              "<p>362 rows × 2 columns</p>\n",
              "</div>"
            ],
            "text/plain": [
              "                            Team  Adjusted Tempo\n",
              "0               Western Kentucky        7.021652\n",
              "1    Virginia Military Institute        6.266970\n",
              "2                 Kennesaw State        6.205416\n",
              "3                         Bryant        6.128345\n",
              "4      Maryland-Baltimore County        5.809350\n",
              "..                           ...             ...\n",
              "357                    Charlotte       -4.883589\n",
              "358                  North Texas       -5.468359\n",
              "359                    Air Force       -5.526318\n",
              "360                       Wagner       -5.886503\n",
              "361                     Virginia       -6.948312\n",
              "\n",
              "[362 rows x 2 columns]"
            ]
          },
          "execution_count": 32,
          "metadata": {},
          "output_type": "execute_result"
        }
      ],
      "source": [
        "mod = Ridge(alpha=study.best_params['alpha'])\n",
        "\n",
        "mod.fit(X, df['Tempo'])\n",
        "\n",
        "df_tempo = pd.DataFrame(\n",
        "    {\n",
        "        'Team': X.columns,\n",
        "        'Adjusted Tempo': mod.coef_\n",
        "    }\n",
        ").sort_values(by=['Adjusted Tempo'], ascending=False, ignore_index=True)\n",
        "\n",
        "df_tempo"
      ]
    },
    {
      "cell_type": "code",
      "execution_count": 33,
      "metadata": {
        "colab": {
          "base_uri": "https://localhost:8080/",
          "height": 423
        },
        "id": "QJRGOpVK4APn",
        "outputId": "8b557012-4e51-4aaf-abfd-47d695a8cb42"
      },
      "outputs": [
        {
          "data": {
            "text/html": [
              "<div>\n",
              "<style scoped>\n",
              "    .dataframe tbody tr th:only-of-type {\n",
              "        vertical-align: middle;\n",
              "    }\n",
              "\n",
              "    .dataframe tbody tr th {\n",
              "        vertical-align: top;\n",
              "    }\n",
              "\n",
              "    .dataframe thead th {\n",
              "        text-align: right;\n",
              "    }\n",
              "</style>\n",
              "<table border=\"1\" class=\"dataframe\">\n",
              "  <thead>\n",
              "    <tr style=\"text-align: right;\">\n",
              "      <th></th>\n",
              "      <th>Team</th>\n",
              "      <th>Adjusted Tempo</th>\n",
              "    </tr>\n",
              "  </thead>\n",
              "  <tbody>\n",
              "    <tr>\n",
              "      <th>0</th>\n",
              "      <td>Western Kentucky</td>\n",
              "      <td>75.806638</td>\n",
              "    </tr>\n",
              "    <tr>\n",
              "      <th>1</th>\n",
              "      <td>Virginia Military Institute</td>\n",
              "      <td>75.051956</td>\n",
              "    </tr>\n",
              "    <tr>\n",
              "      <th>2</th>\n",
              "      <td>Kennesaw State</td>\n",
              "      <td>74.990403</td>\n",
              "    </tr>\n",
              "    <tr>\n",
              "      <th>3</th>\n",
              "      <td>Bryant</td>\n",
              "      <td>74.913331</td>\n",
              "    </tr>\n",
              "    <tr>\n",
              "      <th>4</th>\n",
              "      <td>Maryland-Baltimore County</td>\n",
              "      <td>74.594337</td>\n",
              "    </tr>\n",
              "    <tr>\n",
              "      <th>...</th>\n",
              "      <td>...</td>\n",
              "      <td>...</td>\n",
              "    </tr>\n",
              "    <tr>\n",
              "      <th>357</th>\n",
              "      <td>Charlotte</td>\n",
              "      <td>63.901398</td>\n",
              "    </tr>\n",
              "    <tr>\n",
              "      <th>358</th>\n",
              "      <td>North Texas</td>\n",
              "      <td>63.316627</td>\n",
              "    </tr>\n",
              "    <tr>\n",
              "      <th>359</th>\n",
              "      <td>Air Force</td>\n",
              "      <td>63.258668</td>\n",
              "    </tr>\n",
              "    <tr>\n",
              "      <th>360</th>\n",
              "      <td>Wagner</td>\n",
              "      <td>62.898484</td>\n",
              "    </tr>\n",
              "    <tr>\n",
              "      <th>361</th>\n",
              "      <td>Virginia</td>\n",
              "      <td>61.836674</td>\n",
              "    </tr>\n",
              "  </tbody>\n",
              "</table>\n",
              "<p>362 rows × 2 columns</p>\n",
              "</div>"
            ],
            "text/plain": [
              "                            Team  Adjusted Tempo\n",
              "0               Western Kentucky       75.806638\n",
              "1    Virginia Military Institute       75.051956\n",
              "2                 Kennesaw State       74.990403\n",
              "3                         Bryant       74.913331\n",
              "4      Maryland-Baltimore County       74.594337\n",
              "..                           ...             ...\n",
              "357                    Charlotte       63.901398\n",
              "358                  North Texas       63.316627\n",
              "359                    Air Force       63.258668\n",
              "360                       Wagner       62.898484\n",
              "361                     Virginia       61.836674\n",
              "\n",
              "[362 rows x 2 columns]"
            ]
          },
          "execution_count": 33,
          "metadata": {},
          "output_type": "execute_result"
        }
      ],
      "source": [
        "df_tempo['Adjusted Tempo'] += mod.intercept_\n",
        "\n",
        "df_tempo"
      ]
    },
    {
      "cell_type": "markdown",
      "metadata": {
        "id": "5-53P5mGbcsc"
      },
      "source": [
        "### Visualizations"
      ]
    },
    {
      "cell_type": "code",
      "execution_count": 34,
      "metadata": {
        "colab": {
          "base_uri": "https://localhost:8080/"
        },
        "id": "Ha9YNl1TkBpY",
        "outputId": "95619382-ea9c-4acb-9e51-62d13b592799"
      },
      "outputs": [
        {
          "data": {
            "image/png": "[encoded data removed]",
            "text/plain": [
              "<Figure size 1000x600 with 1 Axes>"
            ]
          },
          "metadata": {},
          "output_type": "display_data"
        }
      ],
      "source": [
        "import seaborn as sns\n",
        "import matplotlib.pyplot as plt\n",
        "from matplotlib import rcParams\n",
        "\n",
        "rcParams['font.family'] = 'monospace'  # so spacing is consistent for y axis\n",
        "\n",
        "plt.figure(figsize=(10, 6))\n",
        "ax = sns.barplot(\n",
        "    x=df_ratings_display.head(25)['Strength'],\n",
        "    y=(\n",
        "        df_ratings_display.head(25).index.map(lambda x: str(x).zfill(2)) +  # team index with a leading 0 as needed\n",
        "        '..' + ' '*2 +\n",
        "        df_ratings_display.head(25)['Team'].str.pad(max(df_ratings_display.head(25)['Team'].str.len()), side='left')  # team name with padding\n",
        "    ),\n",
        "    color='#6f9cde',\n",
        "    dodge=False\n",
        ")\n",
        "\n",
        "plt.xlabel('Strength (0-100)')\n",
        "plt.ylabel(None)\n",
        "plt.title(f\"Algorithmic Men's College Basketball Power Rankings as of {df['Date'].max().strftime('%Y-%m-%d')}\")\n",
        "\n",
        "plt.show()"
      ]
    },
    {
      "cell_type": "code",
      "execution_count": 35,
      "metadata": {
        "colab": {
          "base_uri": "https://localhost:8080/"
        },
        "id": "Qsh_nlkekzy7",
        "outputId": "33f899cc-93d1-4374-af8c-f1299bc59e4a"
      },
      "outputs": [
        {
          "data": {
            "image/png": "[encoded data removed]",
            "text/plain": [
              "<Figure size 1000x600 with 1 Axes>"
            ]
          },
          "metadata": {},
          "output_type": "display_data"
        }
      ],
      "source": [
        "plt.figure(figsize=(10, 6))\n",
        "ax = sns.barplot(\n",
        "    x=df_ppp_offense.head(25)['Rating'],\n",
        "    y=(\n",
        "        df_ppp_offense.head(25).index.map(lambda x: str(x+1).zfill(2)) +  # team index with a leading 0 as needed\n",
        "        '..' + ' '*2 +\n",
        "        df_ppp_offense.head(25)['Team'].str.pad(max(df_ppp_offense.head(25)['Team'].str.len()), side='left')  # team name with padding\n",
        "    ),\n",
        "    color='#9fd4a3',\n",
        "    dodge=False\n",
        ")\n",
        "\n",
        "plt.xlabel('Adjusted Offense Points Per Possession')\n",
        "plt.ylabel(None)\n",
        "plt.title(f\"Adjusted Offense Points Per Possession Ratings as of {df['Date'].max().strftime('%Y-%m-%d')}\")\n",
        "\n",
        "plt.show()"
      ]
    },
    {
      "cell_type": "code",
      "execution_count": 36,
      "metadata": {
        "colab": {
          "base_uri": "https://localhost:8080/",
          "height": 564
        },
        "id": "ncXkgXo-ljrX",
        "outputId": "6ab2379d-f075-47fb-845c-7b724da8aa72"
      },
      "outputs": [
        {
          "data": {
            "image/png": "[encoded data removed]",
            "text/plain": [
              "<Figure size 1000x600 with 1 Axes>"
            ]
          },
          "metadata": {},
          "output_type": "display_data"
        }
      ],
      "source": [
        "plt.figure(figsize=(10, 6))\n",
        "ax = sns.barplot(\n",
        "    x=df_ppp_defense.head(25)['Rating'],\n",
        "    y=(\n",
        "        df_ppp_defense.head(25).index.map(lambda x: str(x+1).zfill(2)) +  # team index with a leading 0 as needed\n",
        "        '..' + ' '*2 +\n",
        "        df_ppp_defense.head(25)['Team'].str.pad(max(df_ppp_defense.head(25)['Team'].str.len()), side='left')  # team name with padding\n",
        "    ),\n",
        "    color='#ff6865',\n",
        "    dodge=False\n",
        ")\n",
        "\n",
        "plt.xlabel('Adjusted Defense Points Per Possession')\n",
        "plt.ylabel(None)\n",
        "plt.title(f\"Adjusted Defense Points Per Possession Ratings as of {df['Date'].max().strftime('%Y-%m-%d')}\")\n",
        "\n",
        "plt.show()"
      ]
    },
    {
      "cell_type": "code",
      "execution_count": 37,
      "metadata": {
        "colab": {
          "base_uri": "https://localhost:8080/",
          "height": 564
        },
        "id": "6eHVdr3h7czL",
        "outputId": "174efd9e-dfca-4e34-a913-b79bd034c2ef"
      },
      "outputs": [
        {
          "data": {
            "image/png": "[encoded data removed]",
            "text/plain": [
              "<Figure size 1000x600 with 1 Axes>"
            ]
          },
          "metadata": {},
          "output_type": "display_data"
        }
      ],
      "source": [
        "plt.figure(figsize=(10, 6))\n",
        "ax = sns.barplot(\n",
        "    x=df_tempo.head(25)['Adjusted Tempo'],\n",
        "    y=(\n",
        "        df_tempo.head(25).index.map(lambda x: str(x+1).zfill(2)) +  # team index with a leading 0 as needed\n",
        "        '..' + ' '*2 +\n",
        "        df_tempo.head(25)['Team'].str.pad(max(df_tempo.head(25)['Team'].str.len()), side='left')  # team name with padding\n",
        "    ),\n",
        "    color='#ffee00',\n",
        "    dodge=False\n",
        ")\n",
        "\n",
        "plt.xlabel('Adjusted Tempo (Posessions Per 40 Minutes)')\n",
        "plt.ylabel(None)\n",
        "plt.title(f\"Fastest Tempo Men's College Basketball Teams as of {df['Date'].max().strftime('%Y-%m-%d')}\")\n",
        "\n",
        "plt.show()"
      ]
    },
    {
      "cell_type": "code",
      "execution_count": 38,
      "metadata": {
        "colab": {
          "base_uri": "https://localhost:8080/",
          "height": 564
        },
        "id": "Z_Odtlit74lZ",
        "outputId": "08df558d-14cd-4336-93a7-e011665e7163"
      },
      "outputs": [
        {
          "data": {
            "image/png": "[encoded data removed]",
            "text/plain": [
              "<Figure size 1000x600 with 1 Axes>"
            ]
          },
          "metadata": {},
          "output_type": "display_data"
        }
      ],
      "source": [
        "plt.figure(figsize=(10, 6))\n",
        "\n",
        "df_slow = df_tempo.tail(25).iloc[::-1].reset_index(drop=True)\n",
        "\n",
        "ax = sns.barplot(\n",
        "    x=df_slow['Adjusted Tempo'],\n",
        "    y=(\n",
        "        df_slow.index.map(lambda x: str(x+1).zfill(2)) +  # team index with a leading 0 as needed\n",
        "        '..' + ' '*2 +\n",
        "        df_slow['Team'].str.pad(max(df_slow['Team'].str.len()), side='left')  # team name with padding\n",
        "    ),\n",
        "    color='#4285f4',\n",
        "    dodge=False\n",
        ")\n",
        "\n",
        "plt.xlabel('Adjusted Tempo (Posessions Per 40 Minutes)')\n",
        "plt.ylabel(None)\n",
        "plt.title(f\"Slowest Tempo Men's College Basketball Teams as of {df['Date'].max().strftime('%Y-%m-%d')}\")\n",
        "\n",
        "plt.show()"
      ]
    },
    {
      "cell_type": "code",
      "execution_count": 39,
      "metadata": {
        "colab": {
          "base_uri": "https://localhost:8080/",
          "height": 617
        },
        "id": "dpUWDqeLEipT",
        "outputId": "f5679aae-ebbb-4bbc-d94e-0bae2dd24172"
      },
      "outputs": [
        {
          "data": {
            "application/vnd.plotly.v1+json": {
              "config": {
                "plotlyServerURL": "https://plot.ly"
              },
              "data": [
                {
                  "customdata": [
                    [
                      "Alabama"
                    ],
                    [
                      "Connecticut"
                    ],
                    [
                      "Purdue"
                    ],
                    [
                      "Baylor"
                    ],
                    [
                      "Illinois"
                    ],
                    [
                      "Arizona"
                    ],
                    [
                      "Duke"
                    ],
                    [
                      "Kentucky"
                    ],
                    [
                      "Gonzaga"
                    ],
                    [
                      "Auburn"
                    ],
                    [
                      "Creighton"
                    ],
                    [
                      "Brigham Young"
                    ],
                    [
                      "Wisconsin"
                    ],
                    [
                      "Florida Atlantic"
                    ],
                    [
                      "Houston"
                    ],
                    [
                      "Dayton"
                    ],
                    [
                      "Iowa"
                    ],
                    [
                      "Indiana State"
                    ],
                    [
                      "Florida"
                    ],
                    [
                      "Princeton"
                    ],
                    [
                      "Marquette"
                    ],
                    [
                      "North Carolina"
                    ],
                    [
                      "Texas Tech"
                    ],
                    [
                      "Clemson"
                    ],
                    [
                      "Colorado"
                    ],
                    [
                      "Wake Forest"
                    ],
                    [
                      "Tennessee"
                    ],
                    [
                      "St. John's (NY)"
                    ],
                    [
                      "Colorado State"
                    ],
                    [
                      "Drake"
                    ],
                    [
                      "Wright State"
                    ],
                    [
                      "Texas"
                    ],
                    [
                      "McNeese State"
                    ],
                    [
                      "Boise State"
                    ],
                    [
                      "Iowa State"
                    ],
                    [
                      "Northwestern"
                    ],
                    [
                      "Virginia Tech"
                    ],
                    [
                      "High Point"
                    ],
                    [
                      "Utah State"
                    ],
                    [
                      "Pittsburgh"
                    ],
                    [
                      "Saint Mary's (CA)"
                    ],
                    [
                      "Ohio State"
                    ],
                    [
                      "Oklahoma"
                    ],
                    [
                      "Nevada"
                    ],
                    [
                      "Texas A&M"
                    ],
                    [
                      "New Mexico"
                    ],
                    [
                      "Nebraska"
                    ],
                    [
                      "TCU"
                    ],
                    [
                      "Kansas"
                    ],
                    [
                      "Utah"
                    ],
                    [
                      "NC State"
                    ],
                    [
                      "James Madison"
                    ],
                    [
                      "Cornell"
                    ],
                    [
                      "Washington"
                    ],
                    [
                      "Samford"
                    ],
                    [
                      "Oregon"
                    ],
                    [
                      "San Diego State"
                    ],
                    [
                      "Washington State"
                    ],
                    [
                      "UNC Wilmington"
                    ],
                    [
                      "Michigan State"
                    ],
                    [
                      "Bradley"
                    ],
                    [
                      "St. Bonaventure"
                    ],
                    [
                      "College of Charleston"
                    ],
                    [
                      "Grand Canyon"
                    ],
                    [
                      "South Carolina"
                    ],
                    [
                      "Toledo"
                    ],
                    [
                      "Arkansas State"
                    ],
                    [
                      "Cincinnati"
                    ],
                    [
                      "Memphis"
                    ],
                    [
                      "Boston College"
                    ],
                    [
                      "Minnesota"
                    ],
                    [
                      "Mississippi State"
                    ],
                    [
                      "Eastern Washington"
                    ],
                    [
                      "Lipscomb"
                    ],
                    [
                      "UAB"
                    ],
                    [
                      "San Francisco"
                    ],
                    [
                      "Mississippi"
                    ],
                    [
                      "Nevada-Las Vegas"
                    ],
                    [
                      "Montana"
                    ],
                    [
                      "Massachusetts"
                    ],
                    [
                      "Villanova"
                    ],
                    [
                      "Seton Hall"
                    ],
                    [
                      "Butler"
                    ],
                    [
                      "Saint Joseph's"
                    ],
                    [
                      "UC San Diego"
                    ],
                    [
                      "Tulane"
                    ],
                    [
                      "Southern Methodist"
                    ],
                    [
                      "Xavier"
                    ],
                    [
                      "Yale"
                    ],
                    [
                      "South Florida"
                    ],
                    [
                      "Chattanooga"
                    ],
                    [
                      "UC Irvine"
                    ],
                    [
                      "Miami (FL)"
                    ],
                    [
                      "North Texas"
                    ],
                    [
                      "Liberty"
                    ],
                    [
                      "Saint Louis"
                    ],
                    [
                      "Louisiana State"
                    ],
                    [
                      "Penn State"
                    ],
                    [
                      "Stetson"
                    ],
                    [
                      "Weber State"
                    ],
                    [
                      "George Mason"
                    ],
                    [
                      "Southern Illinois"
                    ],
                    [
                      "Florida State"
                    ],
                    [
                      "Virginia Commonwealth"
                    ],
                    [
                      "Southern California"
                    ],
                    [
                      "Santa Clara"
                    ],
                    [
                      "Stanford"
                    ],
                    [
                      "Michigan"
                    ],
                    [
                      "Belmont"
                    ],
                    [
                      "Northern Iowa"
                    ],
                    [
                      "Oakland"
                    ],
                    [
                      "Furman"
                    ],
                    [
                      "Syracuse"
                    ],
                    [
                      "Northern Colorado"
                    ],
                    [
                      "Fairfield"
                    ],
                    [
                      "Ohio"
                    ],
                    [
                      "South Dakota State"
                    ],
                    [
                      "Arkansas"
                    ],
                    [
                      "UNC Greensboro"
                    ],
                    [
                      "Western Carolina"
                    ],
                    [
                      "Morehead State"
                    ],
                    [
                      "UT Arlington"
                    ],
                    [
                      "Tarleton State"
                    ],
                    [
                      "Hofstra"
                    ],
                    [
                      "Georgetown"
                    ],
                    [
                      "Indiana"
                    ],
                    [
                      "Charlotte"
                    ],
                    [
                      "Kansas State"
                    ],
                    [
                      "Loyola Marymount"
                    ],
                    [
                      "Wofford"
                    ],
                    [
                      "Missouri"
                    ],
                    [
                      "Richmond"
                    ],
                    [
                      "St. Thomas"
                    ],
                    [
                      "Oklahoma State"
                    ],
                    [
                      "Vermont"
                    ],
                    [
                      "Denver"
                    ],
                    [
                      "Pennsylvania"
                    ],
                    [
                      "Murray State"
                    ],
                    [
                      "Drexel"
                    ],
                    [
                      "California"
                    ],
                    [
                      "Louisiana Tech"
                    ],
                    [
                      "Georgia"
                    ],
                    [
                      "Appalachian State"
                    ],
                    [
                      "Austin Peay"
                    ],
                    [
                      "Milwaukee"
                    ],
                    [
                      "UNC Asheville"
                    ],
                    [
                      "Youngstown State"
                    ],
                    [
                      "West Virginia"
                    ],
                    [
                      "Cleveland State"
                    ],
                    [
                      "Akron"
                    ],
                    [
                      "Providence"
                    ],
                    [
                      "Georgia Tech"
                    ],
                    [
                      "Little Rock"
                    ],
                    [
                      "Wyoming"
                    ],
                    [
                      "Kent State"
                    ],
                    [
                      "North Florida"
                    ],
                    [
                      "UCF"
                    ],
                    [
                      "Winthrop"
                    ],
                    [
                      "Duquesne"
                    ],
                    [
                      "Troy"
                    ],
                    [
                      "Long Beach State"
                    ],
                    [
                      "Maryland"
                    ],
                    [
                      "Massachusetts-Lowell"
                    ],
                    [
                      "UCLA"
                    ],
                    [
                      "Quinnipiac"
                    ],
                    [
                      "Radford"
                    ],
                    [
                      "Rhode Island"
                    ],
                    [
                      "UC Santa Barbara"
                    ],
                    [
                      "UTSA"
                    ],
                    [
                      "Longwood"
                    ],
                    [
                      "Tennessee-Martin"
                    ],
                    [
                      "Davidson"
                    ],
                    [
                      "Columbia"
                    ],
                    [
                      "Pepperdine"
                    ],
                    [
                      "Louisiana"
                    ],
                    [
                      "Stony Brook"
                    ],
                    [
                      "George Washington"
                    ],
                    [
                      "Eastern Kentucky"
                    ],
                    [
                      "Monmouth"
                    ],
                    [
                      "Howard"
                    ],
                    [
                      "Seattle"
                    ],
                    [
                      "Purdue Fort Wayne"
                    ],
                    [
                      "North Alabama"
                    ],
                    [
                      "Oregon State"
                    ],
                    [
                      "Albany (NY)"
                    ],
                    [
                      "Air Force"
                    ],
                    [
                      "Alcorn State"
                    ],
                    [
                      "Lamar"
                    ],
                    [
                      "Georgia State"
                    ],
                    [
                      "Colgate"
                    ],
                    [
                      "Northeastern"
                    ],
                    [
                      "Rice"
                    ],
                    [
                      "Hawaii"
                    ],
                    [
                      "American"
                    ],
                    [
                      "Southern Utah"
                    ],
                    [
                      "Niagara"
                    ],
                    [
                      "Western Kentucky"
                    ],
                    [
                      "Loyola (IL)"
                    ],
                    [
                      "Delaware"
                    ],
                    [
                      "La Salle"
                    ],
                    [
                      "North Dakota State"
                    ],
                    [
                      "North Carolina Central"
                    ],
                    [
                      "Sam Houston"
                    ],
                    [
                      "Louisville"
                    ],
                    [
                      "Omaha"
                    ],
                    [
                      "San Jose State"
                    ],
                    [
                      "Iona"
                    ],
                    [
                      "Virginia"
                    ],
                    [
                      "Kennesaw State"
                    ],
                    [
                      "Brown"
                    ],
                    [
                      "East Carolina"
                    ],
                    [
                      "North Dakota"
                    ],
                    [
                      "Oral Roberts"
                    ],
                    [
                      "Wichita State"
                    ],
                    [
                      "Missouri State"
                    ],
                    [
                      "Maryland-Baltimore County"
                    ],
                    [
                      "South Alabama"
                    ],
                    [
                      "Montana State"
                    ],
                    [
                      "Nicholls State"
                    ],
                    [
                      "Rider"
                    ],
                    [
                      "Idaho State"
                    ],
                    [
                      "Green Bay"
                    ],
                    [
                      "Towson"
                    ],
                    [
                      "Norfolk State"
                    ],
                    [
                      "Vanderbilt"
                    ],
                    [
                      "Queens (NC)"
                    ],
                    [
                      "UC Riverside"
                    ],
                    [
                      "Northern Kentucky"
                    ],
                    [
                      "Georgia Southern"
                    ],
                    [
                      "California Baptist"
                    ],
                    [
                      "Ball State"
                    ],
                    [
                      "Florida Gulf Coast"
                    ],
                    [
                      "Mercer"
                    ],
                    [
                      "Fresno State"
                    ],
                    [
                      "East Tennessee State"
                    ],
                    [
                      "Presbyterian"
                    ],
                    [
                      "Mount St. Mary's"
                    ],
                    [
                      "The Citadel"
                    ],
                    [
                      "Tulsa"
                    ],
                    [
                      "UC Davis"
                    ],
                    [
                      "Portland"
                    ],
                    [
                      "Arizona State"
                    ],
                    [
                      "Evansville"
                    ],
                    [
                      "Robert Morris"
                    ],
                    [
                      "Illinois State"
                    ],
                    [
                      "South Dakota"
                    ],
                    [
                      "Temple"
                    ],
                    [
                      "Gardner-Webb"
                    ],
                    [
                      "Elon"
                    ],
                    [
                      "Central Connecticut State"
                    ],
                    [
                      "Harvard"
                    ],
                    [
                      "Notre Dame"
                    ],
                    [
                      "Stephen F. Austin"
                    ],
                    [
                      "Arkansas-Pine Bluff"
                    ],
                    [
                      "Jacksonville State"
                    ],
                    [
                      "Bowling Green State"
                    ],
                    [
                      "Binghamton"
                    ],
                    [
                      "Abilene Christian"
                    ],
                    [
                      "Kansas City"
                    ],
                    [
                      "William & Mary"
                    ],
                    [
                      "Northern Illinois"
                    ],
                    [
                      "Sacred Heart"
                    ],
                    [
                      "Canisius"
                    ],
                    [
                      "Cal State Bakersfield"
                    ],
                    [
                      "Southern Illinois-Edwardsville"
                    ],
                    [
                      "Lehigh"
                    ],
                    [
                      "Le Moyne"
                    ],
                    [
                      "Southern Mississippi"
                    ],
                    [
                      "Fordham"
                    ],
                    [
                      "Bryant"
                    ],
                    [
                      "Texas A&M-Corpus Christi"
                    ],
                    [
                      "New Hampshire"
                    ],
                    [
                      "Bucknell"
                    ],
                    [
                      "Jacksonville"
                    ],
                    [
                      "Miami (OH)"
                    ],
                    [
                      "Florida International"
                    ],
                    [
                      "Marshall"
                    ],
                    [
                      "Cal State Fullerton"
                    ],
                    [
                      "San Diego"
                    ],
                    [
                      "Illinois-Chicago"
                    ],
                    [
                      "Jackson State"
                    ],
                    [
                      "DePaul"
                    ],
                    [
                      "Campbell"
                    ],
                    [
                      "Tennessee State"
                    ],
                    [
                      "South Carolina Upstate"
                    ],
                    [
                      "New Mexico State"
                    ],
                    [
                      "Western Michigan"
                    ],
                    [
                      "Texas State"
                    ],
                    [
                      "Cal State Northridge"
                    ],
                    [
                      "Holy Cross"
                    ],
                    [
                      "Saint Peter's"
                    ],
                    [
                      "Louisiana-Monroe"
                    ],
                    [
                      "Utah Tech"
                    ],
                    [
                      "Old Dominion"
                    ],
                    [
                      "Bellarmine"
                    ],
                    [
                      "Utah Valley"
                    ],
                    [
                      "Rutgers"
                    ],
                    [
                      "Portland State"
                    ],
                    [
                      "Coastal Carolina"
                    ],
                    [
                      "Southeastern Louisiana"
                    ],
                    [
                      "Idaho"
                    ],
                    [
                      "Valparaiso"
                    ],
                    [
                      "UTEP"
                    ],
                    [
                      "Marist"
                    ],
                    [
                      "Grambling"
                    ],
                    [
                      "Southern"
                    ],
                    [
                      "South Carolina State"
                    ],
                    [
                      "Boston University"
                    ],
                    [
                      "Maine"
                    ],
                    [
                      "Sacramento State"
                    ],
                    [
                      "FDU"
                    ],
                    [
                      "Texas Southern"
                    ],
                    [
                      "Merrimack"
                    ],
                    [
                      "Western Illinois"
                    ],
                    [
                      "NJIT"
                    ],
                    [
                      "Northern Arizona"
                    ],
                    [
                      "Northwestern State"
                    ],
                    [
                      "New Orleans"
                    ],
                    [
                      "Chicago State"
                    ],
                    [
                      "Bethune-Cookman"
                    ],
                    [
                      "Incarnate Word"
                    ],
                    [
                      "Navy"
                    ],
                    [
                      "Wagner"
                    ],
                    [
                      "Central Michigan"
                    ],
                    [
                      "Central Arkansas"
                    ],
                    [
                      "Middle Tennessee"
                    ],
                    [
                      "Eastern Michigan"
                    ],
                    [
                      "Eastern Illinois"
                    ],
                    [
                      "Southern Indiana"
                    ],
                    [
                      "Detroit Mercy"
                    ],
                    [
                      "Delaware State"
                    ],
                    [
                      "North Carolina A&T"
                    ],
                    [
                      "Morgan State"
                    ],
                    [
                      "Tennessee Tech"
                    ],
                    [
                      "Manhattan"
                    ],
                    [
                      "Buffalo"
                    ],
                    [
                      "Charleston Southern"
                    ],
                    [
                      "Prairie View"
                    ],
                    [
                      "Hampton"
                    ],
                    [
                      "Texas-Rio Grande Valley"
                    ],
                    [
                      "Houston Christian"
                    ],
                    [
                      "Saint Francis (PA)"
                    ],
                    [
                      "Texas A&M-Commerce"
                    ],
                    [
                      "Cal Poly"
                    ],
                    [
                      "Loyola (MD)"
                    ],
                    [
                      "Alabama A&M"
                    ],
                    [
                      "Florida A&M"
                    ],
                    [
                      "Lafayette"
                    ],
                    [
                      "Pacific"
                    ],
                    [
                      "Dartmouth"
                    ],
                    [
                      "Long Island University"
                    ],
                    [
                      "IUPUI"
                    ],
                    [
                      "Lindenwood"
                    ],
                    [
                      "Southeast Missouri State"
                    ],
                    [
                      "Alabama State"
                    ],
                    [
                      "Army"
                    ],
                    [
                      "Stonehill"
                    ],
                    [
                      "Maryland-Eastern Shore"
                    ],
                    [
                      "Siena"
                    ],
                    [
                      "Virginia Military Institute"
                    ],
                    [
                      "Mississippi Valley State"
                    ],
                    [
                      "Coppin State"
                    ]
                  ],
                  "hovertemplate": "Adjusted Offense=%{x}<br>Adjusted Defense=%{y}<br>Team=%{customdata[0]}<extra></extra>",
                  "legendgroup": "",
                  "marker": {
                    "color": "#636efa",
                    "size": 12,
                    "symbol": "circle"
                  },
                  "mode": "markers",
                  "name": "",
                  "orientation": "v",
                  "showlegend": false,
                  "type": "scatter",
                  "x": [
                    1.2352957524685648,
                    1.233900364936935,
                    1.2279452327059515,
                    1.2167987729314533,
                    1.2111885961884918,
                    1.197247732916563,
                    1.1962445939414073,
                    1.1928260652319171,
                    1.1915027600560157,
                    1.191466445675803,
                    1.18658288552158,
                    1.1853233640659666,
                    1.173877397806892,
                    1.1715906797098214,
                    1.1707046174359492,
                    1.167545841327432,
                    1.16754540004407,
                    1.1667409283279915,
                    1.165091124590413,
                    1.1624487221899673,
                    1.1621787592399746,
                    1.1578566945275852,
                    1.1542434807681896,
                    1.1537361516707676,
                    1.1533027519606025,
                    1.1517120933351845,
                    1.1500046162147628,
                    1.1496857616303127,
                    1.1459931436707973,
                    1.1455579469273236,
                    1.1453784444198463,
                    1.1451121158398339,
                    1.1443902263128078,
                    1.1402138095649357,
                    1.1399796070153738,
                    1.1399108595583647,
                    1.1387576796412409,
                    1.1372747189433297,
                    1.1360101167539354,
                    1.1358130973287968,
                    1.1357771489275195,
                    1.132114694761898,
                    1.1318933048245514,
                    1.131542286570668,
                    1.1301936815522904,
                    1.129666761316906,
                    1.1268393844473568,
                    1.1264305247872206,
                    1.1227221731749524,
                    1.1225480615661938,
                    1.122318548006862,
                    1.1213191574800974,
                    1.1211861676729389,
                    1.1206369439035002,
                    1.1203644581285908,
                    1.1202255413493056,
                    1.120018105308758,
                    1.1196322820664966,
                    1.1180425421934197,
                    1.1174448504964132,
                    1.1173718123671934,
                    1.1157090481450644,
                    1.1147301333808017,
                    1.1136417208153746,
                    1.1135428471603654,
                    1.1122289668169467,
                    1.1120375050570173,
                    1.1119702483624747,
                    1.1096270642731085,
                    1.1088363441152116,
                    1.108229056727022,
                    1.1077676920631123,
                    1.106669461955005,
                    1.1066559180879667,
                    1.1063155076089857,
                    1.1059789787031524,
                    1.1053909804680082,
                    1.1037247103131762,
                    1.1022746357693038,
                    1.101864964945125,
                    1.100334687573306,
                    1.0983996578601125,
                    1.0982459446834476,
                    1.0969774744548355,
                    1.0960499823291652,
                    1.0943062901648781,
                    1.0941104984410361,
                    1.0924360280378675,
                    1.0919384748001275,
                    1.091758600368871,
                    1.0891871440154404,
                    1.089040971549477,
                    1.0886246229543752,
                    1.0879270137771955,
                    1.0878373717103382,
                    1.087767228684425,
                    1.0873927631656948,
                    1.0864441025088898,
                    1.0860296400986034,
                    1.0848342293713407,
                    1.084731448752269,
                    1.0839336347451674,
                    1.0831343837342162,
                    1.0816767143003452,
                    1.0815794662506533,
                    1.0814899207423638,
                    1.0811125639330632,
                    1.080985749681885,
                    1.0807990628095636,
                    1.0805160204848674,
                    1.0804612038323465,
                    1.0804571551760707,
                    1.0791112848277917,
                    1.0786730496596597,
                    1.078200940314681,
                    1.0771854572449042,
                    1.076509202704036,
                    1.0761982034273179,
                    1.0757521283615445,
                    1.0752974273672238,
                    1.0747208784148898,
                    1.074488410847544,
                    1.0736978795917644,
                    1.0723806425499591,
                    1.072217566438801,
                    1.0720070452731598,
                    1.071782296461182,
                    1.0717156053584462,
                    1.069941758133405,
                    1.0699276059094087,
                    1.0671388416365086,
                    1.067093571206439,
                    1.0670736172370843,
                    1.0668657064086382,
                    1.0668415513853522,
                    1.06673522502943,
                    1.0666438301030932,
                    1.0665804866121789,
                    1.065584041047508,
                    1.0655552864509832,
                    1.0651462516692927,
                    1.0649243311007206,
                    1.0648434771004331,
                    1.0646612757940335,
                    1.0638739363216352,
                    1.063226129994415,
                    1.0629486781636417,
                    1.0628983985675535,
                    1.0628145140743415,
                    1.062449068951795,
                    1.0619227233551172,
                    1.0617408042689225,
                    1.061223623647528,
                    1.0605466478649552,
                    1.0600307502627146,
                    1.0595948438908414,
                    1.059511058671359,
                    1.0592523465035608,
                    1.0573670093673653,
                    1.0555273477795324,
                    1.0551627957928957,
                    1.0538972671166185,
                    1.0527776275994076,
                    1.052630834924345,
                    1.0521654175420103,
                    1.0513405748934297,
                    1.0508722377582775,
                    1.0508420372713767,
                    1.050707793408555,
                    1.0505520319643373,
                    1.0501605159392482,
                    1.049586182234009,
                    1.0490446525004646,
                    1.0490443041807784,
                    1.0487461648088152,
                    1.0483956995515475,
                    1.0478594986145184,
                    1.0476501667481932,
                    1.047041945468687,
                    1.0456061194136257,
                    1.0455198393438563,
                    1.0453154187123312,
                    1.0443260184219558,
                    1.0442614992962707,
                    1.0435871187972072,
                    1.0428740495113402,
                    1.0423096011647475,
                    1.0420075632418526,
                    1.0413135659925008,
                    1.0410788245689917,
                    1.04062999311476,
                    1.0405790119087779,
                    1.0405724756738008,
                    1.0404699644418938,
                    1.0381674965088552,
                    1.0381108913939954,
                    1.0380145038468962,
                    1.0378451495625822,
                    1.0375121397580955,
                    1.0373549503991313,
                    1.0372388434662212,
                    1.0368238624058415,
                    1.0365769133028677,
                    1.036455925713132,
                    1.035794267990063,
                    1.0343638943995055,
                    1.0341771573424525,
                    1.0339091479660734,
                    1.0336711325020995,
                    1.0324370222194816,
                    1.0316833314216325,
                    1.031541156568557,
                    1.0312128644636291,
                    1.0305645306437714,
                    1.03020584414831,
                    1.030108059216409,
                    1.027718885901201,
                    1.0276889663975464,
                    1.0275648465824216,
                    1.02694356984345,
                    1.0267130819326666,
                    1.0264813578277894,
                    1.0253964862748322,
                    1.0243002435042827,
                    1.0240364366373869,
                    1.0227950392263505,
                    1.0226966913234106,
                    1.0226326471452136,
                    1.022257754432484,
                    1.0221562504072261,
                    1.0220845482732455,
                    1.022069240921555,
                    1.021001314617866,
                    1.0209249063847792,
                    1.0208239028051136,
                    1.018435665692958,
                    1.0177692141633516,
                    1.017253690946576,
                    1.0165961373888364,
                    1.0154031727953552,
                    1.014807934340059,
                    1.0143457422460482,
                    1.0143015826361257,
                    1.0141759423455599,
                    1.0134560067207248,
                    1.013394002569854,
                    1.013146333116546,
                    1.0121818173683235,
                    1.0115633816910954,
                    1.011357327756004,
                    1.0107151628751754,
                    1.009491639285221,
                    1.0094686004611417,
                    1.0090986507314224,
                    1.0087209407970934,
                    1.0085191615855225,
                    1.00749465678087,
                    1.0062790769351475,
                    1.0058116585386372,
                    1.005457779636547,
                    1.0053493571257148,
                    1.0048895909659323,
                    1.003635430184457,
                    1.0023497439363933,
                    1.0022152032490383,
                    1.0019973662741979,
                    1.001281857949507,
                    1.0000884319857366,
                    0.997628523027635,
                    0.9976042019839649,
                    0.9970557589349921,
                    0.9968912253512298,
                    0.9965794452037074,
                    0.9964482301648658,
                    0.9961041843702089,
                    0.9948711213545613,
                    0.9948150068017797,
                    0.994797811975039,
                    0.9944283513315394,
                    0.9931433230366394,
                    0.9925818753254718,
                    0.991085898687786,
                    0.9904605196159214,
                    0.9903041182768024,
                    0.9892150276233004,
                    0.9888150916594607,
                    0.9888028074259267,
                    0.9886055938126563,
                    0.987798785155229,
                    0.9877146824090822,
                    0.9874868253283404,
                    0.9866873783765442,
                    0.9851334629083546,
                    0.9848977025184912,
                    0.9841650402067407,
                    0.9834679587197219,
                    0.9833388858062343,
                    0.9820417954517932,
                    0.9804671654880348,
                    0.9799789626813602,
                    0.979792946912103,
                    0.9796053424206709,
                    0.979109902155601,
                    0.9775057621582396,
                    0.9773138277076623,
                    0.9765759301364763,
                    0.9747314633785156,
                    0.9741520463338409,
                    0.9731144021346045,
                    0.9723160736512949,
                    0.97184352004851,
                    0.9701867156839227,
                    0.9699844108717375,
                    0.9698336735931914,
                    0.9677031998608882,
                    0.9660047406815495,
                    0.9650265811277569,
                    0.9648623112074441,
                    0.9646670525968778,
                    0.9640751677761603,
                    0.9636360122334737,
                    0.9633770693682736,
                    0.9626514519194607,
                    0.9597462014046765,
                    0.959480514059441,
                    0.9578680565080819,
                    0.9577591640294215,
                    0.95504205479227,
                    0.9541976423485619,
                    0.9541550133235783,
                    0.953507587783527,
                    0.9529435768205042,
                    0.9520914951099015,
                    0.949820082838402,
                    0.9491205501510462,
                    0.9457356337521491,
                    0.9454519779406875,
                    0.9453995158250079,
                    0.9413132420723653,
                    0.9399241669125201,
                    0.9389114484991524,
                    0.9373817970407705,
                    0.9356039922161233,
                    0.9350250161828051,
                    0.9344162803538179,
                    0.9323857997871068,
                    0.9296871052235309,
                    0.9283998717031479,
                    0.9274695977511076,
                    0.9258076078625825,
                    0.9241388037286525,
                    0.9210507275400703,
                    0.9202905641409355,
                    0.9182329324921135,
                    0.9173203097643671,
                    0.9165441165967645,
                    0.914357322009468,
                    0.8977426821350775,
                    0.8942079500600334,
                    0.8890565816300937,
                    0.8473397935059219,
                    0.8471404713455026
                  ],
                  "xaxis": "x",
                  "y": [
                    1.0037882906006903,
                    0.9427334897904383,
                    0.9492305662168684,
                    0.9932080575886123,
                    0.9947847425139472,
                    0.9230096741072614,
                    0.9633076995876722,
                    1.0117867243570018,
                    0.9837423789323796,
                    0.9222943784080049,
                    0.9635835708538378,
                    0.9614189905663646,
                    0.9896606101723209,
                    1.008824155874203,
                    0.8458620049543519,
                    0.999034004294277,
                    1.0399221045198122,
                    1.001678899888479,
                    1.0051221702875879,
                    1.0347231692842978,
                    0.9556826820281102,
                    0.9281793314456759,
                    0.9828381250981717,
                    0.9960697359374561,
                    0.9835216617172957,
                    0.9888286994257914,
                    0.9071261645082789,
                    0.9827650092134971,
                    0.9792222941158037,
                    0.9974357449289173,
                    1.1306224686609043,
                    0.975675490007599,
                    1.0088619216109025,
                    0.9747196068290017,
                    0.8724737214197811,
                    1.008619797955487,
                    1.0108599536698004,
                    1.0832643827781707,
                    0.9891778178737951,
                    0.9801659435970915,
                    0.9188917596718031,
                    0.9927074983086387,
                    0.9790818443348284,
                    0.9740325576705526,
                    0.9923111940561459,
                    0.9430035708392385,
                    0.9703343155702518,
                    0.9651221093580306,
                    0.9387053401696401,
                    0.9701977523044751,
                    1.0104003255450875,
                    0.992302363400583,
                    1.0473370641578537,
                    1.0047079833203303,
                    1.0283746902348612,
                    0.9999555084557586,
                    0.934049351727984,
                    0.9674966198908226,
                    1.065567404019109,
                    0.9304803729204598,
                    0.9903889363547629,
                    1.0305372347209922,
                    1.041756253379887,
                    0.975239577013275,
                    0.9926009628998377,
                    1.075488446122422,
                    1.0869873646378074,
                    0.9473998581930565,
                    1.0134058605678353,
                    1.0153129883179606,
                    1.0198038500441784,
                    0.9503401755596513,
                    1.0881223933736255,
                    1.1027542419851797,
                    1.0532568564198959,
                    0.983229776644441,
                    1.029299348261405,
                    1.0076266324304386,
                    1.0852642840228173,
                    1.0136618767734669,
                    0.9448256014260293,
                    0.9927261695170777,
                    0.9928540095217467,
                    1.0151815612812811,
                    1.0484875919908534,
                    1.0644171699977414,
                    0.9739176242133976,
                    0.9802397609735841,
                    0.9971793258904558,
                    1.001419070424027,
                    1.0643131771898022,
                    0.9844672790995179,
                    1.0144460773168689,
                    0.9819234047535867,
                    1.0525653155409511,
                    1.1225768219668613,
                    1.0143831906515826,
                    1.0018763247990443,
                    1.1263761661000846,
                    1.0577285507355392,
                    1.0042593186989741,
                    1.0315121015375441,
                    1.0036130533041514,
                    0.9839563006940084,
                    0.9989467096445167,
                    1.0267863286007737,
                    1.0287687548391027,
                    1.0582655620732113,
                    1.0382908606936212,
                    1.0322917105177463,
                    1.0419068882729523,
                    1.0563484223807122,
                    1.009600771864638,
                    1.1026268891408164,
                    1.0675171628244946,
                    1.0508069012094035,
                    1.0418861919506006,
                    1.0378243653313604,
                    1.0565551480381044,
                    1.0198915237158201,
                    1.0165903891653234,
                    1.035335578525108,
                    1.0521326608023644,
                    1.0151728151433126,
                    1.116438160717867,
                    1.0120808721700472,
                    1.0259904741197428,
                    0.9659833692732764,
                    1.0865053092206727,
                    1.0978706617301603,
                    1.0596629790190792,
                    0.9770078599134183,
                    1.0390285523009306,
                    1.0234328958214636,
                    0.9928737269627054,
                    1.1280365444648983,
                    1.0980741125007998,
                    1.061342452235676,
                    1.0154693475121674,
                    1.0362369489736525,
                    0.9803630198421971,
                    0.9928177677313424,
                    0.964540775182833,
                    1.1101830779096569,
                    1.1048362206329574,
                    1.0630694306377055,
                    1.022481328895504,
                    1.0587017374378291,
                    1.0773728045301674,
                    1.005380840372345,
                    0.9473064161742609,
                    1.0423718460869362,
                    1.0701539254322212,
                    1.062007407442957,
                    1.0513942629924045,
                    1.1173073993254776,
                    0.9399854255190014,
                    1.0626813903038894,
                    0.9704087241106544,
                    1.0208557406749486,
                    1.0555555791355564,
                    0.9495862394941812,
                    1.0275547575087782,
                    0.9926331557068244,
                    1.0458630633575134,
                    1.0982603024344093,
                    1.093210928415075,
                    1.0774944845186978,
                    1.1172679642382246,
                    1.034308493846032,
                    1.08053251464913,
                    1.009002596565919,
                    1.0890850636962117,
                    1.0900777761892746,
                    1.030839898741444,
                    1.0572744015305628,
                    1.0725389777592338,
                    1.086842220706625,
                    1.0695246885214078,
                    1.1213774467353597,
                    0.9942924698767543,
                    1.0243286552387756,
                    1.1027192007082958,
                    1.0531497025322467,
                    1.0864464371000255,
                    1.1233072799016675,
                    1.1541491480342074,
                    1.070778498554914,
                    1.0777516991712868,
                    1.0026230048866804,
                    1.0964139971611773,
                    1.0920406062378363,
                    1.0413321976828243,
                    1.1220333166345928,
                    1.0952712559403133,
                    1.1052831377152987,
                    1.007897653892066,
                    0.9566727284186001,
                    1.0295073565050437,
                    1.0629239209148722,
                    1.1113984546641054,
                    1.097156061348418,
                    1.024968939181257,
                    1.080442744181599,
                    1.096000704838505,
                    1.0951687408757098,
                    1.062294900118539,
                    0.9304464391259303,
                    1.1031879887930467,
                    1.0541279127995002,
                    1.0556511151760628,
                    1.083338146876458,
                    1.10481722092665,
                    1.0172956124633108,
                    1.0167057571248486,
                    1.1028419452935183,
                    1.0840719222921495,
                    1.0650960448804723,
                    1.0783949384045184,
                    1.0611978878967019,
                    1.0883062202040636,
                    1.073027646594458,
                    1.0009007055808836,
                    1.0705973275293226,
                    1.0642652734215123,
                    1.1013358302878966,
                    1.0656862376876797,
                    1.0433905734318893,
                    1.1124723678692827,
                    1.04551453724268,
                    1.0886902607249282,
                    1.0804703458872713,
                    1.0638245620397602,
                    1.078824894194439,
                    1.0355315675883736,
                    1.0957996132497803,
                    1.0611286286328772,
                    1.0809762211987124,
                    1.0384677366132686,
                    1.018109225792043,
                    1.1304102572061168,
                    0.9985160606843135,
                    1.0547423565229392,
                    1.1101933742337657,
                    1.0336282231547318,
                    1.1475960202914108,
                    1.0380056303819973,
                    1.0419508051288031,
                    1.13393699146939,
                    1.0664180720453755,
                    1.0486756074654005,
                    0.986822753833395,
                    1.0181018231956078,
                    1.1670319744390056,
                    1.035347964900301,
                    1.0553797284866058,
                    1.085718968834344,
                    1.0449450318602294,
                    1.0425410466702016,
                    1.1304230029368314,
                    1.1130524221469855,
                    1.0855048536893648,
                    1.0708258844319936,
                    1.0622867099060276,
                    1.0798654342173197,
                    1.0546998149202502,
                    1.0924289388444837,
                    1.0551178028118475,
                    1.016437762675548,
                    1.0009908089044848,
                    1.0103203697145768,
                    1.0383133545459013,
                    1.0652734364784557,
                    1.085881376946824,
                    1.055241314693021,
                    1.0872558756603423,
                    1.0479561587800836,
                    1.0441050163766488,
                    1.0666139237056096,
                    1.014049575441231,
                    1.101487468416192,
                    1.1290180904491731,
                    1.1053025696258532,
                    1.0712342503909729,
                    1.0843871963666958,
                    1.0990656275251183,
                    1.0944193005109306,
                    1.015415723061627,
                    1.032172924156457,
                    1.1745338815022124,
                    0.9971473197572833,
                    1.0993191617434348,
                    1.07429709099488,
                    1.078116922035048,
                    1.1139720232237744,
                    0.9887620640497202,
                    0.9231552294617705,
                    1.0354296153958253,
                    1.106275931785418,
                    1.0857762159711761,
                    1.108937141949296,
                    1.085484145111947,
                    0.9935745421104971,
                    0.9974700587955315,
                    1.0724997879426486,
                    1.0479135969015072,
                    1.0864713931242402,
                    1.0612961687978566,
                    1.015138700419128,
                    1.0950248002679168,
                    1.106054828620274,
                    1.051479375412446,
                    0.99347393730538,
                    1.0398558359549444,
                    1.1245883156382335,
                    1.0966272378003756,
                    1.1186189978826158,
                    1.1411469626353328,
                    1.0736473242212723,
                    1.0810400650151344,
                    1.1325854669063615,
                    1.0799944494311344,
                    1.0488398663534875,
                    1.0490277343519652,
                    1.1347763811328218,
                    1.053447813765352,
                    1.10721241178007,
                    1.072439004472879,
                    1.0963053613180165,
                    1.1527682045879024,
                    1.0510414136014927,
                    1.1398750255029384,
                    1.126715472667126,
                    1.1084396653974016,
                    1.104942098529069,
                    1.1263683232406805,
                    1.0808703213600437,
                    1.100976489404347,
                    1.1177457991234778,
                    1.097755671133577,
                    1.1498374877042143,
                    1.141062065342168,
                    1.0972210995389888,
                    1.1020576124037595,
                    1.109734983625025,
                    1.0844420147139817,
                    1.10892783593554,
                    1.0429038963722232,
                    1.1680951293333521,
                    1.0876104615424735,
                    1.1047388240198381,
                    1.1739449368774229,
                    1.1263862248041983,
                    1.1154177299765624,
                    1.0330507770301303,
                    1.0776805506769078,
                    1.1285957670776925,
                    1.0928649445551026,
                    1.1148434315779066,
                    1.1157847961037815,
                    1.1777928392630557,
                    1.0975543210837169
                  ],
                  "yaxis": "y"
                },
                {
                  "hoverinfo": "skip",
                  "line": {
                    "color": "grey"
                  },
                  "mode": "lines",
                  "opacity": 0.25,
                  "showlegend": false,
                  "type": "scatter",
                  "x": [
                    0.8358620049543519,
                    1.2452957524685648
                  ],
                  "y": [
                    0.8358620049543519,
                    1.2452957524685648
                  ]
                },
                {
                  "hoverinfo": "skip",
                  "line": {
                    "color": "grey"
                  },
                  "mode": "lines",
                  "opacity": 0.25,
                  "showlegend": false,
                  "type": "scatter",
                  "x": [
                    0.9177487544571945,
                    1.3271825019714074
                  ],
                  "y": [
                    0.8358620049543519,
                    1.2452957524685648
                  ]
                },
                {
                  "hoverinfo": "skip",
                  "line": {
                    "color": "grey"
                  },
                  "mode": "lines",
                  "opacity": 0.25,
                  "showlegend": false,
                  "type": "scatter",
                  "x": [
                    0.7539752554515093,
                    1.1634090029657222
                  ],
                  "y": [
                    0.8358620049543519,
                    1.2452957524685648
                  ]
                },
                {
                  "hoverinfo": "skip",
                  "line": {
                    "color": "grey"
                  },
                  "mode": "lines",
                  "opacity": 0.25,
                  "showlegend": false,
                  "type": "scatter",
                  "x": [
                    0.9996355039600371,
                    1.40906925147425
                  ],
                  "y": [
                    0.8358620049543519,
                    1.2452957524685648
                  ]
                },
                {
                  "hoverinfo": "skip",
                  "line": {
                    "color": "grey"
                  },
                  "mode": "lines",
                  "opacity": 0.25,
                  "showlegend": false,
                  "type": "scatter",
                  "x": [
                    0.6720885059486668,
                    1.0815222534628797
                  ],
                  "y": [
                    0.8358620049543519,
                    1.2452957524685648
                  ]
                },
                {
                  "hoverinfo": "skip",
                  "line": {
                    "color": "grey"
                  },
                  "mode": "lines",
                  "opacity": 0.25,
                  "showlegend": false,
                  "type": "scatter",
                  "x": [
                    1.0815222534628797,
                    1.4909560009770926
                  ],
                  "y": [
                    0.8358620049543519,
                    1.2452957524685648
                  ]
                },
                {
                  "hoverinfo": "skip",
                  "line": {
                    "color": "grey"
                  },
                  "mode": "lines",
                  "opacity": 0.25,
                  "showlegend": false,
                  "type": "scatter",
                  "x": [
                    0.5902017564458242,
                    0.9996355039600371
                  ],
                  "y": [
                    0.8358620049543519,
                    1.2452957524685648
                  ]
                },
                {
                  "hoverinfo": "skip",
                  "line": {
                    "color": "grey"
                  },
                  "mode": "lines",
                  "opacity": 0.25,
                  "showlegend": false,
                  "type": "scatter",
                  "x": [
                    1.1634090029657222,
                    1.5728427504799352
                  ],
                  "y": [
                    0.8358620049543519,
                    1.2452957524685648
                  ]
                },
                {
                  "hoverinfo": "skip",
                  "line": {
                    "color": "grey"
                  },
                  "mode": "lines",
                  "opacity": 0.25,
                  "showlegend": false,
                  "type": "scatter",
                  "x": [
                    0.5083150069429816,
                    0.9177487544571945
                  ],
                  "y": [
                    0.8358620049543519,
                    1.2452957524685648
                  ]
                },
                {
                  "hoverinfo": "skip",
                  "line": {
                    "color": "grey"
                  },
                  "mode": "lines",
                  "opacity": 0.25,
                  "showlegend": false,
                  "type": "scatter",
                  "x": [
                    1.2452957524685648,
                    1.6547294999827777
                  ],
                  "y": [
                    0.8358620049543519,
                    1.2452957524685648
                  ]
                },
                {
                  "hoverinfo": "skip",
                  "line": {
                    "color": "grey"
                  },
                  "mode": "lines",
                  "opacity": 0.25,
                  "showlegend": false,
                  "type": "scatter",
                  "x": [
                    0.426428257440139,
                    0.8358620049543519
                  ],
                  "y": [
                    0.8358620049543519,
                    1.2452957524685648
                  ]
                }
              ],
              "layout": {
                "font": {
                  "family": "monospace"
                },
                "height": 600,
                "hovermode": "closest",
                "legend": {
                  "tracegroupgap": 0
                },
                "shapes": [
                  {
                    "line": {
                      "color": "red",
                      "dash": "dot",
                      "width": 2
                    },
                    "type": "line",
                    "x0": 1.046748608614089,
                    "x1": 1.046748608614089,
                    "xref": "x",
                    "y0": 0,
                    "y1": 1,
                    "yref": "y domain"
                  },
                  {
                    "line": {
                      "color": "red",
                      "dash": "dot",
                      "width": 2
                    },
                    "type": "line",
                    "x0": 0,
                    "x1": 1,
                    "xref": "x domain",
                    "y0": 1.0467486086140882,
                    "y1": 1.0467486086140882,
                    "yref": "y"
                  }
                ],
                "template": {
                  "data": {
                    "bar": [
                      {
                        "error_x": {
                          "color": "#2a3f5f"
                        },
                        "error_y": {
                          "color": "#2a3f5f"
                        },
                        "marker": {
                          "line": {
                            "color": "#E5ECF6",
                            "width": 0.5
                          },
                          "pattern": {
                            "fillmode": "overlay",
                            "size": 10,
                            "solidity": 0.2
                          }
                        },
                        "type": "bar"
                      }
                    ],
                    "barpolar": [
                      {
                        "marker": {
                          "line": {
                            "color": "#E5ECF6",
                            "width": 0.5
                          },
                          "pattern": {
                            "fillmode": "overlay",
                            "size": 10,
                            "solidity": 0.2
                          }
                        },
                        "type": "barpolar"
                      }
                    ],
                    "carpet": [
                      {
                        "aaxis": {
                          "endlinecolor": "#2a3f5f",
                          "gridcolor": "white",
                          "linecolor": "white",
                          "minorgridcolor": "white",
                          "startlinecolor": "#2a3f5f"
                        },
                        "baxis": {
                          "endlinecolor": "#2a3f5f",
                          "gridcolor": "white",
                          "linecolor": "white",
                          "minorgridcolor": "white",
                          "startlinecolor": "#2a3f5f"
                        },
                        "type": "carpet"
                      }
                    ],
                    "choropleth": [
                      {
                        "colorbar": {
                          "outlinewidth": 0,
                          "ticks": ""
                        },
                        "type": "choropleth"
                      }
                    ],
                    "contour": [
                      {
                        "colorbar": {
                          "outlinewidth": 0,
                          "ticks": ""
                        },
                        "colorscale": [
                          [
                            0,
                            "#0d0887"
                          ],
                          [
                            0.1111111111111111,
                            "#46039f"
                          ],
                          [
                            0.2222222222222222,
                            "#7201a8"
                          ],
                          [
                            0.3333333333333333,
                            "#9c179e"
                          ],
                          [
                            0.4444444444444444,
                            "#bd3786"
                          ],
                          [
                            0.5555555555555556,
                            "#d8576b"
                          ],
                          [
                            0.6666666666666666,
                            "#ed7953"
                          ],
                          [
                            0.7777777777777778,
                            "#fb9f3a"
                          ],
                          [
                            0.8888888888888888,
                            "#fdca26"
                          ],
                          [
                            1,
                            "#f0f921"
                          ]
                        ],
                        "type": "contour"
                      }
                    ],
                    "contourcarpet": [
                      {
                        "colorbar": {
                          "outlinewidth": 0,
                          "ticks": ""
                        },
                        "type": "contourcarpet"
                      }
                    ],
                    "heatmap": [
                      {
                        "colorbar": {
                          "outlinewidth": 0,
                          "ticks": ""
                        },
                        "colorscale": [
                          [
                            0,
                            "#0d0887"
                          ],
                          [
                            0.1111111111111111,
                            "#46039f"
                          ],
                          [
                            0.2222222222222222,
                            "#7201a8"
                          ],
                          [
                            0.3333333333333333,
                            "#9c179e"
                          ],
                          [
                            0.4444444444444444,
                            "#bd3786"
                          ],
                          [
                            0.5555555555555556,
                            "#d8576b"
                          ],
                          [
                            0.6666666666666666,
                            "#ed7953"
                          ],
                          [
                            0.7777777777777778,
                            "#fb9f3a"
                          ],
                          [
                            0.8888888888888888,
                            "#fdca26"
                          ],
                          [
                            1,
                            "#f0f921"
                          ]
                        ],
                        "type": "heatmap"
                      }
                    ],
                    "heatmapgl": [
                      {
                        "colorbar": {
                          "outlinewidth": 0,
                          "ticks": ""
                        },
                        "colorscale": [
                          [
                            0,
                            "#0d0887"
                          ],
                          [
                            0.1111111111111111,
                            "#46039f"
                          ],
                          [
                            0.2222222222222222,
                            "#7201a8"
                          ],
                          [
                            0.3333333333333333,
                            "#9c179e"
                          ],
                          [
                            0.4444444444444444,
                            "#bd3786"
                          ],
                          [
                            0.5555555555555556,
                            "#d8576b"
                          ],
                          [
                            0.6666666666666666,
                            "#ed7953"
                          ],
                          [
                            0.7777777777777778,
                            "#fb9f3a"
                          ],
                          [
                            0.8888888888888888,
                            "#fdca26"
                          ],
                          [
                            1,
                            "#f0f921"
                          ]
                        ],
                        "type": "heatmapgl"
                      }
                    ],
                    "histogram": [
                      {
                        "marker": {
                          "pattern": {
                            "fillmode": "overlay",
                            "size": 10,
                            "solidity": 0.2
                          }
                        },
                        "type": "histogram"
                      }
                    ],
                    "histogram2d": [
                      {
                        "colorbar": {
                          "outlinewidth": 0,
                          "ticks": ""
                        },
                        "colorscale": [
                          [
                            0,
                            "#0d0887"
                          ],
                          [
                            0.1111111111111111,
                            "#46039f"
                          ],
                          [
                            0.2222222222222222,
                            "#7201a8"
                          ],
                          [
                            0.3333333333333333,
                            "#9c179e"
                          ],
                          [
                            0.4444444444444444,
                            "#bd3786"
                          ],
                          [
                            0.5555555555555556,
                            "#d8576b"
                          ],
                          [
                            0.6666666666666666,
                            "#ed7953"
                          ],
                          [
                            0.7777777777777778,
                            "#fb9f3a"
                          ],
                          [
                            0.8888888888888888,
                            "#fdca26"
                          ],
                          [
                            1,
                            "#f0f921"
                          ]
                        ],
                        "type": "histogram2d"
                      }
                    ],
                    "histogram2dcontour": [
                      {
                        "colorbar": {
                          "outlinewidth": 0,
                          "ticks": ""
                        },
                        "colorscale": [
                          [
                            0,
                            "#0d0887"
                          ],
                          [
                            0.1111111111111111,
                            "#46039f"
                          ],
                          [
                            0.2222222222222222,
                            "#7201a8"
                          ],
                          [
                            0.3333333333333333,
                            "#9c179e"
                          ],
                          [
                            0.4444444444444444,
                            "#bd3786"
                          ],
                          [
                            0.5555555555555556,
                            "#d8576b"
                          ],
                          [
                            0.6666666666666666,
                            "#ed7953"
                          ],
                          [
                            0.7777777777777778,
                            "#fb9f3a"
                          ],
                          [
                            0.8888888888888888,
                            "#fdca26"
                          ],
                          [
                            1,
                            "#f0f921"
                          ]
                        ],
                        "type": "histogram2dcontour"
                      }
                    ],
                    "mesh3d": [
                      {
                        "colorbar": {
                          "outlinewidth": 0,
                          "ticks": ""
                        },
                        "type": "mesh3d"
                      }
                    ],
                    "parcoords": [
                      {
                        "line": {
                          "colorbar": {
                            "outlinewidth": 0,
                            "ticks": ""
                          }
                        },
                        "type": "parcoords"
                      }
                    ],
                    "pie": [
                      {
                        "automargin": true,
                        "type": "pie"
                      }
                    ],
                    "scatter": [
                      {
                        "fillpattern": {
                          "fillmode": "overlay",
                          "size": 10,
                          "solidity": 0.2
                        },
                        "type": "scatter"
                      }
                    ],
                    "scatter3d": [
                      {
                        "line": {
                          "colorbar": {
                            "outlinewidth": 0,
                            "ticks": ""
                          }
                        },
                        "marker": {
                          "colorbar": {
                            "outlinewidth": 0,
                            "ticks": ""
                          }
                        },
                        "type": "scatter3d"
                      }
                    ],
                    "scattercarpet": [
                      {
                        "marker": {
                          "colorbar": {
                            "outlinewidth": 0,
                            "ticks": ""
                          }
                        },
                        "type": "scattercarpet"
                      }
                    ],
                    "scattergeo": [
                      {
                        "marker": {
                          "colorbar": {
                            "outlinewidth": 0,
                            "ticks": ""
                          }
                        },
                        "type": "scattergeo"
                      }
                    ],
                    "scattergl": [
                      {
                        "marker": {
                          "colorbar": {
                            "outlinewidth": 0,
                            "ticks": ""
                          }
                        },
                        "type": "scattergl"
                      }
                    ],
                    "scattermapbox": [
                      {
                        "marker": {
                          "colorbar": {
                            "outlinewidth": 0,
                            "ticks": ""
                          }
                        },
                        "type": "scattermapbox"
                      }
                    ],
                    "scatterpolar": [
                      {
                        "marker": {
                          "colorbar": {
                            "outlinewidth": 0,
                            "ticks": ""
                          }
                        },
                        "type": "scatterpolar"
                      }
                    ],
                    "scatterpolargl": [
                      {
                        "marker": {
                          "colorbar": {
                            "outlinewidth": 0,
                            "ticks": ""
                          }
                        },
                        "type": "scatterpolargl"
                      }
                    ],
                    "scatterternary": [
                      {
                        "marker": {
                          "colorbar": {
                            "outlinewidth": 0,
                            "ticks": ""
                          }
                        },
                        "type": "scatterternary"
                      }
                    ],
                    "surface": [
                      {
                        "colorbar": {
                          "outlinewidth": 0,
                          "ticks": ""
                        },
                        "colorscale": [
                          [
                            0,
                            "#0d0887"
                          ],
                          [
                            0.1111111111111111,
                            "#46039f"
                          ],
                          [
                            0.2222222222222222,
                            "#7201a8"
                          ],
                          [
                            0.3333333333333333,
                            "#9c179e"
                          ],
                          [
                            0.4444444444444444,
                            "#bd3786"
                          ],
                          [
                            0.5555555555555556,
                            "#d8576b"
                          ],
                          [
                            0.6666666666666666,
                            "#ed7953"
                          ],
                          [
                            0.7777777777777778,
                            "#fb9f3a"
                          ],
                          [
                            0.8888888888888888,
                            "#fdca26"
                          ],
                          [
                            1,
                            "#f0f921"
                          ]
                        ],
                        "type": "surface"
                      }
                    ],
                    "table": [
                      {
                        "cells": {
                          "fill": {
                            "color": "#EBF0F8"
                          },
                          "line": {
                            "color": "white"
                          }
                        },
                        "header": {
                          "fill": {
                            "color": "#C8D4E3"
                          },
                          "line": {
                            "color": "white"
                          }
                        },
                        "type": "table"
                      }
                    ]
                  },
                  "layout": {
                    "annotationdefaults": {
                      "arrowcolor": "#2a3f5f",
                      "arrowhead": 0,
                      "arrowwidth": 1
                    },
                    "autotypenumbers": "strict",
                    "coloraxis": {
                      "colorbar": {
                        "outlinewidth": 0,
                        "ticks": ""
                      }
                    },
                    "colorscale": {
                      "diverging": [
                        [
                          0,
                          "#8e0152"
                        ],
                        [
                          0.1,
                          "#c51b7d"
                        ],
                        [
                          0.2,
                          "#de77ae"
                        ],
                        [
                          0.3,
                          "#f1b6da"
                        ],
                        [
                          0.4,
                          "#fde0ef"
                        ],
                        [
                          0.5,
                          "#f7f7f7"
                        ],
                        [
                          0.6,
                          "#e6f5d0"
                        ],
                        [
                          0.7,
                          "#b8e186"
                        ],
                        [
                          0.8,
                          "#7fbc41"
                        ],
                        [
                          0.9,
                          "#4d9221"
                        ],
                        [
                          1,
                          "#276419"
                        ]
                      ],
                      "sequential": [
                        [
                          0,
                          "#0d0887"
                        ],
                        [
                          0.1111111111111111,
                          "#46039f"
                        ],
                        [
                          0.2222222222222222,
                          "#7201a8"
                        ],
                        [
                          0.3333333333333333,
                          "#9c179e"
                        ],
                        [
                          0.4444444444444444,
                          "#bd3786"
                        ],
                        [
                          0.5555555555555556,
                          "#d8576b"
                        ],
                        [
                          0.6666666666666666,
                          "#ed7953"
                        ],
                        [
                          0.7777777777777778,
                          "#fb9f3a"
                        ],
                        [
                          0.8888888888888888,
                          "#fdca26"
                        ],
                        [
                          1,
                          "#f0f921"
                        ]
                      ],
                      "sequentialminus": [
                        [
                          0,
                          "#0d0887"
                        ],
                        [
                          0.1111111111111111,
                          "#46039f"
                        ],
                        [
                          0.2222222222222222,
                          "#7201a8"
                        ],
                        [
                          0.3333333333333333,
                          "#9c179e"
                        ],
                        [
                          0.4444444444444444,
                          "#bd3786"
                        ],
                        [
                          0.5555555555555556,
                          "#d8576b"
                        ],
                        [
                          0.6666666666666666,
                          "#ed7953"
                        ],
                        [
                          0.7777777777777778,
                          "#fb9f3a"
                        ],
                        [
                          0.8888888888888888,
                          "#fdca26"
                        ],
                        [
                          1,
                          "#f0f921"
                        ]
                      ]
                    },
                    "colorway": [
                      "#636efa",
                      "#EF553B",
                      "#00cc96",
                      "#ab63fa",
                      "#FFA15A",
                      "#19d3f3",
                      "#FF6692",
                      "#B6E880",
                      "#FF97FF",
                      "#FECB52"
                    ],
                    "font": {
                      "color": "#2a3f5f"
                    },
                    "geo": {
                      "bgcolor": "white",
                      "lakecolor": "white",
                      "landcolor": "#E5ECF6",
                      "showlakes": true,
                      "showland": true,
                      "subunitcolor": "white"
                    },
                    "hoverlabel": {
                      "align": "left"
                    },
                    "hovermode": "closest",
                    "mapbox": {
                      "style": "light"
                    },
                    "paper_bgcolor": "white",
                    "plot_bgcolor": "#E5ECF6",
                    "polar": {
                      "angularaxis": {
                        "gridcolor": "white",
                        "linecolor": "white",
                        "ticks": ""
                      },
                      "bgcolor": "#E5ECF6",
                      "radialaxis": {
                        "gridcolor": "white",
                        "linecolor": "white",
                        "ticks": ""
                      }
                    },
                    "scene": {
                      "xaxis": {
                        "backgroundcolor": "#E5ECF6",
                        "gridcolor": "white",
                        "gridwidth": 2,
                        "linecolor": "white",
                        "showbackground": true,
                        "ticks": "",
                        "zerolinecolor": "white"
                      },
                      "yaxis": {
                        "backgroundcolor": "#E5ECF6",
                        "gridcolor": "white",
                        "gridwidth": 2,
                        "linecolor": "white",
                        "showbackground": true,
                        "ticks": "",
                        "zerolinecolor": "white"
                      },
                      "zaxis": {
                        "backgroundcolor": "#E5ECF6",
                        "gridcolor": "white",
                        "gridwidth": 2,
                        "linecolor": "white",
                        "showbackground": true,
                        "ticks": "",
                        "zerolinecolor": "white"
                      }
                    },
                    "shapedefaults": {
                      "line": {
                        "color": "#2a3f5f"
                      }
                    },
                    "ternary": {
                      "aaxis": {
                        "gridcolor": "white",
                        "linecolor": "white",
                        "ticks": ""
                      },
                      "baxis": {
                        "gridcolor": "white",
                        "linecolor": "white",
                        "ticks": ""
                      },
                      "bgcolor": "#E5ECF6",
                      "caxis": {
                        "gridcolor": "white",
                        "linecolor": "white",
                        "ticks": ""
                      }
                    },
                    "title": {
                      "x": 0.05
                    },
                    "xaxis": {
                      "automargin": true,
                      "gridcolor": "white",
                      "linecolor": "white",
                      "ticks": "",
                      "title": {
                        "standoff": 15
                      },
                      "zerolinecolor": "white",
                      "zerolinewidth": 2
                    },
                    "yaxis": {
                      "automargin": true,
                      "gridcolor": "white",
                      "linecolor": "white",
                      "ticks": "",
                      "title": {
                        "standoff": 15
                      },
                      "zerolinecolor": "white",
                      "zerolinewidth": 2
                    }
                  }
                },
                "title": {
                  "text": "Adjusted Points Per Possession Ratings as of 2024-03-19"
                },
                "width": 1000,
                "xaxis": {
                  "anchor": "y",
                  "domain": [
                    0,
                    1
                  ],
                  "range": [
                    0.8371404713455026,
                    1.2452957524685648
                  ],
                  "showgrid": false,
                  "ticks": "outside",
                  "title": {
                    "text": "Adjusted Offense"
                  }
                },
                "yaxis": {
                  "anchor": "x",
                  "domain": [
                    0,
                    1
                  ],
                  "range": [
                    1.1877928392630557,
                    0.8358620049543519
                  ],
                  "showgrid": false,
                  "ticks": "outside",
                  "title": {
                    "text": "Adjusted Defense"
                  }
                }
              }
            }
          },
          "metadata": {},
          "output_type": "display_data"
        }
      ],
      "source": [
        "import plotly.express as px\n",
        "\n",
        "fig = px.scatter(\n",
        "    df_ppp_all,\n",
        "    x='Adjusted Offense',\n",
        "    y='Adjusted Defense',\n",
        "    hover_data='Team',\n",
        "    title=f'Adjusted Points Per Possession Ratings as of {df[\"Date\"].max().strftime(\"%Y-%m-%d\")}',\n",
        "    width=1_000, height=600,\n",
        ")\n",
        "\n",
        "fig.update_layout(\n",
        "    font_family='monospace',\n",
        "    hovermode='closest',\n",
        "    yaxis=dict(\n",
        "        showgrid=False,\n",
        "        ticks='outside',\n",
        "    ),\n",
        "    xaxis=dict(\n",
        "        showgrid=False,\n",
        "        ticks='outside',\n",
        "    ),\n",
        "    xaxis_range=(df_ppp_all['Adjusted Offense'].min()-0.01, df_ppp_all['Adjusted Offense'].max()+0.01),\n",
        "    yaxis_range=(df_ppp_all['Adjusted Defense'].max()+0.01, df_ppp_all['Adjusted Defense'].min()-0.01),\n",
        ")\n",
        "\n",
        "fig.update_traces(marker=dict(size=12))\n",
        "\n",
        "fig.add_vline(\n",
        "    x=df_ppp_all['Adjusted Offense'].mean(),\n",
        "    line=dict(color=\"red\", width=2, dash=\"dot\")\n",
        ")\n",
        "\n",
        "fig.add_hline(\n",
        "    y=df_ppp_all['Adjusted Defense'].mean(),\n",
        "    line=dict(color=\"red\", width=2, dash=\"dot\")\n",
        ")\n",
        "\n",
        "# sloped gridlines\n",
        "minimum = min(df_ppp_all['Adjusted Offense'].min(), df_ppp_all['Adjusted Defense'].min())-0.01\n",
        "maximum = max(df_ppp_all['Adjusted Offense'].max(), df_ppp_all['Adjusted Defense'].max())+0.01\n",
        "\n",
        "for offset in np.linspace(0, maximum-minimum, 6):\n",
        "    fig.add_scatter(\n",
        "        x=(minimum+offset, maximum+offset),\n",
        "        y=(minimum, maximum),\n",
        "        mode='lines',\n",
        "        line_color='grey',\n",
        "        opacity=0.25,\n",
        "        showlegend=False,\n",
        "        hoverinfo='skip'\n",
        "    )\n",
        "\n",
        "    if offset:\n",
        "        fig.add_scatter(\n",
        "            x=(minimum-offset, maximum-offset),\n",
        "            y=(minimum, maximum),\n",
        "            mode='lines',\n",
        "            line_color='grey',\n",
        "            opacity=0.25,\n",
        "            showlegend=False,\n",
        "            hoverinfo='skip'\n",
        "        )\n",
        "\n",
        "fig.show()"
      ]
    },
    {
      "cell_type": "markdown",
      "metadata": {
        "id": "RlqHvdpmnLWY"
      },
      "source": [
        "### Miscellaneous"
      ]
    },
    {
      "cell_type": "markdown",
      "metadata": {
        "id": "DmKx9ya0CUYP"
      },
      "source": [
        "##### Save Rankings"
      ]
    },
    {
      "cell_type": "code",
      "execution_count": 40,
      "metadata": {
        "colab": {
          "base_uri": "https://localhost:8080/",
          "height": 423
        },
        "id": "Z1j8akVOC5-m",
        "outputId": "dccfc550-3943-48a2-90c4-8dff074142ef"
      },
      "outputs": [
        {
          "data": {
            "text/html": [
              "<div>\n",
              "<style scoped>\n",
              "    .dataframe tbody tr th:only-of-type {\n",
              "        vertical-align: middle;\n",
              "    }\n",
              "\n",
              "    .dataframe tbody tr th {\n",
              "        vertical-align: top;\n",
              "    }\n",
              "\n",
              "    .dataframe thead th {\n",
              "        text-align: right;\n",
              "    }\n",
              "</style>\n",
              "<table border=\"1\" class=\"dataframe\">\n",
              "  <thead>\n",
              "    <tr style=\"text-align: right;\">\n",
              "      <th></th>\n",
              "      <th>Team</th>\n",
              "      <th>Rating</th>\n",
              "      <th>Strength</th>\n",
              "      <th>Efficiency Margin</th>\n",
              "      <th>Adjusted Offense</th>\n",
              "      <th>Adjusted Defense</th>\n",
              "      <th>Adjusted Tempo</th>\n",
              "    </tr>\n",
              "  </thead>\n",
              "  <tbody>\n",
              "    <tr>\n",
              "      <th>0</th>\n",
              "      <td>Purdue</td>\n",
              "      <td>2.865430</td>\n",
              "      <td>94.611081</td>\n",
              "      <td>0.278715</td>\n",
              "      <td>1.227945</td>\n",
              "      <td>0.949231</td>\n",
              "      <td>68.623502</td>\n",
              "    </tr>\n",
              "    <tr>\n",
              "      <th>1</th>\n",
              "      <td>Connecticut</td>\n",
              "      <td>2.807860</td>\n",
              "      <td>94.309911</td>\n",
              "      <td>0.291167</td>\n",
              "      <td>1.233900</td>\n",
              "      <td>0.942733</td>\n",
              "      <td>66.314773</td>\n",
              "    </tr>\n",
              "    <tr>\n",
              "      <th>2</th>\n",
              "      <td>Houston</td>\n",
              "      <td>2.710147</td>\n",
              "      <td>93.762277</td>\n",
              "      <td>0.324843</td>\n",
              "      <td>1.170705</td>\n",
              "      <td>0.845862</td>\n",
              "      <td>64.748225</td>\n",
              "    </tr>\n",
              "    <tr>\n",
              "      <th>3</th>\n",
              "      <td>North Carolina</td>\n",
              "      <td>2.394173</td>\n",
              "      <td>91.638186</td>\n",
              "      <td>0.229677</td>\n",
              "      <td>1.157857</td>\n",
              "      <td>0.928179</td>\n",
              "      <td>71.641470</td>\n",
              "    </tr>\n",
              "    <tr>\n",
              "      <th>4</th>\n",
              "      <td>Auburn</td>\n",
              "      <td>2.265589</td>\n",
              "      <td>90.598676</td>\n",
              "      <td>0.269172</td>\n",
              "      <td>1.191466</td>\n",
              "      <td>0.922294</td>\n",
              "      <td>70.601135</td>\n",
              "    </tr>\n",
              "    <tr>\n",
              "      <th>...</th>\n",
              "      <td>...</td>\n",
              "      <td>...</td>\n",
              "      <td>...</td>\n",
              "      <td>...</td>\n",
              "      <td>...</td>\n",
              "      <td>...</td>\n",
              "      <td>...</td>\n",
              "    </tr>\n",
              "    <tr>\n",
              "      <th>357</th>\n",
              "      <td>Virginia Military Institute</td>\n",
              "      <td>-2.524350</td>\n",
              "      <td>7.416871</td>\n",
              "      <td>-0.226728</td>\n",
              "      <td>0.889057</td>\n",
              "      <td>1.115785</td>\n",
              "      <td>75.051956</td>\n",
              "    </tr>\n",
              "    <tr>\n",
              "      <th>358</th>\n",
              "      <td>IUPUI</td>\n",
              "      <td>-2.530265</td>\n",
              "      <td>7.376357</td>\n",
              "      <td>-0.252894</td>\n",
              "      <td>0.921051</td>\n",
              "      <td>1.173945</td>\n",
              "      <td>68.400487</td>\n",
              "    </tr>\n",
              "    <tr>\n",
              "      <th>359</th>\n",
              "      <td>Coppin State</td>\n",
              "      <td>-2.551242</td>\n",
              "      <td>7.234308</td>\n",
              "      <td>-0.250414</td>\n",
              "      <td>0.847140</td>\n",
              "      <td>1.097554</td>\n",
              "      <td>67.666157</td>\n",
              "    </tr>\n",
              "    <tr>\n",
              "      <th>360</th>\n",
              "      <td>Detroit Mercy</td>\n",
              "      <td>-2.783646</td>\n",
              "      <td>5.821436</td>\n",
              "      <td>-0.198613</td>\n",
              "      <td>0.954155</td>\n",
              "      <td>1.152768</td>\n",
              "      <td>68.011051</td>\n",
              "    </tr>\n",
              "    <tr>\n",
              "      <th>361</th>\n",
              "      <td>Mississippi Valley State</td>\n",
              "      <td>-2.931614</td>\n",
              "      <td>5.061270</td>\n",
              "      <td>-0.330453</td>\n",
              "      <td>0.847340</td>\n",
              "      <td>1.177793</td>\n",
              "      <td>65.668228</td>\n",
              "    </tr>\n",
              "  </tbody>\n",
              "</table>\n",
              "<p>362 rows × 7 columns</p>\n",
              "</div>"
            ],
            "text/plain": [
              "                            Team    Rating   Strength  Efficiency Margin  \\\n",
              "0                         Purdue  2.865430  94.611081           0.278715   \n",
              "1                    Connecticut  2.807860  94.309911           0.291167   \n",
              "2                        Houston  2.710147  93.762277           0.324843   \n",
              "3                 North Carolina  2.394173  91.638186           0.229677   \n",
              "4                         Auburn  2.265589  90.598676           0.269172   \n",
              "..                           ...       ...        ...                ...   \n",
              "357  Virginia Military Institute -2.524350   7.416871          -0.226728   \n",
              "358                        IUPUI -2.530265   7.376357          -0.252894   \n",
              "359                 Coppin State -2.551242   7.234308          -0.250414   \n",
              "360                Detroit Mercy -2.783646   5.821436          -0.198613   \n",
              "361     Mississippi Valley State -2.931614   5.061270          -0.330453   \n",
              "\n",
              "     Adjusted Offense  Adjusted Defense  Adjusted Tempo  \n",
              "0            1.227945          0.949231       68.623502  \n",
              "1            1.233900          0.942733       66.314773  \n",
              "2            1.170705          0.845862       64.748225  \n",
              "3            1.157857          0.928179       71.641470  \n",
              "4            1.191466          0.922294       70.601135  \n",
              "..                ...               ...             ...  \n",
              "357          0.889057          1.115785       75.051956  \n",
              "358          0.921051          1.173945       68.400487  \n",
              "359          0.847140          1.097554       67.666157  \n",
              "360          0.954155          1.152768       68.011051  \n",
              "361          0.847340          1.177793       65.668228  \n",
              "\n",
              "[362 rows x 7 columns]"
            ]
          },
          "execution_count": 40,
          "metadata": {},
          "output_type": "execute_result"
        }
      ],
      "source": [
        "df_sheet = pd.merge(\n",
        "    df_ratings_display, df_ppp_all,\n",
        "    how='left',\n",
        "    on=['Team']\n",
        ")\n",
        "\n",
        "df_sheet = pd.merge(\n",
        "    df_sheet, df_tempo,\n",
        "    how='left',\n",
        "    on=['Team']\n",
        ")\n",
        "\n",
        "df_sheet.insert(\n",
        "    df_sheet.columns.get_loc('Adjusted Offense'),\n",
        "    'Efficiency Margin',\n",
        "    df_sheet['Adjusted Offense'] - df_sheet['Adjusted Defense']\n",
        ")\n",
        "\n",
        "df_sheet"
      ]
    },
    {
      "cell_type": "code",
      "execution_count": 41,
      "metadata": {},
      "outputs": [
        {
          "data": {
            "text/plain": [
              "'Done'"
            ]
          },
          "execution_count": 41,
          "metadata": {},
          "output_type": "execute_result"
        }
      ],
      "source": [
        "df_sheet.to_csv(f'../data/preprocessed/my_rankings/my_rankings_{season}.csv', index=False)\n",
        "df.to_csv(f'../data/unprocessed/sports_reference/sports_reference_{season}.csv', index=False)\n",
        "\n",
        "'Done'"
      ]
    }
  ],
  "metadata": {
    "colab": {
      "provenance": []
    },
    "kernelspec": {
      "display_name": "Python 3",
      "name": "python3"
    },
    "language_info": {
      "codemirror_mode": {
        "name": "ipython",
        "version": 3
      },
      "file_extension": ".py",
      "mimetype": "text/x-python",
      "name": "python",
      "nbconvert_exporter": "python",
      "pygments_lexer": "ipython3",
      "version": "3.10.4"
    },
    "widgets": {
      "application/vnd.jupyter.widget-state+json": {
        "04f0a71403494c27a06698e0b6255131": {
          "model_module": "@jupyter-widgets/controls",
          "model_module_version": "1.5.0",
          "model_name": "DescriptionStyleModel",
          "state": {
            "_model_module": "@jupyter-widgets/controls",
            "_model_module_version": "1.5.0",
            "_model_name": "DescriptionStyleModel",
            "_view_count": null,
            "_view_module": "@jupyter-widgets/base",
            "_view_module_version": "1.2.0",
            "_view_name": "StyleView",
            "description_width": ""
          }
        },
        "0a3c13f5536445869c476442ef3c16f5": {
          "model_module": "@jupyter-widgets/controls",
          "model_module_version": "1.5.0",
          "model_name": "DescriptionStyleModel",
          "state": {
            "_model_module": "@jupyter-widgets/controls",
            "_model_module_version": "1.5.0",
            "_model_name": "DescriptionStyleModel",
            "_view_count": null,
            "_view_module": "@jupyter-widgets/base",
            "_view_module_version": "1.2.0",
            "_view_name": "StyleView",
            "description_width": ""
          }
        },
        "0bfc3f942bd1423f8a3a1e39c9ed21c8": {
          "model_module": "@jupyter-widgets/base",
          "model_module_version": "1.2.0",
          "model_name": "LayoutModel",
          "state": {
            "_model_module": "@jupyter-widgets/base",
            "_model_module_version": "1.2.0",
            "_model_name": "LayoutModel",
            "_view_count": null,
            "_view_module": "@jupyter-widgets/base",
            "_view_module_version": "1.2.0",
            "_view_name": "LayoutView",
            "align_content": null,
            "align_items": null,
            "align_self": null,
            "border": null,
            "bottom": null,
            "display": null,
            "flex": null,
            "flex_flow": null,
            "grid_area": null,
            "grid_auto_columns": null,
            "grid_auto_flow": null,
            "grid_auto_rows": null,
            "grid_column": null,
            "grid_gap": null,
            "grid_row": null,
            "grid_template_areas": null,
            "grid_template_columns": null,
            "grid_template_rows": null,
            "height": null,
            "justify_content": null,
            "justify_items": null,
            "left": null,
            "margin": null,
            "max_height": null,
            "max_width": null,
            "min_height": null,
            "min_width": null,
            "object_fit": null,
            "object_position": null,
            "order": null,
            "overflow": null,
            "overflow_x": null,
            "overflow_y": null,
            "padding": null,
            "right": null,
            "top": null,
            "visibility": null,
            "width": null
          }
        },
        "117de68d17b945428193f55885b73157": {
          "model_module": "@jupyter-widgets/controls",
          "model_module_version": "1.5.0",
          "model_name": "DescriptionStyleModel",
          "state": {
            "_model_module": "@jupyter-widgets/controls",
            "_model_module_version": "1.5.0",
            "_model_name": "DescriptionStyleModel",
            "_view_count": null,
            "_view_module": "@jupyter-widgets/base",
            "_view_module_version": "1.2.0",
            "_view_name": "StyleView",
            "description_width": ""
          }
        },
        "11f4f7465764482e9bec62cefa12ddb2": {
          "model_module": "@jupyter-widgets/controls",
          "model_module_version": "1.5.0",
          "model_name": "HBoxModel",
          "state": {
            "_dom_classes": [],
            "_model_module": "@jupyter-widgets/controls",
            "_model_module_version": "1.5.0",
            "_model_name": "HBoxModel",
            "_view_count": null,
            "_view_module": "@jupyter-widgets/controls",
            "_view_module_version": "1.5.0",
            "_view_name": "HBoxView",
            "box_style": "",
            "children": [
              "IPY_MODEL_b5012a0f81b94aa68f0261fe5a226f51",
              "IPY_MODEL_765cd1cbe3e1446c97fbd94bb28e00cc",
              "IPY_MODEL_6e60634134c04119919ef66355a00b52"
            ],
            "layout": "IPY_MODEL_ee95c8c842b147df8b9213018e4f018a"
          }
        },
        "128911cd3fcd47dda8e1c7c05ed7dde4": {
          "model_module": "@jupyter-widgets/controls",
          "model_module_version": "1.5.0",
          "model_name": "ProgressStyleModel",
          "state": {
            "_model_module": "@jupyter-widgets/controls",
            "_model_module_version": "1.5.0",
            "_model_name": "ProgressStyleModel",
            "_view_count": null,
            "_view_module": "@jupyter-widgets/base",
            "_view_module_version": "1.2.0",
            "_view_name": "StyleView",
            "bar_color": null,
            "description_width": ""
          }
        },
        "1353b26014824374bd34de6571e61802": {
          "model_module": "@jupyter-widgets/base",
          "model_module_version": "1.2.0",
          "model_name": "LayoutModel",
          "state": {
            "_model_module": "@jupyter-widgets/base",
            "_model_module_version": "1.2.0",
            "_model_name": "LayoutModel",
            "_view_count": null,
            "_view_module": "@jupyter-widgets/base",
            "_view_module_version": "1.2.0",
            "_view_name": "LayoutView",
            "align_content": null,
            "align_items": null,
            "align_self": null,
            "border": null,
            "bottom": null,
            "display": null,
            "flex": null,
            "flex_flow": null,
            "grid_area": null,
            "grid_auto_columns": null,
            "grid_auto_flow": null,
            "grid_auto_rows": null,
            "grid_column": null,
            "grid_gap": null,
            "grid_row": null,
            "grid_template_areas": null,
            "grid_template_columns": null,
            "grid_template_rows": null,
            "height": null,
            "justify_content": null,
            "justify_items": null,
            "left": null,
            "margin": null,
            "max_height": null,
            "max_width": null,
            "min_height": null,
            "min_width": null,
            "object_fit": null,
            "object_position": null,
            "order": null,
            "overflow": null,
            "overflow_x": null,
            "overflow_y": null,
            "padding": null,
            "right": null,
            "top": null,
            "visibility": null,
            "width": null
          }
        },
        "17bd2feda6a34232aa49e3676e7bca30": {
          "model_module": "@jupyter-widgets/controls",
          "model_module_version": "1.5.0",
          "model_name": "HTMLModel",
          "state": {
            "_dom_classes": [],
            "_model_module": "@jupyter-widgets/controls",
            "_model_module_version": "1.5.0",
            "_model_name": "HTMLModel",
            "_view_count": null,
            "_view_module": "@jupyter-widgets/controls",
            "_view_module_version": "1.5.0",
            "_view_name": "HTMLView",
            "description": "",
            "description_tooltip": null,
            "layout": "IPY_MODEL_308d1c662f25441eae479ce311201266",
            "placeholder": "​",
            "style": "IPY_MODEL_117de68d17b945428193f55885b73157",
            "value": "100%| 362/362 [13:02&lt;00:00,  2.16s/it]   Youngstown State: "
          }
        },
        "1c3fe7773747453bb18df88c9196f165": {
          "model_module": "@jupyter-widgets/controls",
          "model_module_version": "1.5.0",
          "model_name": "HTMLModel",
          "state": {
            "_dom_classes": [],
            "_model_module": "@jupyter-widgets/controls",
            "_model_module_version": "1.5.0",
            "_model_name": "HTMLModel",
            "_view_count": null,
            "_view_module": "@jupyter-widgets/controls",
            "_view_module_version": "1.5.0",
            "_view_name": "HTMLView",
            "description": "",
            "description_tooltip": null,
            "layout": "IPY_MODEL_e24be0b176eb442e949c029cb808656d",
            "placeholder": "​",
            "style": "IPY_MODEL_04f0a71403494c27a06698e0b6255131",
            "value": "Best trial: 61. Best value: 17.4236: 100%"
          }
        },
        "211cb420f35c436abbf4681341b61f0d": {
          "model_module": "@jupyter-widgets/base",
          "model_module_version": "1.2.0",
          "model_name": "LayoutModel",
          "state": {
            "_model_module": "@jupyter-widgets/base",
            "_model_module_version": "1.2.0",
            "_model_name": "LayoutModel",
            "_view_count": null,
            "_view_module": "@jupyter-widgets/base",
            "_view_module_version": "1.2.0",
            "_view_name": "LayoutView",
            "align_content": null,
            "align_items": null,
            "align_self": null,
            "border": null,
            "bottom": null,
            "display": null,
            "flex": null,
            "flex_flow": null,
            "grid_area": null,
            "grid_auto_columns": null,
            "grid_auto_flow": null,
            "grid_auto_rows": null,
            "grid_column": null,
            "grid_gap": null,
            "grid_row": null,
            "grid_template_areas": null,
            "grid_template_columns": null,
            "grid_template_rows": null,
            "height": null,
            "justify_content": null,
            "justify_items": null,
            "left": null,
            "margin": null,
            "max_height": null,
            "max_width": null,
            "min_height": null,
            "min_width": null,
            "object_fit": null,
            "object_position": null,
            "order": null,
            "overflow": null,
            "overflow_x": null,
            "overflow_y": null,
            "padding": null,
            "right": null,
            "top": null,
            "visibility": null,
            "width": null
          }
        },
        "27b91ed1a9434dd2abf73255137379e8": {
          "model_module": "@jupyter-widgets/base",
          "model_module_version": "1.2.0",
          "model_name": "LayoutModel",
          "state": {
            "_model_module": "@jupyter-widgets/base",
            "_model_module_version": "1.2.0",
            "_model_name": "LayoutModel",
            "_view_count": null,
            "_view_module": "@jupyter-widgets/base",
            "_view_module_version": "1.2.0",
            "_view_name": "LayoutView",
            "align_content": null,
            "align_items": null,
            "align_self": null,
            "border": null,
            "bottom": null,
            "display": null,
            "flex": null,
            "flex_flow": null,
            "grid_area": null,
            "grid_auto_columns": null,
            "grid_auto_flow": null,
            "grid_auto_rows": null,
            "grid_column": null,
            "grid_gap": null,
            "grid_row": null,
            "grid_template_areas": null,
            "grid_template_columns": null,
            "grid_template_rows": null,
            "height": null,
            "justify_content": null,
            "justify_items": null,
            "left": null,
            "margin": null,
            "max_height": null,
            "max_width": null,
            "min_height": null,
            "min_width": null,
            "object_fit": null,
            "object_position": null,
            "order": null,
            "overflow": null,
            "overflow_x": null,
            "overflow_y": null,
            "padding": null,
            "right": null,
            "top": null,
            "visibility": null,
            "width": null
          }
        },
        "2e8643cb55404d0d8cf996b8131c78c4": {
          "model_module": "@jupyter-widgets/controls",
          "model_module_version": "1.5.0",
          "model_name": "ProgressStyleModel",
          "state": {
            "_model_module": "@jupyter-widgets/controls",
            "_model_module_version": "1.5.0",
            "_model_name": "ProgressStyleModel",
            "_view_count": null,
            "_view_module": "@jupyter-widgets/base",
            "_view_module_version": "1.2.0",
            "_view_name": "StyleView",
            "bar_color": null,
            "description_width": ""
          }
        },
        "308d1c662f25441eae479ce311201266": {
          "model_module": "@jupyter-widgets/base",
          "model_module_version": "1.2.0",
          "model_name": "LayoutModel",
          "state": {
            "_model_module": "@jupyter-widgets/base",
            "_model_module_version": "1.2.0",
            "_model_name": "LayoutModel",
            "_view_count": null,
            "_view_module": "@jupyter-widgets/base",
            "_view_module_version": "1.2.0",
            "_view_name": "LayoutView",
            "align_content": null,
            "align_items": null,
            "align_self": null,
            "border": null,
            "bottom": null,
            "display": null,
            "flex": null,
            "flex_flow": null,
            "grid_area": null,
            "grid_auto_columns": null,
            "grid_auto_flow": null,
            "grid_auto_rows": null,
            "grid_column": null,
            "grid_gap": null,
            "grid_row": null,
            "grid_template_areas": null,
            "grid_template_columns": null,
            "grid_template_rows": null,
            "height": null,
            "justify_content": null,
            "justify_items": null,
            "left": null,
            "margin": null,
            "max_height": null,
            "max_width": null,
            "min_height": null,
            "min_width": null,
            "object_fit": null,
            "object_position": null,
            "order": null,
            "overflow": null,
            "overflow_x": null,
            "overflow_y": null,
            "padding": null,
            "right": null,
            "top": null,
            "visibility": null,
            "width": null
          }
        },
        "314e684560bb4f418c39a6cb3ba4b42a": {
          "model_module": "@jupyter-widgets/base",
          "model_module_version": "1.2.0",
          "model_name": "LayoutModel",
          "state": {
            "_model_module": "@jupyter-widgets/base",
            "_model_module_version": "1.2.0",
            "_model_name": "LayoutModel",
            "_view_count": null,
            "_view_module": "@jupyter-widgets/base",
            "_view_module_version": "1.2.0",
            "_view_name": "LayoutView",
            "align_content": null,
            "align_items": null,
            "align_self": null,
            "border": null,
            "bottom": null,
            "display": null,
            "flex": null,
            "flex_flow": null,
            "grid_area": null,
            "grid_auto_columns": null,
            "grid_auto_flow": null,
            "grid_auto_rows": null,
            "grid_column": null,
            "grid_gap": null,
            "grid_row": null,
            "grid_template_areas": null,
            "grid_template_columns": null,
            "grid_template_rows": null,
            "height": null,
            "justify_content": null,
            "justify_items": null,
            "left": null,
            "margin": null,
            "max_height": null,
            "max_width": null,
            "min_height": null,
            "min_width": null,
            "object_fit": null,
            "object_position": null,
            "order": null,
            "overflow": null,
            "overflow_x": null,
            "overflow_y": null,
            "padding": null,
            "right": null,
            "top": null,
            "visibility": null,
            "width": null
          }
        },
        "3e41ccdc2b6547deafe8b3b524f7979b": {
          "model_module": "@jupyter-widgets/controls",
          "model_module_version": "1.5.0",
          "model_name": "DescriptionStyleModel",
          "state": {
            "_model_module": "@jupyter-widgets/controls",
            "_model_module_version": "1.5.0",
            "_model_name": "DescriptionStyleModel",
            "_view_count": null,
            "_view_module": "@jupyter-widgets/base",
            "_view_module_version": "1.2.0",
            "_view_name": "StyleView",
            "description_width": ""
          }
        },
        "4551335ae36b4fe69b4144f2952dbf44": {
          "model_module": "@jupyter-widgets/controls",
          "model_module_version": "1.5.0",
          "model_name": "DescriptionStyleModel",
          "state": {
            "_model_module": "@jupyter-widgets/controls",
            "_model_module_version": "1.5.0",
            "_model_name": "DescriptionStyleModel",
            "_view_count": null,
            "_view_module": "@jupyter-widgets/base",
            "_view_module_version": "1.2.0",
            "_view_name": "StyleView",
            "description_width": ""
          }
        },
        "4e66b4b7b22d4a1ca59c04424016fc36": {
          "model_module": "@jupyter-widgets/base",
          "model_module_version": "1.2.0",
          "model_name": "LayoutModel",
          "state": {
            "_model_module": "@jupyter-widgets/base",
            "_model_module_version": "1.2.0",
            "_model_name": "LayoutModel",
            "_view_count": null,
            "_view_module": "@jupyter-widgets/base",
            "_view_module_version": "1.2.0",
            "_view_name": "LayoutView",
            "align_content": null,
            "align_items": null,
            "align_self": null,
            "border": null,
            "bottom": null,
            "display": null,
            "flex": null,
            "flex_flow": null,
            "grid_area": null,
            "grid_auto_columns": null,
            "grid_auto_flow": null,
            "grid_auto_rows": null,
            "grid_column": null,
            "grid_gap": null,
            "grid_row": null,
            "grid_template_areas": null,
            "grid_template_columns": null,
            "grid_template_rows": null,
            "height": null,
            "justify_content": null,
            "justify_items": null,
            "left": null,
            "margin": null,
            "max_height": null,
            "max_width": null,
            "min_height": null,
            "min_width": null,
            "object_fit": null,
            "object_position": null,
            "order": null,
            "overflow": null,
            "overflow_x": null,
            "overflow_y": null,
            "padding": null,
            "right": null,
            "top": null,
            "visibility": null,
            "width": null
          }
        },
        "517e6aeca46945d5b1272e9f802ef615": {
          "model_module": "@jupyter-widgets/controls",
          "model_module_version": "1.5.0",
          "model_name": "DescriptionStyleModel",
          "state": {
            "_model_module": "@jupyter-widgets/controls",
            "_model_module_version": "1.5.0",
            "_model_name": "DescriptionStyleModel",
            "_view_count": null,
            "_view_module": "@jupyter-widgets/base",
            "_view_module_version": "1.2.0",
            "_view_name": "StyleView",
            "description_width": ""
          }
        },
        "69c34cbc4df64f0683e2d4866e7045b0": {
          "model_module": "@jupyter-widgets/controls",
          "model_module_version": "1.5.0",
          "model_name": "ProgressStyleModel",
          "state": {
            "_model_module": "@jupyter-widgets/controls",
            "_model_module_version": "1.5.0",
            "_model_name": "ProgressStyleModel",
            "_view_count": null,
            "_view_module": "@jupyter-widgets/base",
            "_view_module_version": "1.2.0",
            "_view_name": "StyleView",
            "bar_color": null,
            "description_width": ""
          }
        },
        "6bb1f16329a14d918abcc39995d65993": {
          "model_module": "@jupyter-widgets/controls",
          "model_module_version": "1.5.0",
          "model_name": "ProgressStyleModel",
          "state": {
            "_model_module": "@jupyter-widgets/controls",
            "_model_module_version": "1.5.0",
            "_model_name": "ProgressStyleModel",
            "_view_count": null,
            "_view_module": "@jupyter-widgets/base",
            "_view_module_version": "1.2.0",
            "_view_name": "StyleView",
            "bar_color": null,
            "description_width": ""
          }
        },
        "6e60634134c04119919ef66355a00b52": {
          "model_module": "@jupyter-widgets/controls",
          "model_module_version": "1.5.0",
          "model_name": "HTMLModel",
          "state": {
            "_dom_classes": [],
            "_model_module": "@jupyter-widgets/controls",
            "_model_module_version": "1.5.0",
            "_model_name": "HTMLModel",
            "_view_count": null,
            "_view_module": "@jupyter-widgets/controls",
            "_view_module_version": "1.5.0",
            "_view_name": "HTMLView",
            "description": "",
            "description_tooltip": null,
            "layout": "IPY_MODEL_27b91ed1a9434dd2abf73255137379e8",
            "placeholder": "​",
            "style": "IPY_MODEL_4551335ae36b4fe69b4144f2952dbf44",
            "value": " 100/100 [02:04&lt;00:00,  1.14s/it]"
          }
        },
        "6f91b00904a347778e4f4ea1ff4cae65": {
          "model_module": "@jupyter-widgets/base",
          "model_module_version": "1.2.0",
          "model_name": "LayoutModel",
          "state": {
            "_model_module": "@jupyter-widgets/base",
            "_model_module_version": "1.2.0",
            "_model_name": "LayoutModel",
            "_view_count": null,
            "_view_module": "@jupyter-widgets/base",
            "_view_module_version": "1.2.0",
            "_view_name": "LayoutView",
            "align_content": null,
            "align_items": null,
            "align_self": null,
            "border": null,
            "bottom": null,
            "display": null,
            "flex": null,
            "flex_flow": null,
            "grid_area": null,
            "grid_auto_columns": null,
            "grid_auto_flow": null,
            "grid_auto_rows": null,
            "grid_column": null,
            "grid_gap": null,
            "grid_row": null,
            "grid_template_areas": null,
            "grid_template_columns": null,
            "grid_template_rows": null,
            "height": null,
            "justify_content": null,
            "justify_items": null,
            "left": null,
            "margin": null,
            "max_height": null,
            "max_width": null,
            "min_height": null,
            "min_width": null,
            "object_fit": null,
            "object_position": null,
            "order": null,
            "overflow": null,
            "overflow_x": null,
            "overflow_y": null,
            "padding": null,
            "right": null,
            "top": null,
            "visibility": null,
            "width": null
          }
        },
        "72550e3bf8624effbd73065d8627369e": {
          "model_module": "@jupyter-widgets/controls",
          "model_module_version": "1.5.0",
          "model_name": "FloatProgressModel",
          "state": {
            "_dom_classes": [],
            "_model_module": "@jupyter-widgets/controls",
            "_model_module_version": "1.5.0",
            "_model_name": "FloatProgressModel",
            "_view_count": null,
            "_view_module": "@jupyter-widgets/controls",
            "_view_module_version": "1.5.0",
            "_view_name": "ProgressView",
            "bar_style": "success",
            "description": "",
            "description_tooltip": null,
            "layout": "IPY_MODEL_1353b26014824374bd34de6571e61802",
            "max": 100,
            "min": 0,
            "orientation": "horizontal",
            "style": "IPY_MODEL_69c34cbc4df64f0683e2d4866e7045b0",
            "value": 100
          }
        },
        "73f00d264373421f82804aad2d5086c9": {
          "model_module": "@jupyter-widgets/base",
          "model_module_version": "1.2.0",
          "model_name": "LayoutModel",
          "state": {
            "_model_module": "@jupyter-widgets/base",
            "_model_module_version": "1.2.0",
            "_model_name": "LayoutModel",
            "_view_count": null,
            "_view_module": "@jupyter-widgets/base",
            "_view_module_version": "1.2.0",
            "_view_name": "LayoutView",
            "align_content": null,
            "align_items": null,
            "align_self": null,
            "border": null,
            "bottom": null,
            "display": null,
            "flex": null,
            "flex_flow": null,
            "grid_area": null,
            "grid_auto_columns": null,
            "grid_auto_flow": null,
            "grid_auto_rows": null,
            "grid_column": null,
            "grid_gap": null,
            "grid_row": null,
            "grid_template_areas": null,
            "grid_template_columns": null,
            "grid_template_rows": null,
            "height": null,
            "justify_content": null,
            "justify_items": null,
            "left": null,
            "margin": null,
            "max_height": null,
            "max_width": null,
            "min_height": null,
            "min_width": null,
            "object_fit": null,
            "object_position": null,
            "order": null,
            "overflow": null,
            "overflow_x": null,
            "overflow_y": null,
            "padding": null,
            "right": null,
            "top": null,
            "visibility": null,
            "width": null
          }
        },
        "74465af67be849fbb19f6f8c8a55b949": {
          "model_module": "@jupyter-widgets/controls",
          "model_module_version": "1.5.0",
          "model_name": "HBoxModel",
          "state": {
            "_dom_classes": [],
            "_model_module": "@jupyter-widgets/controls",
            "_model_module_version": "1.5.0",
            "_model_name": "HBoxModel",
            "_view_count": null,
            "_view_module": "@jupyter-widgets/controls",
            "_view_module_version": "1.5.0",
            "_view_name": "HBoxView",
            "box_style": "",
            "children": [
              "IPY_MODEL_e94aec1b89164ddfae4836522967c00b",
              "IPY_MODEL_72550e3bf8624effbd73065d8627369e",
              "IPY_MODEL_9a22d374fa7a454b9af4aa13c5ff1e5c"
            ],
            "layout": "IPY_MODEL_4e66b4b7b22d4a1ca59c04424016fc36"
          }
        },
        "765cd1cbe3e1446c97fbd94bb28e00cc": {
          "model_module": "@jupyter-widgets/controls",
          "model_module_version": "1.5.0",
          "model_name": "FloatProgressModel",
          "state": {
            "_dom_classes": [],
            "_model_module": "@jupyter-widgets/controls",
            "_model_module_version": "1.5.0",
            "_model_name": "FloatProgressModel",
            "_view_count": null,
            "_view_module": "@jupyter-widgets/controls",
            "_view_module_version": "1.5.0",
            "_view_name": "ProgressView",
            "bar_style": "success",
            "description": "",
            "description_tooltip": null,
            "layout": "IPY_MODEL_0bfc3f942bd1423f8a3a1e39c9ed21c8",
            "max": 100,
            "min": 0,
            "orientation": "horizontal",
            "style": "IPY_MODEL_2e8643cb55404d0d8cf996b8131c78c4",
            "value": 100
          }
        },
        "78106907ef23476f9abe19a487526877": {
          "model_module": "@jupyter-widgets/controls",
          "model_module_version": "1.5.0",
          "model_name": "DescriptionStyleModel",
          "state": {
            "_model_module": "@jupyter-widgets/controls",
            "_model_module_version": "1.5.0",
            "_model_name": "DescriptionStyleModel",
            "_view_count": null,
            "_view_module": "@jupyter-widgets/base",
            "_view_module_version": "1.2.0",
            "_view_name": "StyleView",
            "description_width": ""
          }
        },
        "83f1b46636b04d50ad6f4c5466331ae2": {
          "model_module": "@jupyter-widgets/controls",
          "model_module_version": "1.5.0",
          "model_name": "HBoxModel",
          "state": {
            "_dom_classes": [],
            "_model_module": "@jupyter-widgets/controls",
            "_model_module_version": "1.5.0",
            "_model_name": "HBoxModel",
            "_view_count": null,
            "_view_module": "@jupyter-widgets/controls",
            "_view_module_version": "1.5.0",
            "_view_name": "HBoxView",
            "box_style": "",
            "children": [
              "IPY_MODEL_1c3fe7773747453bb18df88c9196f165",
              "IPY_MODEL_d2dfefb1d155486a870a28e4dc231bcc",
              "IPY_MODEL_b53df8a358f4468aafc38f4bc2ecbad9"
            ],
            "layout": "IPY_MODEL_d4321148a468498fa06ee3c1ed5c262d"
          }
        },
        "9a22d374fa7a454b9af4aa13c5ff1e5c": {
          "model_module": "@jupyter-widgets/controls",
          "model_module_version": "1.5.0",
          "model_name": "HTMLModel",
          "state": {
            "_dom_classes": [],
            "_model_module": "@jupyter-widgets/controls",
            "_model_module_version": "1.5.0",
            "_model_name": "HTMLModel",
            "_view_count": null,
            "_view_module": "@jupyter-widgets/controls",
            "_view_module_version": "1.5.0",
            "_view_name": "HTMLView",
            "description": "",
            "description_tooltip": null,
            "layout": "IPY_MODEL_6f91b00904a347778e4f4ea1ff4cae65",
            "placeholder": "​",
            "style": "IPY_MODEL_0a3c13f5536445869c476442ef3c16f5",
            "value": " 100/100 [01:20&lt;00:00,  1.34it/s]"
          }
        },
        "a96dd105023940ab911e3f5c18c66c97": {
          "model_module": "@jupyter-widgets/base",
          "model_module_version": "1.2.0",
          "model_name": "LayoutModel",
          "state": {
            "_model_module": "@jupyter-widgets/base",
            "_model_module_version": "1.2.0",
            "_model_name": "LayoutModel",
            "_view_count": null,
            "_view_module": "@jupyter-widgets/base",
            "_view_module_version": "1.2.0",
            "_view_name": "LayoutView",
            "align_content": null,
            "align_items": null,
            "align_self": null,
            "border": null,
            "bottom": null,
            "display": null,
            "flex": null,
            "flex_flow": null,
            "grid_area": null,
            "grid_auto_columns": null,
            "grid_auto_flow": null,
            "grid_auto_rows": null,
            "grid_column": null,
            "grid_gap": null,
            "grid_row": null,
            "grid_template_areas": null,
            "grid_template_columns": null,
            "grid_template_rows": null,
            "height": null,
            "justify_content": null,
            "justify_items": null,
            "left": null,
            "margin": null,
            "max_height": null,
            "max_width": null,
            "min_height": null,
            "min_width": null,
            "object_fit": null,
            "object_position": null,
            "order": null,
            "overflow": null,
            "overflow_x": null,
            "overflow_y": null,
            "padding": null,
            "right": null,
            "top": null,
            "visibility": null,
            "width": null
          }
        },
        "b5012a0f81b94aa68f0261fe5a226f51": {
          "model_module": "@jupyter-widgets/controls",
          "model_module_version": "1.5.0",
          "model_name": "HTMLModel",
          "state": {
            "_dom_classes": [],
            "_model_module": "@jupyter-widgets/controls",
            "_model_module_version": "1.5.0",
            "_model_name": "HTMLModel",
            "_view_count": null,
            "_view_module": "@jupyter-widgets/controls",
            "_view_module_version": "1.5.0",
            "_view_name": "HTMLView",
            "description": "",
            "description_tooltip": null,
            "layout": "IPY_MODEL_bc179a21c5bb4a2eabdf02e39e11c3ed",
            "placeholder": "​",
            "style": "IPY_MODEL_ba64378106af44808a0b61dd8a6c21d6",
            "value": "Best trial: 44. Best value: 0.0177293: 100%"
          }
        },
        "b53df8a358f4468aafc38f4bc2ecbad9": {
          "model_module": "@jupyter-widgets/controls",
          "model_module_version": "1.5.0",
          "model_name": "HTMLModel",
          "state": {
            "_dom_classes": [],
            "_model_module": "@jupyter-widgets/controls",
            "_model_module_version": "1.5.0",
            "_model_name": "HTMLModel",
            "_view_count": null,
            "_view_module": "@jupyter-widgets/controls",
            "_view_module_version": "1.5.0",
            "_view_name": "HTMLView",
            "description": "",
            "description_tooltip": null,
            "layout": "IPY_MODEL_314e684560bb4f418c39a6cb3ba4b42a",
            "placeholder": "​",
            "style": "IPY_MODEL_78106907ef23476f9abe19a487526877",
            "value": " 100/100 [00:41&lt;00:00,  1.33it/s]"
          }
        },
        "ba64378106af44808a0b61dd8a6c21d6": {
          "model_module": "@jupyter-widgets/controls",
          "model_module_version": "1.5.0",
          "model_name": "DescriptionStyleModel",
          "state": {
            "_model_module": "@jupyter-widgets/controls",
            "_model_module_version": "1.5.0",
            "_model_name": "DescriptionStyleModel",
            "_view_count": null,
            "_view_module": "@jupyter-widgets/base",
            "_view_module_version": "1.2.0",
            "_view_name": "StyleView",
            "description_width": ""
          }
        },
        "bc179a21c5bb4a2eabdf02e39e11c3ed": {
          "model_module": "@jupyter-widgets/base",
          "model_module_version": "1.2.0",
          "model_name": "LayoutModel",
          "state": {
            "_model_module": "@jupyter-widgets/base",
            "_model_module_version": "1.2.0",
            "_model_name": "LayoutModel",
            "_view_count": null,
            "_view_module": "@jupyter-widgets/base",
            "_view_module_version": "1.2.0",
            "_view_name": "LayoutView",
            "align_content": null,
            "align_items": null,
            "align_self": null,
            "border": null,
            "bottom": null,
            "display": null,
            "flex": null,
            "flex_flow": null,
            "grid_area": null,
            "grid_auto_columns": null,
            "grid_auto_flow": null,
            "grid_auto_rows": null,
            "grid_column": null,
            "grid_gap": null,
            "grid_row": null,
            "grid_template_areas": null,
            "grid_template_columns": null,
            "grid_template_rows": null,
            "height": null,
            "justify_content": null,
            "justify_items": null,
            "left": null,
            "margin": null,
            "max_height": null,
            "max_width": null,
            "min_height": null,
            "min_width": null,
            "object_fit": null,
            "object_position": null,
            "order": null,
            "overflow": null,
            "overflow_x": null,
            "overflow_y": null,
            "padding": null,
            "right": null,
            "top": null,
            "visibility": null,
            "width": null
          }
        },
        "c08f5c77501f453f810f7dc2a9313978": {
          "model_module": "@jupyter-widgets/controls",
          "model_module_version": "1.5.0",
          "model_name": "HBoxModel",
          "state": {
            "_dom_classes": [],
            "_model_module": "@jupyter-widgets/controls",
            "_model_module_version": "1.5.0",
            "_model_name": "HBoxModel",
            "_view_count": null,
            "_view_module": "@jupyter-widgets/controls",
            "_view_module_version": "1.5.0",
            "_view_name": "HBoxView",
            "box_style": "",
            "children": [
              "IPY_MODEL_ee137838dee949c6b27e055840192c68",
              "IPY_MODEL_f08e2ea4c70d4d7d8e8d60fab1621907",
              "IPY_MODEL_17bd2feda6a34232aa49e3676e7bca30"
            ],
            "layout": "IPY_MODEL_211cb420f35c436abbf4681341b61f0d"
          }
        },
        "cde7de1282be4d5ba682a19e8221b5cf": {
          "model_module": "@jupyter-widgets/base",
          "model_module_version": "1.2.0",
          "model_name": "LayoutModel",
          "state": {
            "_model_module": "@jupyter-widgets/base",
            "_model_module_version": "1.2.0",
            "_model_name": "LayoutModel",
            "_view_count": null,
            "_view_module": "@jupyter-widgets/base",
            "_view_module_version": "1.2.0",
            "_view_name": "LayoutView",
            "align_content": null,
            "align_items": null,
            "align_self": null,
            "border": null,
            "bottom": null,
            "display": null,
            "flex": null,
            "flex_flow": null,
            "grid_area": null,
            "grid_auto_columns": null,
            "grid_auto_flow": null,
            "grid_auto_rows": null,
            "grid_column": null,
            "grid_gap": null,
            "grid_row": null,
            "grid_template_areas": null,
            "grid_template_columns": null,
            "grid_template_rows": null,
            "height": null,
            "justify_content": null,
            "justify_items": null,
            "left": null,
            "margin": null,
            "max_height": null,
            "max_width": null,
            "min_height": null,
            "min_width": null,
            "object_fit": null,
            "object_position": null,
            "order": null,
            "overflow": null,
            "overflow_x": null,
            "overflow_y": null,
            "padding": null,
            "right": null,
            "top": null,
            "visibility": null,
            "width": null
          }
        },
        "d2dfefb1d155486a870a28e4dc231bcc": {
          "model_module": "@jupyter-widgets/controls",
          "model_module_version": "1.5.0",
          "model_name": "FloatProgressModel",
          "state": {
            "_dom_classes": [],
            "_model_module": "@jupyter-widgets/controls",
            "_model_module_version": "1.5.0",
            "_model_name": "FloatProgressModel",
            "_view_count": null,
            "_view_module": "@jupyter-widgets/controls",
            "_view_module_version": "1.5.0",
            "_view_name": "ProgressView",
            "bar_style": "success",
            "description": "",
            "description_tooltip": null,
            "layout": "IPY_MODEL_73f00d264373421f82804aad2d5086c9",
            "max": 100,
            "min": 0,
            "orientation": "horizontal",
            "style": "IPY_MODEL_6bb1f16329a14d918abcc39995d65993",
            "value": 100
          }
        },
        "d4321148a468498fa06ee3c1ed5c262d": {
          "model_module": "@jupyter-widgets/base",
          "model_module_version": "1.2.0",
          "model_name": "LayoutModel",
          "state": {
            "_model_module": "@jupyter-widgets/base",
            "_model_module_version": "1.2.0",
            "_model_name": "LayoutModel",
            "_view_count": null,
            "_view_module": "@jupyter-widgets/base",
            "_view_module_version": "1.2.0",
            "_view_name": "LayoutView",
            "align_content": null,
            "align_items": null,
            "align_self": null,
            "border": null,
            "bottom": null,
            "display": null,
            "flex": null,
            "flex_flow": null,
            "grid_area": null,
            "grid_auto_columns": null,
            "grid_auto_flow": null,
            "grid_auto_rows": null,
            "grid_column": null,
            "grid_gap": null,
            "grid_row": null,
            "grid_template_areas": null,
            "grid_template_columns": null,
            "grid_template_rows": null,
            "height": null,
            "justify_content": null,
            "justify_items": null,
            "left": null,
            "margin": null,
            "max_height": null,
            "max_width": null,
            "min_height": null,
            "min_width": null,
            "object_fit": null,
            "object_position": null,
            "order": null,
            "overflow": null,
            "overflow_x": null,
            "overflow_y": null,
            "padding": null,
            "right": null,
            "top": null,
            "visibility": null,
            "width": null
          }
        },
        "da53c7971e434fadb9aff2a5ab9baf85": {
          "model_module": "@jupyter-widgets/base",
          "model_module_version": "1.2.0",
          "model_name": "LayoutModel",
          "state": {
            "_model_module": "@jupyter-widgets/base",
            "_model_module_version": "1.2.0",
            "_model_name": "LayoutModel",
            "_view_count": null,
            "_view_module": "@jupyter-widgets/base",
            "_view_module_version": "1.2.0",
            "_view_name": "LayoutView",
            "align_content": null,
            "align_items": null,
            "align_self": null,
            "border": null,
            "bottom": null,
            "display": null,
            "flex": null,
            "flex_flow": null,
            "grid_area": null,
            "grid_auto_columns": null,
            "grid_auto_flow": null,
            "grid_auto_rows": null,
            "grid_column": null,
            "grid_gap": null,
            "grid_row": null,
            "grid_template_areas": null,
            "grid_template_columns": null,
            "grid_template_rows": null,
            "height": null,
            "justify_content": null,
            "justify_items": null,
            "left": null,
            "margin": null,
            "max_height": null,
            "max_width": null,
            "min_height": null,
            "min_width": null,
            "object_fit": null,
            "object_position": null,
            "order": null,
            "overflow": null,
            "overflow_x": null,
            "overflow_y": null,
            "padding": null,
            "right": null,
            "top": null,
            "visibility": null,
            "width": null
          }
        },
        "e24be0b176eb442e949c029cb808656d": {
          "model_module": "@jupyter-widgets/base",
          "model_module_version": "1.2.0",
          "model_name": "LayoutModel",
          "state": {
            "_model_module": "@jupyter-widgets/base",
            "_model_module_version": "1.2.0",
            "_model_name": "LayoutModel",
            "_view_count": null,
            "_view_module": "@jupyter-widgets/base",
            "_view_module_version": "1.2.0",
            "_view_name": "LayoutView",
            "align_content": null,
            "align_items": null,
            "align_self": null,
            "border": null,
            "bottom": null,
            "display": null,
            "flex": null,
            "flex_flow": null,
            "grid_area": null,
            "grid_auto_columns": null,
            "grid_auto_flow": null,
            "grid_auto_rows": null,
            "grid_column": null,
            "grid_gap": null,
            "grid_row": null,
            "grid_template_areas": null,
            "grid_template_columns": null,
            "grid_template_rows": null,
            "height": null,
            "justify_content": null,
            "justify_items": null,
            "left": null,
            "margin": null,
            "max_height": null,
            "max_width": null,
            "min_height": null,
            "min_width": null,
            "object_fit": null,
            "object_position": null,
            "order": null,
            "overflow": null,
            "overflow_x": null,
            "overflow_y": null,
            "padding": null,
            "right": null,
            "top": null,
            "visibility": null,
            "width": null
          }
        },
        "e94aec1b89164ddfae4836522967c00b": {
          "model_module": "@jupyter-widgets/controls",
          "model_module_version": "1.5.0",
          "model_name": "HTMLModel",
          "state": {
            "_dom_classes": [],
            "_model_module": "@jupyter-widgets/controls",
            "_model_module_version": "1.5.0",
            "_model_name": "HTMLModel",
            "_view_count": null,
            "_view_module": "@jupyter-widgets/controls",
            "_view_module_version": "1.5.0",
            "_view_name": "HTMLView",
            "description": "",
            "description_tooltip": null,
            "layout": "IPY_MODEL_a96dd105023940ab911e3f5c18c66c97",
            "placeholder": "​",
            "style": "IPY_MODEL_517e6aeca46945d5b1272e9f802ef615",
            "value": "Best trial: 81. Best value: 0.546215: 100%"
          }
        },
        "ee137838dee949c6b27e055840192c68": {
          "model_module": "@jupyter-widgets/controls",
          "model_module_version": "1.5.0",
          "model_name": "HTMLModel",
          "state": {
            "_dom_classes": [],
            "_model_module": "@jupyter-widgets/controls",
            "_model_module_version": "1.5.0",
            "_model_name": "HTMLModel",
            "_view_count": null,
            "_view_module": "@jupyter-widgets/controls",
            "_view_module_version": "1.5.0",
            "_view_name": "HTMLView",
            "description": "",
            "description_tooltip": null,
            "layout": "IPY_MODEL_cde7de1282be4d5ba682a19e8221b5cf",
            "placeholder": "​",
            "style": "IPY_MODEL_3e41ccdc2b6547deafe8b3b524f7979b",
            "value": ""
          }
        },
        "ee95c8c842b147df8b9213018e4f018a": {
          "model_module": "@jupyter-widgets/base",
          "model_module_version": "1.2.0",
          "model_name": "LayoutModel",
          "state": {
            "_model_module": "@jupyter-widgets/base",
            "_model_module_version": "1.2.0",
            "_model_name": "LayoutModel",
            "_view_count": null,
            "_view_module": "@jupyter-widgets/base",
            "_view_module_version": "1.2.0",
            "_view_name": "LayoutView",
            "align_content": null,
            "align_items": null,
            "align_self": null,
            "border": null,
            "bottom": null,
            "display": null,
            "flex": null,
            "flex_flow": null,
            "grid_area": null,
            "grid_auto_columns": null,
            "grid_auto_flow": null,
            "grid_auto_rows": null,
            "grid_column": null,
            "grid_gap": null,
            "grid_row": null,
            "grid_template_areas": null,
            "grid_template_columns": null,
            "grid_template_rows": null,
            "height": null,
            "justify_content": null,
            "justify_items": null,
            "left": null,
            "margin": null,
            "max_height": null,
            "max_width": null,
            "min_height": null,
            "min_width": null,
            "object_fit": null,
            "object_position": null,
            "order": null,
            "overflow": null,
            "overflow_x": null,
            "overflow_y": null,
            "padding": null,
            "right": null,
            "top": null,
            "visibility": null,
            "width": null
          }
        },
        "f08e2ea4c70d4d7d8e8d60fab1621907": {
          "model_module": "@jupyter-widgets/controls",
          "model_module_version": "1.5.0",
          "model_name": "FloatProgressModel",
          "state": {
            "_dom_classes": [],
            "_model_module": "@jupyter-widgets/controls",
            "_model_module_version": "1.5.0",
            "_model_name": "FloatProgressModel",
            "_view_count": null,
            "_view_module": "@jupyter-widgets/controls",
            "_view_module_version": "1.5.0",
            "_view_name": "ProgressView",
            "bar_style": "success",
            "description": "",
            "description_tooltip": null,
            "layout": "IPY_MODEL_da53c7971e434fadb9aff2a5ab9baf85",
            "max": 362,
            "min": 0,
            "orientation": "horizontal",
            "style": "IPY_MODEL_128911cd3fcd47dda8e1c7c05ed7dde4",
            "value": 362
          }
        }
      }
    }
  },
  "nbformat": 4,
  "nbformat_minor": 0
}
