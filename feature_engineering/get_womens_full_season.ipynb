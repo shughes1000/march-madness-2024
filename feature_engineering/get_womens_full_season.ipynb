{
 "cells": [
  {
   "cell_type": "markdown",
   "metadata": {},
   "source": [
    "# Women's Full Season"
   ]
  },
  {
   "cell_type": "markdown",
   "metadata": {},
   "source": [
    "This notebook grabs full seasons of women's games along with calculating full season ratings"
   ]
  },
  {
   "cell_type": "code",
   "execution_count": 1,
   "metadata": {},
   "outputs": [],
   "source": [
    "import pandas as pd\n",
    "import numpy as np\n",
    "from sklearn.model_selection import GroupKFold\n",
    "from sklearn.metrics import log_loss\n",
    "from sklearn.linear_model import LogisticRegression\n",
    "import warnings\n",
    "import optuna\n",
    "from sklearn.preprocessing import MinMaxScaler\n",
    "optuna.logging.set_verbosity(optuna.logging.WARNING)\n",
    "\n",
    "def get_rankings(season):\n",
    "    \"\"\"\n",
    "    Get full year (including postseason) rankings\n",
    "    \"\"\"\n",
    "    print(f'season: {season}')\n",
    "    df = pd.read_csv(fr'..\\data\\unprocessed\\womens_sports_reference\\womens_full_year_sports_reference_{season}.csv')\n",
    "    X = (\n",
    "        pd.get_dummies(df['Team']).astype('int8') -\n",
    "        pd.get_dummies(df['Opponent']).astype('int8')\n",
    "    )\n",
    "\n",
    "    X['Home Field Advantage'] = df['Location'].copy()\n",
    "\n",
    "    def get_gkf_data(X, y, w, groups, cv=3):\n",
    "        \"\"\"\n",
    "        Converts training data to list of folds\n",
    "        \"\"\"\n",
    "        np.random.seed(22)\n",
    "        gkf = GroupKFold(n_splits=cv)\n",
    "\n",
    "        data = []\n",
    "        for train_index, test_index in gkf.split(X, y, groups=groups):\n",
    "            X_train = X[train_index]\n",
    "            X_test = X[test_index]\n",
    "\n",
    "            y_train = y[train_index]\n",
    "            y_test = y[test_index]\n",
    "\n",
    "            # sample weights\n",
    "            w_train = w[train_index]\n",
    "\n",
    "            data.append((X_train, X_test, y_train, y_test, w_train))\n",
    "\n",
    "        return data\n",
    "\n",
    "    cv_data = get_gkf_data(X.to_numpy(), df['Result'].to_numpy(), df[['Adjusted Score Differential']].to_numpy(), df['Date'].to_numpy())\n",
    "\n",
    "    def objective(trial, cv_data=cv_data):\n",
    "        # model tuning\n",
    "        C = trial.suggest_float('C', 0.1, 10, log=True)\n",
    "        mod = LogisticRegression(penalty='l2', C=C, fit_intercept=False)\n",
    "        minimum = trial.suggest_float('minimum', 0.1, 1.0, step=0.1)\n",
    "        maximum = trial.suggest_float('maximum', 1.0, 8.0, step=0.5)\n",
    "        if minimum >= maximum:\n",
    "            maximum = minimum + 0.0001\n",
    "\n",
    "        # cross validation\n",
    "        y_actuals = []\n",
    "        y_preds = []\n",
    "        for X_train, X_test, y_train, y_test, w_train in cv_data:\n",
    "            y_actuals.append(y_test)\n",
    "\n",
    "            weights = MinMaxScaler(feature_range=(minimum, maximum)).fit_transform(w_train).reshape(-1)\n",
    "\n",
    "            with warnings.catch_warnings():\n",
    "                warnings.filterwarnings('ignore')  # prevent convergence warnings\n",
    "                mod.fit(X_train, y_train, sample_weight=weights)\n",
    "\n",
    "            y_preds.append(mod.predict_proba(X_test)[:, 1])\n",
    "\n",
    "        return log_loss(np.hstack(y_actuals), np.hstack(y_preds))\n",
    "\n",
    "    study = optuna.create_study(direction='minimize', sampler=optuna.samplers.TPESampler(seed=22))\n",
    "    study.optimize(objective, n_trials=100, show_progress_bar=True)\n",
    "\n",
    "    minimum = study.best_params['minimum']\n",
    "    maximum = study.best_params['maximum']\n",
    "\n",
    "    if minimum >= maximum:\n",
    "            maximum = minimum + 0.0001\n",
    "\n",
    "    weight = MinMaxScaler(\n",
    "        feature_range=(minimum, maximum)\n",
    "    ).fit_transform(df[['Adjusted Score Differential']]).reshape(-1)\n",
    "\n",
    "    mod = LogisticRegression(penalty='l2', C=study.best_params['C'], fit_intercept=False)\n",
    "\n",
    "    mod.fit(X, df['Result'], sample_weight=weight)\n",
    "\n",
    "    df_ratings = pd.DataFrame(\n",
    "        {\n",
    "            'Team': X.columns,\n",
    "            'Rating': mod.coef_[0]\n",
    "        }\n",
    "    ).sort_values(by=['Rating'], ascending=False, ignore_index=True)\n",
    "\n",
    "    df_ratings_display = df_ratings.loc[df_ratings['Team'] != 'Home Field Advantage', :].reset_index(drop=True)\n",
    "    df_ratings_display.index += 1\n",
    "\n",
    "    df_ratings_display.insert(0, 'Season', season)\n",
    "\n",
    "    return df_ratings_display"
   ]
  },
  {
   "cell_type": "code",
   "execution_count": 2,
   "metadata": {},
   "outputs": [
    {
     "name": "stdout",
     "output_type": "stream",
     "text": [
      "season: 2008\n"
     ]
    },
    {
     "data": {
      "application/vnd.jupyter.widget-view+json": {
       "model_id": "f4b545816bfd440fa9974f94b6d07b01",
       "version_major": 2,
       "version_minor": 0
      },
      "text/plain": [
       "  0%|          | 0/100 [00:00<?, ?it/s]"
      ]
     },
     "metadata": {},
     "output_type": "display_data"
    },
    {
     "name": "stdout",
     "output_type": "stream",
     "text": [
      "season: 2009\n"
     ]
    },
    {
     "data": {
      "application/vnd.jupyter.widget-view+json": {
       "model_id": "8def5a87428a4740a0b49f5104a7bab9",
       "version_major": 2,
       "version_minor": 0
      },
      "text/plain": [
       "  0%|          | 0/100 [00:00<?, ?it/s]"
      ]
     },
     "metadata": {},
     "output_type": "display_data"
    },
    {
     "name": "stdout",
     "output_type": "stream",
     "text": [
      "season: 2010\n"
     ]
    },
    {
     "data": {
      "application/vnd.jupyter.widget-view+json": {
       "model_id": "f61f393e0e9a415797baad0c4f549501",
       "version_major": 2,
       "version_minor": 0
      },
      "text/plain": [
       "  0%|          | 0/100 [00:00<?, ?it/s]"
      ]
     },
     "metadata": {},
     "output_type": "display_data"
    },
    {
     "name": "stdout",
     "output_type": "stream",
     "text": [
      "season: 2011\n"
     ]
    },
    {
     "data": {
      "application/vnd.jupyter.widget-view+json": {
       "model_id": "be027f45b957438e9d444d68b427ecc6",
       "version_major": 2,
       "version_minor": 0
      },
      "text/plain": [
       "  0%|          | 0/100 [00:00<?, ?it/s]"
      ]
     },
     "metadata": {},
     "output_type": "display_data"
    },
    {
     "name": "stdout",
     "output_type": "stream",
     "text": [
      "season: 2012\n"
     ]
    },
    {
     "data": {
      "application/vnd.jupyter.widget-view+json": {
       "model_id": "94effad293e040709d7b5abb55ad036b",
       "version_major": 2,
       "version_minor": 0
      },
      "text/plain": [
       "  0%|          | 0/100 [00:00<?, ?it/s]"
      ]
     },
     "metadata": {},
     "output_type": "display_data"
    },
    {
     "name": "stdout",
     "output_type": "stream",
     "text": [
      "season: 2013\n"
     ]
    },
    {
     "data": {
      "application/vnd.jupyter.widget-view+json": {
       "model_id": "7ac009da29844e9581011e300223a980",
       "version_major": 2,
       "version_minor": 0
      },
      "text/plain": [
       "  0%|          | 0/100 [00:00<?, ?it/s]"
      ]
     },
     "metadata": {},
     "output_type": "display_data"
    },
    {
     "name": "stdout",
     "output_type": "stream",
     "text": [
      "season: 2014\n"
     ]
    },
    {
     "data": {
      "application/vnd.jupyter.widget-view+json": {
       "model_id": "b385246be4f240209c073a3825188150",
       "version_major": 2,
       "version_minor": 0
      },
      "text/plain": [
       "  0%|          | 0/100 [00:00<?, ?it/s]"
      ]
     },
     "metadata": {},
     "output_type": "display_data"
    },
    {
     "name": "stdout",
     "output_type": "stream",
     "text": [
      "season: 2015\n"
     ]
    },
    {
     "data": {
      "application/vnd.jupyter.widget-view+json": {
       "model_id": "415b9f6dcf954e65aaaadc325623e89c",
       "version_major": 2,
       "version_minor": 0
      },
      "text/plain": [
       "  0%|          | 0/100 [00:00<?, ?it/s]"
      ]
     },
     "metadata": {},
     "output_type": "display_data"
    },
    {
     "name": "stdout",
     "output_type": "stream",
     "text": [
      "season: 2016\n"
     ]
    },
    {
     "data": {
      "application/vnd.jupyter.widget-view+json": {
       "model_id": "2aed719a090642fd9553facd2c8bc37c",
       "version_major": 2,
       "version_minor": 0
      },
      "text/plain": [
       "  0%|          | 0/100 [00:00<?, ?it/s]"
      ]
     },
     "metadata": {},
     "output_type": "display_data"
    },
    {
     "name": "stdout",
     "output_type": "stream",
     "text": [
      "season: 2017\n"
     ]
    },
    {
     "data": {
      "application/vnd.jupyter.widget-view+json": {
       "model_id": "489a9bb8d7d540dc8943e334ed0c818c",
       "version_major": 2,
       "version_minor": 0
      },
      "text/plain": [
       "  0%|          | 0/100 [00:00<?, ?it/s]"
      ]
     },
     "metadata": {},
     "output_type": "display_data"
    },
    {
     "name": "stdout",
     "output_type": "stream",
     "text": [
      "season: 2018\n"
     ]
    },
    {
     "data": {
      "application/vnd.jupyter.widget-view+json": {
       "model_id": "f6e1adf335624c6f83bfb85eb58424d4",
       "version_major": 2,
       "version_minor": 0
      },
      "text/plain": [
       "  0%|          | 0/100 [00:00<?, ?it/s]"
      ]
     },
     "metadata": {},
     "output_type": "display_data"
    },
    {
     "name": "stdout",
     "output_type": "stream",
     "text": [
      "season: 2019\n"
     ]
    },
    {
     "data": {
      "application/vnd.jupyter.widget-view+json": {
       "model_id": "656f0d15ace94fb2855c849641cbb225",
       "version_major": 2,
       "version_minor": 0
      },
      "text/plain": [
       "  0%|          | 0/100 [00:00<?, ?it/s]"
      ]
     },
     "metadata": {},
     "output_type": "display_data"
    },
    {
     "name": "stdout",
     "output_type": "stream",
     "text": [
      "season: 2020\n"
     ]
    },
    {
     "data": {
      "application/vnd.jupyter.widget-view+json": {
       "model_id": "fb86228608a84780b745b87149dd052c",
       "version_major": 2,
       "version_minor": 0
      },
      "text/plain": [
       "  0%|          | 0/100 [00:00<?, ?it/s]"
      ]
     },
     "metadata": {},
     "output_type": "display_data"
    },
    {
     "name": "stdout",
     "output_type": "stream",
     "text": [
      "season: 2021\n"
     ]
    },
    {
     "data": {
      "application/vnd.jupyter.widget-view+json": {
       "model_id": "ea9f597b041645b88cd75953bc13ae57",
       "version_major": 2,
       "version_minor": 0
      },
      "text/plain": [
       "  0%|          | 0/100 [00:00<?, ?it/s]"
      ]
     },
     "metadata": {},
     "output_type": "display_data"
    },
    {
     "name": "stdout",
     "output_type": "stream",
     "text": [
      "season: 2022\n"
     ]
    },
    {
     "data": {
      "application/vnd.jupyter.widget-view+json": {
       "model_id": "7e98e4db78f44b2ebb865603ec9ef040",
       "version_major": 2,
       "version_minor": 0
      },
      "text/plain": [
       "  0%|          | 0/100 [00:00<?, ?it/s]"
      ]
     },
     "metadata": {},
     "output_type": "display_data"
    },
    {
     "name": "stdout",
     "output_type": "stream",
     "text": [
      "season: 2023\n"
     ]
    },
    {
     "data": {
      "application/vnd.jupyter.widget-view+json": {
       "model_id": "1edeab1b465a41ec8f6695416bfa2566",
       "version_major": 2,
       "version_minor": 0
      },
      "text/plain": [
       "  0%|          | 0/100 [00:00<?, ?it/s]"
      ]
     },
     "metadata": {},
     "output_type": "display_data"
    },
    {
     "data": {
      "text/html": [
       "<div>\n",
       "<style scoped>\n",
       "    .dataframe tbody tr th:only-of-type {\n",
       "        vertical-align: middle;\n",
       "    }\n",
       "\n",
       "    .dataframe tbody tr th {\n",
       "        vertical-align: top;\n",
       "    }\n",
       "\n",
       "    .dataframe thead th {\n",
       "        text-align: right;\n",
       "    }\n",
       "</style>\n",
       "<table border=\"1\" class=\"dataframe\">\n",
       "  <thead>\n",
       "    <tr style=\"text-align: right;\">\n",
       "      <th></th>\n",
       "      <th>Season</th>\n",
       "      <th>Team</th>\n",
       "      <th>Rating</th>\n",
       "    </tr>\n",
       "  </thead>\n",
       "  <tbody>\n",
       "    <tr>\n",
       "      <th>0</th>\n",
       "      <td>2008</td>\n",
       "      <td>Connecticut</td>\n",
       "      <td>5.437914</td>\n",
       "    </tr>\n",
       "    <tr>\n",
       "      <th>1</th>\n",
       "      <td>2008</td>\n",
       "      <td>Tennessee</td>\n",
       "      <td>5.221798</td>\n",
       "    </tr>\n",
       "    <tr>\n",
       "      <th>2</th>\n",
       "      <td>2008</td>\n",
       "      <td>Stanford</td>\n",
       "      <td>4.717653</td>\n",
       "    </tr>\n",
       "    <tr>\n",
       "      <th>3</th>\n",
       "      <td>2008</td>\n",
       "      <td>North Carolina</td>\n",
       "      <td>4.605777</td>\n",
       "    </tr>\n",
       "    <tr>\n",
       "      <th>4</th>\n",
       "      <td>2008</td>\n",
       "      <td>Maryland</td>\n",
       "      <td>4.193176</td>\n",
       "    </tr>\n",
       "    <tr>\n",
       "      <th>...</th>\n",
       "      <td>...</td>\n",
       "      <td>...</td>\n",
       "      <td>...</td>\n",
       "    </tr>\n",
       "    <tr>\n",
       "      <th>5512</th>\n",
       "      <td>2023</td>\n",
       "      <td>Texas Southern</td>\n",
       "      <td>-3.813642</td>\n",
       "    </tr>\n",
       "    <tr>\n",
       "      <th>5513</th>\n",
       "      <td>2023</td>\n",
       "      <td>Navy</td>\n",
       "      <td>-4.039280</td>\n",
       "    </tr>\n",
       "    <tr>\n",
       "      <th>5514</th>\n",
       "      <td>2023</td>\n",
       "      <td>Mississippi Valley State</td>\n",
       "      <td>-4.365660</td>\n",
       "    </tr>\n",
       "    <tr>\n",
       "      <th>5515</th>\n",
       "      <td>2023</td>\n",
       "      <td>Saint Peter's</td>\n",
       "      <td>-4.708909</td>\n",
       "    </tr>\n",
       "    <tr>\n",
       "      <th>5516</th>\n",
       "      <td>2023</td>\n",
       "      <td>Hartford Hawks</td>\n",
       "      <td>-5.555220</td>\n",
       "    </tr>\n",
       "  </tbody>\n",
       "</table>\n",
       "<p>5517 rows × 3 columns</p>\n",
       "</div>"
      ],
      "text/plain": [
       "      Season                      Team    Rating\n",
       "0       2008               Connecticut  5.437914\n",
       "1       2008                 Tennessee  5.221798\n",
       "2       2008                  Stanford  4.717653\n",
       "3       2008            North Carolina  4.605777\n",
       "4       2008                  Maryland  4.193176\n",
       "...      ...                       ...       ...\n",
       "5512    2023            Texas Southern -3.813642\n",
       "5513    2023                      Navy -4.039280\n",
       "5514    2023  Mississippi Valley State -4.365660\n",
       "5515    2023             Saint Peter's -4.708909\n",
       "5516    2023            Hartford Hawks -5.555220\n",
       "\n",
       "[5517 rows x 3 columns]"
      ]
     },
     "execution_count": 2,
     "metadata": {},
     "output_type": "execute_result"
    }
   ],
   "source": [
    "df = pd.concat([get_rankings(season) for season in range(2008, 2024)], ignore_index=True)\n",
    "\n",
    "df"
   ]
  },
  {
   "cell_type": "code",
   "execution_count": 4,
   "metadata": {},
   "outputs": [
    {
     "data": {
      "text/html": [
       "<div>\n",
       "<style scoped>\n",
       "    .dataframe tbody tr th:only-of-type {\n",
       "        vertical-align: middle;\n",
       "    }\n",
       "\n",
       "    .dataframe tbody tr th {\n",
       "        vertical-align: top;\n",
       "    }\n",
       "\n",
       "    .dataframe thead th {\n",
       "        text-align: right;\n",
       "    }\n",
       "</style>\n",
       "<table border=\"1\" class=\"dataframe\">\n",
       "  <thead>\n",
       "    <tr style=\"text-align: right;\">\n",
       "      <th></th>\n",
       "      <th>Season</th>\n",
       "      <th>Team</th>\n",
       "      <th>Past Year Rating</th>\n",
       "      <th>Past 4 Years Ratings</th>\n",
       "    </tr>\n",
       "  </thead>\n",
       "  <tbody>\n",
       "    <tr>\n",
       "      <th>0</th>\n",
       "      <td>2012</td>\n",
       "      <td>Connecticut</td>\n",
       "      <td>5.099069</td>\n",
       "      <td>5.576978</td>\n",
       "    </tr>\n",
       "    <tr>\n",
       "      <th>1</th>\n",
       "      <td>2012</td>\n",
       "      <td>Stanford</td>\n",
       "      <td>4.731230</td>\n",
       "      <td>4.639040</td>\n",
       "    </tr>\n",
       "    <tr>\n",
       "      <th>2</th>\n",
       "      <td>2012</td>\n",
       "      <td>Baylor</td>\n",
       "      <td>4.546418</td>\n",
       "      <td>3.658880</td>\n",
       "    </tr>\n",
       "    <tr>\n",
       "      <th>3</th>\n",
       "      <td>2012</td>\n",
       "      <td>Texas A&amp;M</td>\n",
       "      <td>4.457265</td>\n",
       "      <td>3.738744</td>\n",
       "    </tr>\n",
       "    <tr>\n",
       "      <th>4</th>\n",
       "      <td>2012</td>\n",
       "      <td>Tennessee</td>\n",
       "      <td>4.306993</td>\n",
       "      <td>4.172733</td>\n",
       "    </tr>\n",
       "    <tr>\n",
       "      <th>...</th>\n",
       "      <td>...</td>\n",
       "      <td>...</td>\n",
       "      <td>...</td>\n",
       "      <td>...</td>\n",
       "    </tr>\n",
       "    <tr>\n",
       "      <th>4531</th>\n",
       "      <td>2024</td>\n",
       "      <td>Texas Southern</td>\n",
       "      <td>-3.813642</td>\n",
       "      <td>-1.357948</td>\n",
       "    </tr>\n",
       "    <tr>\n",
       "      <th>4532</th>\n",
       "      <td>2024</td>\n",
       "      <td>Navy</td>\n",
       "      <td>-4.039280</td>\n",
       "      <td>-2.028372</td>\n",
       "    </tr>\n",
       "    <tr>\n",
       "      <th>4533</th>\n",
       "      <td>2024</td>\n",
       "      <td>Mississippi Valley State</td>\n",
       "      <td>-4.365660</td>\n",
       "      <td>-3.570037</td>\n",
       "    </tr>\n",
       "    <tr>\n",
       "      <th>4534</th>\n",
       "      <td>2024</td>\n",
       "      <td>Saint Peter's</td>\n",
       "      <td>-4.708909</td>\n",
       "      <td>-2.127877</td>\n",
       "    </tr>\n",
       "    <tr>\n",
       "      <th>4535</th>\n",
       "      <td>2024</td>\n",
       "      <td>Hartford Hawks</td>\n",
       "      <td>-5.555220</td>\n",
       "      <td>-3.738838</td>\n",
       "    </tr>\n",
       "  </tbody>\n",
       "</table>\n",
       "<p>4536 rows × 4 columns</p>\n",
       "</div>"
      ],
      "text/plain": [
       "      Season                      Team  Past Year Rating  Past 4 Years Ratings\n",
       "0       2012               Connecticut          5.099069              5.576978\n",
       "1       2012                  Stanford          4.731230              4.639040\n",
       "2       2012                    Baylor          4.546418              3.658880\n",
       "3       2012                 Texas A&M          4.457265              3.738744\n",
       "4       2012                 Tennessee          4.306993              4.172733\n",
       "...      ...                       ...               ...                   ...\n",
       "4531    2024            Texas Southern         -3.813642             -1.357948\n",
       "4532    2024                      Navy         -4.039280             -2.028372\n",
       "4533    2024  Mississippi Valley State         -4.365660             -3.570037\n",
       "4534    2024             Saint Peter's         -4.708909             -2.127877\n",
       "4535    2024            Hartford Hawks         -5.555220             -3.738838\n",
       "\n",
       "[4536 rows x 4 columns]"
      ]
     },
     "execution_count": 4,
     "metadata": {},
     "output_type": "execute_result"
    }
   ],
   "source": [
    "df['Past 4 Years Ratings'] = (\n",
    "    df\n",
    "    .groupby(['Team'])\n",
    "    ['Rating']\n",
    "    .rolling(window=4, min_periods=1)\n",
    "    .mean()\n",
    "    .reset_index()\n",
    "    .set_index('level_1')\n",
    ")['Rating']\n",
    "\n",
    "df.rename(\n",
    "    columns={\n",
    "    'Rating': 'Past Year Rating'\n",
    "    }, \n",
    "    inplace=True\n",
    ")\n",
    "\n",
    "df['Season'] += 1  # shift by a year so ratings are from past instead of the current rating\n",
    "\n",
    "df = df.loc[df['Season'] >= 2012, :].reset_index(drop=True)\n",
    "\n",
    "df"
   ]
  },
  {
   "cell_type": "code",
   "execution_count": 10,
   "metadata": {},
   "outputs": [
    {
     "data": {
      "text/plain": [
       "'Done'"
      ]
     },
     "execution_count": 10,
     "metadata": {},
     "output_type": "execute_result"
    }
   ],
   "source": [
    "df.to_csv('../data/preprocessed/womens_my_rankings_full_season/womens_my_rankings_full_season.csv', index=False)\n",
    "\n",
    "'Done'"
   ]
  }
 ],
 "metadata": {
  "kernelspec": {
   "display_name": "clean",
   "language": "python",
   "name": "python3"
  },
  "language_info": {
   "codemirror_mode": {
    "name": "ipython",
    "version": 3
   },
   "file_extension": ".py",
   "mimetype": "text/x-python",
   "name": "python",
   "nbconvert_exporter": "python",
   "pygments_lexer": "ipython3",
   "version": "3.10.4"
  }
 },
 "nbformat": 4,
 "nbformat_minor": 2
}
